{
 "cells": [
  {
   "cell_type": "code",
   "execution_count": 105,
   "id": "c859fed7-07b4-48ec-917c-623b1108d2c5",
   "metadata": {},
   "outputs": [],
   "source": [
    "from pytket import OpType\n",
    "from pytket.extensions.qiskit import AerBackend\n",
    "from pytket.qasm import circuit_from_qasm\n",
    "from pytket.transform import Transform\n",
    "from pytket.passes import PauliSimp, DecomposeBoxes, FullPeepholeOptimise\n",
    "import os"
   ]
  },
  {
   "cell_type": "code",
   "execution_count": 106,
   "id": "db863453-09a7-4e3c-9eaa-ee0bbab52ab5",
   "metadata": {},
   "outputs": [],
   "source": [
    "def tcount(circ):\n",
    "    c_count = circ.copy()\n",
    "    Transform.RebaseToCliffordSingles().apply(c_count)\n",
    "    Transform.RebaseToPyZX().apply(c_count)\n",
    "    return c_count.n_gates_of_type(OpType.Rz)\n",
    "\n",
    "def twoqubitcount(circ):\n",
    "    c_count = circ.copy()\n",
    "    Transform.RebaseToPyZX().apply(c_count)\n",
    "    return c_count.n_gates_of_type(OpType.CX) + c_count.n_gates_of_type(OpType.CZ)\n",
    "\n",
    "def totalqubitcount(circ):\n",
    "    c_count = circ.copy()\n",
    "    Transform.RebaseToPyZX().apply(c_count)\n",
    "    return c_count.n_gates\n",
    "\n",
    "def get_optimized_circuit_stats(c):\n",
    "    c_opt = c.copy()\n",
    "    Transform.RebaseToPyZX().apply(c_opt)\n",
    "    DecomposeBoxes().apply(c_opt)\n",
    "    PauliSimp().apply(c_opt)\n",
    "    FullPeepholeOptimise(allow_swaps=True).apply(c_opt)\n",
    "    Transform.RebaseToPyZX().apply(c_opt)\n",
    "    return (totalqubitcount(c_opt),twoqubitcount(c_opt),tcount(c_opt))"
   ]
  },
  {
   "cell_type": "code",
   "execution_count": 110,
   "id": "e9980163-b5fa-43f8-9597-4f5c67fa4c36",
   "metadata": {},
   "outputs": [
    {
     "name": "stdout",
     "output_type": "stream",
     "text": [
      "rc_adder_6.qc  &  393  &  164  &  43  \\ \n",
      "mod5_4.qc  &  24  &  12  &  8  \\ \n",
      "adder_8.qc  &  1398  &  696  &  173  \\ \n",
      "csla_mux_3.qc  &  360  &  135  &  64  \\ \n",
      "barenco_tof_10.qc  &  568  &  251  &  100  \\ \n",
      "ham15-med.qc  &  1549  &  814  &  212  \\ \n",
      "gf2^7_mult.qc  &  1146  &  725  &  217  \\ \n",
      "csum_mux_9.qc  &  327  &  158  &  84  \\ \n",
      "qcla_com_7.qc  &  452  &  205  &  95  \\ \n",
      "gf2^6_mult.qc  &  769  &  476  &  150  \\ \n",
      "gf2^9_mult.qc  &  2077  &  1368  &  351  \\ \n",
      "hwb6.qc  &  547  &  229  &  76  \\ \n",
      "tof_3.qc  &  50  &  17  &  15  \\ \n",
      "barenco_tof_4.qc  &  126  &  37  &  30  \\ \n",
      "mod_mult_55.qc  &  158  &  65  &  38  \\ \n",
      "gf2^4_mult.qc  &  295  &  179  &  68  \\ \n",
      "qft_4.qc  &  131  &  42  &  40  \\ \n",
      "tof_5.qc  &  136  &  41  &  31  \\ \n",
      "ham15-low.qc  &  1063  &  550  &  99  \\ \n",
      "tof_10.qc  &  356  &  101  &  71  \\ \n",
      "gf2^10_mult.qc  &  2696  &  1914  &  410  \\ \n",
      "vbe_adder_3.qc  &  170  &  59  &  24  \\ \n",
      "mod_red_21.qc  &  396  &  156  &  73  \\ \n",
      "gf2^5_mult.qc  &  538  &  314  &  117  \\ \n",
      "tof_4.qc  &  92  &  29  &  23  \\ \n",
      "gf2^8_mult.qc  &  1777  &  1147  &  264  \\ \n",
      "barenco_tof_5.qc  &  193  &  68  &  40  \\ \n",
      "barenco_tof_3.qc  &  59  &  18  &  16  \\ \n",
      "qcla_adder_10.qc  &  840  &  327  &  168  \\ \n"
     ]
    }
   ],
   "source": [
    "for file in os.listdir('../circuits/feyn_bench/'):\n",
    "    fname = '../circuits/feyn_bench/qasm/'+file.replace('.qc','.qasm')\n",
    "    if '.qc' in file and os.path.isfile(fname):\n",
    "        to, cx, t, = get_optimized_circuit_stats(circuit_from_qasm(fname))\n",
    "        print(file,' & ',to,' & ',cx,' & ',t,' \\\\ ')"
   ]
  },
  {
   "cell_type": "code",
   "execution_count": 88,
   "id": "8eea32da-a631-417e-b521-5b6d9b95af60",
   "metadata": {},
   "outputs": [
    {
     "data": {
      "text/plain": [
       "36"
      ]
     },
     "execution_count": 88,
     "metadata": {},
     "output_type": "execute_result"
    }
   ],
   "source": [
    "Transform.RebaseToCliffordSingles().apply(c_opt)\n",
    "Transform.RebaseToPyZX().apply(c_opt)\n",
    "c_opt.n_gates_of_type(OpType.Rz)"
   ]
  },
  {
   "cell_type": "code",
   "execution_count": 112,
   "id": "dcecb677-35e5-4af8-9605-0bdf6b82d318",
   "metadata": {},
   "outputs": [
    {
     "data": {
      "text/plain": [
       "(1606, 722, 246)"
      ]
     },
     "execution_count": 112,
     "metadata": {},
     "output_type": "execute_result"
    }
   ],
   "source": [
    "cmod = circuit_from_qasm('../circuits/feyn_bench/qasm/qcla_mod_7.qasm')\n",
    "get_optimized_circuit_stats(cmod)\n",
    "# c_opt = cmod.copy()\n",
    "# Transform.RebaseToPyZX().apply(c_opt)\n",
    "# DecomposeBoxes().apply(c_opt)\n",
    "# PauliSimp().apply(c_opt)\n",
    "# FullPeepholeOptimise(allow_swaps=True).apply(c_opt)\n",
    "# Transform.RebaseToPyZX().apply(c_opt)\n",
    "# c_opt"
   ]
  },
  {
   "cell_type": "code",
   "execution_count": null,
   "id": "e2393e80-a57c-4643-bbdf-7f643ecbc5d9",
   "metadata": {},
   "outputs": [],
   "source": []
  }
 ],
 "metadata": {
  "kernelspec": {
   "display_name": "quantum (qiskit,tensorflow,cirq,pennylane)",
   "language": "python",
   "name": "quantum"
  },
  "language_info": {
   "codemirror_mode": {
    "name": "ipython",
    "version": 3
   },
   "file_extension": ".py",
   "mimetype": "text/x-python",
   "name": "python",
   "nbconvert_exporter": "python",
   "pygments_lexer": "ipython3",
   "version": "3.8.10"
  }
 },
 "nbformat": 4,
 "nbformat_minor": 5
}
