{
 "cells": [
  {
   "cell_type": "code",
   "execution_count": 1,
   "id": "virtual-summit",
   "metadata": {},
   "outputs": [
    {
     "data": {
      "text/html": [
       "<style>.container { width:100% !important; }</style>"
      ],
      "text/plain": [
       "<IPython.core.display.HTML object>"
      ]
     },
     "metadata": {},
     "output_type": "display_data"
    }
   ],
   "source": [
    "import sys; sys.path.append('..')\n",
    "import random\n",
    "from IPython.core.display import display, HTML\n",
    "display(HTML(\"<style>.container { width:100% !important; }</style>\"))\n",
    "import pyzx as zx\n",
    "import os\n",
    "import pickle\n",
    "import numpy as np\n",
    "import time\n",
    "%matplotlib inline\n",
    "import matplotlib.pyplot as plt\n",
    "import math"
   ]
  },
  {
   "cell_type": "code",
   "execution_count": 2,
   "id": "sophisticated-oxygen",
   "metadata": {},
   "outputs": [],
   "source": [
    "def save_obj(obj, name):\n",
    "    with open('data/'+ name + '.pkl', 'wb') as f:\n",
    "        pickle.dump(obj, f, pickle.HIGHEST_PROTOCOL)\n",
    "\n",
    "def load_obj(name):\n",
    "    with open('data/' + name + '.pkl', 'rb') as f:\n",
    "        return pickle.load(f)"
   ]
  },
  {
   "cell_type": "code",
   "execution_count": 3,
   "id": "frozen-anatomy",
   "metadata": {},
   "outputs": [],
   "source": [
    "def c_f(tup):\n",
    "    return (tup[0]-tup[1]) + 10*tup[1]\n",
    "\n",
    "def get_entry(obj, name):\n",
    "    return [str(obj[name][0]),str(obj[name][1]),str(c_f(obj[name]))]\n",
    "\n",
    "def get_best(obj):\n",
    "    bestname = 'simulated_annealing_simp'\n",
    "    best_cost = c_f(obj['simulated_annealing_simp'])\n",
    "    for key in obj.keys():\n",
    "        if 'simp' in key and not 'clifford' in key:\n",
    "            wcost = c_f(obj[key])\n",
    "            if wcost < best_cost:\n",
    "                bestname = key\n",
    "                best_cost = wcost\n",
    "    return get_entry(obj, bestname) + [bestname]\n",
    "\n",
    "def get_table_row(obj):\n",
    "    row = []\n",
    "    for entry in ['gatecount','basic_opt','full_reduce','sim_annealing_post']:\n",
    "        row += get_entry(obj, entry)\n",
    "    row += get_best(obj)\n",
    "    return row\n",
    "\n",
    "def get_latex_table_row(obj, circname):\n",
    "    res = [circname.split('.qasm')[0]]\n",
    "    res += get_table_row(obj[circname])\n",
    "    return \" & \".join(res) + ' \\\\\\ \\\\hline'"
   ]
  },
  {
   "cell_type": "code",
   "execution_count": 4,
   "id": "handmade-architecture",
   "metadata": {},
   "outputs": [
    {
     "name": "stdout",
     "output_type": "stream",
     "text": [
      "basis_trotter_n4 & 2598 & 582 & 7836 & 712 & 268 & 3124 & 574 & 190 & 2284 & 569 & 185 & 2234 & 641 & 183 & 2288 & greedy_simp_neighbors_c1 \\\\ \\hline\n",
      "iswap_n2 & 9 & 2 & 27 & 7 & 4 & 43 & 9 & 4 & 45 & 9 & 4 & 45 & 7 & 4 & 43 & random_simp_c-10_b_True \\\\ \\hline\n",
      "qaoa_n3 & 15 & 6 & 69 & 21 & 6 & 75 & 21 & 4 & 57 & 21 & 4 & 57 & 21 & 4 & 57 & simulated_annealing_simp \\\\ \\hline\n",
      "variational_n4 & 54 & 16 & 198 & 40 & 12 & 148 & 70 & 38 & 412 & 66 & 32 & 354 & 62 & 14 & 188 & random_simp_c-10_b_False \\\\ \\hline\n",
      "adder_n4 & 23 & 10 & 113 & 22 & 10 & 112 & 49 & 21 & 238 & 49 & 21 & 238 & 41 & 15 & 176 & random_simp_c-10_b_False \\\\ \\hline\n",
      "dnn_n2 & 514 & 42 & 892 & 168 & 28 & 420 & 171 & 29 & 432 & 171 & 31 & 450 & 149 & 19 & 320 & simulated_annealing_simp \\\\ \\hline\n",
      "bell_n4 & 77 & 7 & 140 & 20 & 5 & 65 & 29 & 7 & 92 & 28 & 6 & 82 & 29 & 5 & 74 & greedy_simp_neighbors_c1 \\\\ \\hline\n",
      "error_correctiond3_n5 & 113 & 49 & 554 & 19 & 11 & 118 & 34 & 20 & 214 & 34 & 20 & 214 & 21 & 10 & 111 & simulated_annealing_simp \\\\ \\hline\n",
      "basis_test_n4 & 110 & 46 & 524 & 74 & 27 & 317 & 70 & 22 & 268 & 64 & 18 & 226 & 60 & 18 & 222 & greedy_simp_neighbors_c1 \\\\ \\hline\n",
      "cat_state_n4 & 4 & 3 & 31 & 4 & 3 & 31 & 10 & 3 & 37 & 10 & 3 & 37 & 10 & 3 & 37 & greedy_simp_neighbors_c1 \\\\ \\hline\n",
      "toffoli_n3 & 18 & 6 & 72 & 18 & 6 & 72 & 36 & 9 & 117 & 36 & 9 & 117 & 34 & 6 & 88 & random_simp_c1_b_True \\\\ \\hline\n",
      "qec_en_n5 & 25 & 10 & 115 & 17 & 14 & 143 & 23 & 14 & 149 & 25 & 16 & 169 & 21 & 12 & 129 & greedy_simp_c1_b_True \\\\ \\hline\n",
      "qrng_n4 & 4 & 0 & 4 & 4 & 0 & 4 & 4 & 0 & 4 & -1 & -1 & -10 & 4 & 0 & 4 & simulated_annealing_simp \\\\ \\hline\n",
      "teleportation_n3 & 8 & 2 & 26 & 8 & 2 & 26 & 10 & 2 & 28 & 10 & 2 & 28 & 10 & 2 & 28 & simulated_annealing_simp \\\\ \\hline\n",
      "wstate_n3 & 34 & 9 & 115 & 24 & 6 & 78 & 38 & 14 & 164 & 40 & 14 & 166 & 34 & 6 & 88 & greedy_simp_neighbors_c1 \\\\ \\hline\n",
      "linearsolver_n3 & 27 & 4 & 63 & 14 & 4 & 50 & 17 & 4 & 53 & 17 & 4 & 53 & 17 & 4 & 53 & random_simp_c1_b_True \\\\ \\hline\n",
      "basis_change_n3 & 125 & 10 & 215 & 86 & 10 & 176 & 80 & 30 & 350 & 76 & 26 & 310 & 93 & 10 & 183 & greedy_simp_neighbors_c-10 \\\\ \\hline\n",
      "hs4_n4 & 28 & 4 & 64 & 12 & 8 & 84 & 17 & 6 & 71 & 17 & 6 & 71 & 10 & 8 & 82 & greedy_simp_c1_b_True \\\\ \\hline\n",
      "vqe_uccsd_n4 & 332 & 88 & 1124 & 138 & 80 & 858 & 94 & 50 & 544 & 86 & 42 & 464 & 89 & 33 & 386 & greedy_simp_neighbors_c1 \\\\ \\hline\n",
      "lpn_n5 & 11 & 2 & 29 & 3 & 2 & 21 & 7 & 2 & 25 & 7 & 2 & 25 & 7 & 2 & 25 & simulated_annealing_simp \\\\ \\hline\n",
      "deutsch_n2 & 5 & 1 & 14 & 4 & 1 & 13 & 6 & 1 & 15 & 6 & 1 & 15 & 6 & 1 & 15 & simulated_annealing_simp \\\\ \\hline\n",
      "grover_n2 & 16 & 2 & 34 & 6 & 4 & 42 & 10 & 4 & 46 & 10 & 4 & 46 & 8 & 4 & 44 & greedy_simp_neighbors_c1 \\\\ \\hline\n",
      "fredkin_n3 & 19 & 8 & 91 & 19 & 8 & 91 & 42 & 17 & 195 & 41 & 14 & 167 & 38 & 9 & 119 & greedy_simp_neighbors_c1 \\\\ \\hline\n",
      "quantumwalks_n2 & 43 & 3 & 70 & 30 & 3 & 57 & 36 & 8 & 108 & 36 & 6 & 90 & 35 & 3 & 62 & greedy_simp_neighbors_c-10 \\\\ \\hline\n"
     ]
    }
   ],
   "source": [
    "# get_latex_table_row(load_obj('qasmbench/medium'),'vqe_uccsd_n6.qasm')\n",
    "obj = load_obj('qasmbench/small')\n",
    "for key in obj.keys():\n",
    "    print(get_latex_table_row(obj,key))"
   ]
  },
  {
   "cell_type": "code",
   "execution_count": null,
   "id": "second-paraguay",
   "metadata": {},
   "outputs": [],
   "source": []
  }
 ],
 "metadata": {
  "kernelspec": {
   "display_name": "Python 3",
   "language": "python",
   "name": "python3"
  },
  "language_info": {
   "codemirror_mode": {
    "name": "ipython",
    "version": 3
   },
   "file_extension": ".py",
   "mimetype": "text/x-python",
   "name": "python",
   "nbconvert_exporter": "python",
   "pygments_lexer": "ipython3",
   "version": "3.9.1"
  }
 },
 "nbformat": 4,
 "nbformat_minor": 5
}
