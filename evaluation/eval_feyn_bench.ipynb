{
 "cells": [
  {
   "cell_type": "code",
   "execution_count": 1,
   "id": "marine-cyprus",
   "metadata": {},
   "outputs": [],
   "source": [
    "import pickle\n",
    "import os"
   ]
  },
  {
   "cell_type": "code",
   "execution_count": 2,
   "id": "irish-sunglasses",
   "metadata": {},
   "outputs": [],
   "source": [
    "def load_circuit_stats(name):\n",
    "    with open('./feyn_bench/stats/' + name + '.pkl', 'rb') as f:\n",
    "        return pickle.load(f)\n",
    "\n",
    "def compare_circuits(c1_data, c2_data):\n",
    "    for criterion in ['T-gates','2-qubit','1-qubit']:\n",
    "        if c1_data[criterion] < c2_data[criterion]:\n",
    "            return 'g'\n",
    "        if c1_data[criterion] > c2_data[criterion]:\n",
    "            return 'l'\n",
    "    return 'e' #completely equal\n",
    "    \n",
    "def get_best_heuristic_circuit(circuit_data):\n",
    "    best_entry = {'idx': 0, 'data': circuit_data[0]}\n",
    "    for idx,entry in enumerate(circuit_data[3:]): #skip original, basic_opt and pyzx\n",
    "        if compare_circuits(entry, best_entry['data']) == 'g':\n",
    "            best_entry = {'idx': idx, 'data': entry}\n",
    "    return best_entry['data']\n",
    "    \n",
    "def get_circuit_data(name, todd=False):\n",
    "    if todd:\n",
    "        data = load_circuit_stats(name+'_t')\n",
    "    else:\n",
    "        data = load_circuit_stats(name)\n",
    "    return (data[0],data[2],get_best_heuristic_circuit(data))\n",
    "\n",
    "def merge_circuit_data(name, todd=False, cols=['1-qubit','2-qubit','T-gates']):\n",
    "    merged_data = []\n",
    "    orig, pyzx, heur = get_circuit_data(name, todd)\n",
    "    merged_data = [orig] #name orig, \n",
    "    for routine in [pyzx, heur]:\n",
    "        for col in cols:\n",
    "            merged_data.append(routine[col])\n",
    "    merged_data.append(heur['strategy'].replace('_','\\symbol{95}'))\n",
    "    return merged_data\n",
    "\n",
    "def format_latex_row(row):\n",
    "    latex_str = \"\"\n",
    "    for entry in row[:-1]:\n",
    "        latex_str += str(entry) + ' & '\n",
    "    latex_str += str(row[-1]) + ' \\\\'\n",
    "    return latex_str\n",
    "\n",
    "def print_results(output_format):\n",
    "    circuit_table = []\n",
    "    for file in os.listdir('./feyn_bench/before/'):\n",
    "        if os.path.isfile('./feyn_bench/stats/' + file + '.pkl'):\n",
    "            circuit_table.append(merge_circuit_data(file, todd=False))\n",
    "    if output_format == 'latex':\n",
    "        latex_str = '' #'1-orig & 2-orig & T-orig & 1-pyzx & 2-pyzx & T-pyzx & 1-heur & 2-heur & T-heur \\\\ \\n'\n",
    "        for circuit in circuit_table:\n",
    "            latex_str += format_latex_row(circuit) + ' sep'\n",
    "        return latex_str\n",
    "    return circuit_table\n",
    "    "
   ]
  },
  {
   "cell_type": "code",
   "execution_count": null,
   "id": "d4b25eee-9484-45e2-9501-2ac4c90e0e6c",
   "metadata": {},
   "outputs": [],
   "source": [
    "print_results('latex')"
   ]
  }
 ],
 "metadata": {
  "kernelspec": {
   "display_name": "Python 3 (ipykernel)",
   "language": "python",
   "name": "python3"
  },
  "language_info": {
   "codemirror_mode": {
    "name": "ipython",
    "version": 3
   },
   "file_extension": ".py",
   "mimetype": "text/x-python",
   "name": "python",
   "nbconvert_exporter": "python",
   "pygments_lexer": "ipython3",
   "version": "3.8.10"
  }
 },
 "nbformat": 4,
 "nbformat_minor": 5
}
