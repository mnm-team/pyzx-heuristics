{
 "cells": [
  {
   "cell_type": "markdown",
   "metadata": {},
   "source": [
    "This is an accompanying notebook for the paper *AKLT-states as ZX-diagrams: diagrammatic reasoning for quantum states*, by East, van de Wetering, Chancellor and Grushin.\n",
    "\n",
    "In this notebook we demonstrate how a 1D AKLT chain can be constructed and simplified inside PyZX."
   ]
  },
  {
   "cell_type": "code",
   "execution_count": null,
   "metadata": {},
   "outputs": [],
   "source": [
    "import sys; sys.path.insert(0,'../..') # If this notebook is run as part of the PyZX repository, this makes Python find the local copy\n",
    "import random, math, os\n",
    "import pyzx as zx # This notebook was created with pyzx version 0.6.3 in mind, newer version might be incompatible.\n",
    "from fractions import Fraction\n",
    "zx.settings.drawing_auto_hbox = False"
   ]
  },
  {
   "cell_type": "markdown",
   "metadata": {},
   "source": [
    "First, we construct the spin-1 symmetriser, that projects the 4-dimensional subspace of two qubit wires down to the 3-dimensional symmetric subspace."
   ]
  },
  {
   "cell_type": "code",
   "execution_count": null,
   "metadata": {},
   "outputs": [],
   "source": [
    "# We load the diagram via its description as a tikz diagram\n",
    "tikz_symmetrizer = r\"\"\"\\begin{tikzpicture}[tikzfig]\n",
    "\t\\begin{pgfonlayer}{nodelayer}\n",
    "\t\t\\node [style=none] (129) at (0, 0) {};\n",
    "\t\t\\node [style=none] (131) at (3.25, 0) {};\n",
    "\t\t\\node [style=none] (132) at (3.25, -1.5) {};\n",
    "\t\t\\node [style=Green Node] (147) at (0.5, 0) {};\n",
    "\t\t\\node [style=Green Node] (148) at (0.5, -1.5) {};\n",
    "\t\t\\node [style=Red Node] (151) at (0.5, -0.75) {};\n",
    "\t\t\\node [style=H] (153) at (1.25, -0.75) {};\n",
    "\t\t\\node [style=Green Node] (155) at (1.25, -0.25) {};\n",
    "\t\t\\node [style=H] (158) at (2, -0.75) {};\n",
    "\t\t\\node [style=Green Node] (159) at (2.75, -0.75) {};\n",
    "\t\t\\node [style=Red Node] (161) at (2.75, 0) {};\n",
    "\t\t\\node [style=Red Node] (162) at (2.75, -1.5) {};\n",
    "\t\t\\node [style=none] (167) at (0, -1.5) {};\n",
    "\t\\end{pgfonlayer}\n",
    "\t\\begin{pgfonlayer}{edgelayer}\n",
    "\t\t\\draw (129.center) to (147);\n",
    "\t\t\\draw (131.center) to (161);\n",
    "\t\t\\draw (161) to (147);\n",
    "\t\t\\draw (147) to (151);\n",
    "\t\t\\draw (151) to (148);\n",
    "\t\t\\draw (148) to (162);\n",
    "\t\t\\draw (162) to (132.center);\n",
    "\t\t\\draw (151) to (153);\n",
    "\t\t\\draw (153) to (158);\n",
    "\t\t\\draw (158) to (159);\n",
    "\t\t\\draw (162) to (159);\n",
    "\t\t\\draw (159) to (161);\n",
    "\t\t\\draw (155) to (153);\n",
    "\t\t\\draw (167.center) to (148);\n",
    "\t\\end{pgfonlayer}\n",
    "\\end{tikzpicture}\n",
    "\"\"\"\n",
    "symmetrizer = zx.Graph.from_tikz(tikz_symmetrizer)\n",
    "symmetrizer.auto_detect_io() # Tell PyZX which boundary vertices are inputs and outputs\n",
    "symmetrizer.scalar.add_power(-1) # Correct normalisation\n",
    "zx.draw(symmetrizer)\n",
    "zx.print_matrix(symmetrizer)"
   ]
  },
  {
   "cell_type": "markdown",
   "metadata": {},
   "source": [
    "We similarly construct the singlet state."
   ]
  },
  {
   "cell_type": "code",
   "execution_count": null,
   "metadata": {},
   "outputs": [],
   "source": [
    "tikz_singlet = r\"\"\"\\begin{tikzpicture}[tikzfig]\n",
    "\t\\begin{pgfonlayer}{nodelayer}\n",
    "\t\t\\node [style=none] (163) at (1, -1.5) {};\n",
    "\t\t\\node [style=Green Node] (164) at (0, 0) {$\\pi$};\n",
    "\t\t\\node [style=Red Node] (165) at (0, -1.5) {$\\pi$};\n",
    "\t\t\\node [style=none] (166) at (1, 0) {};\n",
    "\t\\end{pgfonlayer}\n",
    "\t\\begin{pgfonlayer}{edgelayer}\n",
    "\t\t\\draw (163.center) to (165);\n",
    "\t\t\\draw (165) to (164);\n",
    "\t\t\\draw (164) to (166.center);\n",
    "\t\\end{pgfonlayer}\n",
    "\\end{tikzpicture}\n",
    "\"\"\"\n",
    "singlet = zx.Graph.from_tikz(tikz_singlet)\n",
    "singlet.auto_detect_io()\n",
    "zx.draw(singlet)\n",
    "zx.print_matrix(singlet)"
   ]
  },
  {
   "cell_type": "markdown",
   "metadata": {},
   "source": [
    "In order to construct the AKLT chain by composing diagrams, we also need a small diagram to represent an identity on 1 wire."
   ]
  },
  {
   "cell_type": "code",
   "execution_count": null,
   "metadata": {},
   "outputs": [],
   "source": [
    "ID = zx.generate.identity(1)\n",
    "zx.draw(ID)"
   ]
  },
  {
   "cell_type": "markdown",
   "metadata": {},
   "source": [
    "And now we can construct the AKLT chain:"
   ]
  },
  {
   "cell_type": "code",
   "execution_count": null,
   "metadata": {},
   "outputs": [],
   "source": [
    "N = 5 # Number of spins\n",
    "chain = symmetrizer\n",
    "for i in range(N-1):\n",
    "    chain = chain @ symmetrizer.translate(0,0.5) # Compose diagrams vertically\n",
    "singlets = ID.copy()\n",
    "for i in range(N-1):\n",
    "    singlets = singlets @ singlet.translate(0,0.5) # translate() shifts the diagram vertically, to make them align properly\n",
    "singlets = singlets @ ID.translate(0,0.5)\n",
    "chain =  singlets + chain # Compose them horizontally in diagrammatic order\n",
    "zx.draw(chain)"
   ]
  },
  {
   "cell_type": "markdown",
   "metadata": {},
   "source": [
    "Let us now verify that this state has a non-zero string order parameter. This means that a state like $\\lvert +1,0,0,0,+1 \\rangle$ is not part of the superposition in the AKLT state, while a state like $\\lvert +1,0,0,0,-1 \\rangle$ is part of it.\n",
    "We can detect this by composing the AKLT chain with the effects corresponding to such states, and seeing whether the diagram reduces to zero or not."
   ]
  },
  {
   "cell_type": "markdown",
   "metadata": {},
   "source": [
    "First, we construct the effects $\\langle +1 \\rvert$, $\\langle -1 \\rvert$ and $\\langle 0 \\rvert$. We encode these spin-1 states on the symmetric subspace of two qubits."
   ]
  },
  {
   "cell_type": "code",
   "execution_count": null,
   "metadata": {},
   "outputs": [],
   "source": [
    "tikz_spin1_ket0 = r\"\"\"\\begin{tikzpicture}[tikzfig]\n",
    "\t\\begin{pgfonlayer}{nodelayer}\n",
    "\t\t\\node [style=none] (163) at (0, -1.5) {};\n",
    "\t\t\\node [style=Red Node] (165) at (1, -0.75) {$\\pi$};\n",
    "\t\t\\node [style=none] (166) at (0, 0) {};\n",
    "\t\\end{pgfonlayer}\n",
    "\t\\begin{pgfonlayer}{edgelayer}\n",
    "\t\t\\draw (163.center) to (165);\n",
    "\t\t\\draw (166.center) to (165);\n",
    "\t\\end{pgfonlayer}\n",
    "\\end{tikzpicture}\n",
    "\"\"\"\n",
    "spin1_ket0 = zx.Graph.from_tikz(tikz_spin1_ket0)\n",
    "spin1_ket0.auto_detect_io()\n",
    "\n",
    "spin1_ketplus = ID @ ID.translate(0,0.5)\n",
    "spin1_ketplus.apply_effect(\"00\")\n",
    "spin1_ketmin = ID @ ID.translate(0,0.5)\n",
    "spin1_ketmin.apply_effect(\"11\")\n",
    "zx.draw(spin1_ket0 @ spin1_ketplus @ spin1_ketmin)\n",
    "#zx.draw(spin1_ketplus)\n",
    "#zx.draw(spin1_ketmin)"
   ]
  },
  {
   "cell_type": "markdown",
   "metadata": {},
   "source": [
    "First, let us construct a state that should *not* be a part of the state, by taking the first and last bra to be equal to $\\langle +1 \\rvert$."
   ]
  },
  {
   "cell_type": "code",
   "execution_count": null,
   "metadata": {},
   "outputs": [],
   "source": [
    "effect = spin1_ketplus\n",
    "for i in range(N-2):\n",
    "    effect = effect @ spin1_ket0.translate(0,0.5)\n",
    "effect = effect @ spin1_ketplus.translate(0,0.5)\n",
    "\n",
    "c = chain + effect\n",
    "zx.draw(c)"
   ]
  },
  {
   "cell_type": "markdown",
   "metadata": {},
   "source": [
    "We simplify the diagram with one of the built in simplification routines in PyZX:"
   ]
  },
  {
   "cell_type": "code",
   "execution_count": null,
   "metadata": {},
   "outputs": [],
   "source": [
    "c2 = c.copy()\n",
    "zx.hsimplify.zh_simp(c2, quiet=False) # Perform the simplification\n",
    "c2.normalize() # Change the coordinates of the graph for better displaying\n",
    "zx.draw(c2)"
   ]
  },
  {
   "cell_type": "markdown",
   "metadata": {},
   "source": [
    "As can be seen, the diagram is completely simplified away, but what it is not showing, is its global scalar correction, which is the important point:"
   ]
  },
  {
   "cell_type": "code",
   "execution_count": null,
   "metadata": {},
   "outputs": [],
   "source": [
    "c2.scalar.to_number()"
   ]
  },
  {
   "cell_type": "markdown",
   "metadata": {},
   "source": [
    "Let us now see what would happen if instead we postselect for a configuration that *is* part of the AKLT state, such as $\\lvert +1,0,0,0,-1 \\rangle$:"
   ]
  },
  {
   "cell_type": "code",
   "execution_count": null,
   "metadata": {},
   "outputs": [],
   "source": [
    "effect = spin1_ketplus\n",
    "for i in range(N-2):\n",
    "    effect = effect @ spin1_ket0.translate(0,0.5)\n",
    "effect = effect @ spin1_ketmin.translate(0,0.5)\n",
    "\n",
    "c = chain + effect\n",
    "zx.draw(c)"
   ]
  },
  {
   "cell_type": "code",
   "execution_count": null,
   "metadata": {},
   "outputs": [],
   "source": [
    "c2 = c.copy()\n",
    "zx.hsimplify.zh_simp(c2, quiet=False) # Perform the simplification\n",
    "c2.normalize() # Change the coordinates of the graph for better displaying\n",
    "zx.draw(c2)\n",
    "print(c2.scalar.to_number())"
   ]
  },
  {
   "cell_type": "code",
   "execution_count": null,
   "metadata": {},
   "outputs": [],
   "source": []
  }
 ],
 "metadata": {
  "kernelspec": {
   "display_name": "Python 3",
   "language": "python",
   "name": "python3"
  },
  "language_info": {
   "codemirror_mode": {
    "name": "ipython",
    "version": 3
   },
   "file_extension": ".py",
   "mimetype": "text/x-python",
   "name": "python",
   "nbconvert_exporter": "python",
   "pygments_lexer": "ipython3",
   "version": "3.8.5"
  }
 },
 "nbformat": 4,
 "nbformat_minor": 2
}
