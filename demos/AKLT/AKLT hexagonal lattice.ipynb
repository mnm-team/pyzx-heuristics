{
 "cells": [
  {
   "cell_type": "markdown",
   "metadata": {},
   "source": [
    "This is an accompanying notebook for the paper *AKLT-states as ZX-diagrams: diagrammatic reasoning for quantum states*, by East, van de Wetering, Chancellor and Grushin.\n",
    "\n",
    "In this notebook we demonstrate how a 2D AKLT state on a hexagonal lattice can be constructed and simplified inside PyZX."
   ]
  },
  {
   "cell_type": "code",
   "execution_count": null,
   "metadata": {},
   "outputs": [],
   "source": [
    "import sys; sys.path.insert(0,'../..')\n",
    "import random\n",
    "import pyzx as zx # This notebook was created with pyzx version 0.6.3 in mind, newer version might be incompatible.\n",
    "from fractions import Fraction\n",
    "zx.settings.drawing_auto_hbox = False"
   ]
  },
  {
   "cell_type": "markdown",
   "metadata": {},
   "source": [
    "First, we construct the spin-3/2 symmetriser, that projects the 8-dimensional subspace of three qubit wires down to the 4-dimensional symmetric subspace."
   ]
  },
  {
   "cell_type": "code",
   "execution_count": null,
   "metadata": {},
   "outputs": [],
   "source": [
    "# We load the diagram via its description as a tikz diagram\n",
    "tikz_symmetrizer = r\"\"\"\\begin{tikzpicture}[tikzfig]\n",
    "\t\\begin{pgfonlayer}{nodelayer}\n",
    "\t\t\\node [style=Red Node] (76) at (0.75, -0.75) {};\n",
    "\t\t\\node [style=Red Node] (77) at (3, 0) {};\n",
    "\t\t\\node [style=Red Node] (78) at (3, -1.5) {};\n",
    "\t\t\\node [style=Red Node] (79) at (6.75, -3) {};\n",
    "\t\t\\node [style=Red Node] (80) at (6.75, 0) {};\n",
    "\t\t\\node [style=Red Node] (81) at (3.75, -2) {};\n",
    "\t\t\\node [style=Green Node] (82) at (0.75, -1.5) {};\n",
    "\t\t\\node [style=Green Node] (83) at (0.75, 0) {};\n",
    "\t\t\\node [style=Green Node] (84) at (3, -0.75) {};\n",
    "\t\t\\node [style=Green Node] (85) at (3.75, 0) {};\n",
    "\t\t\\node [style=Green Node] (86) at (6.75, -2) {};\n",
    "\t\t\\node [style=Green Node] (87) at (4.75, -0.25) {};\n",
    "\t\t\\node [style=H] (88) at (4.75, -1) {};\n",
    "\t\t\\node [style=none] (89) at (10.25, 0) {};\n",
    "\t\t\\node [style=none] (90) at (0, 0) {};\n",
    "\t\t\\node [style=none] (91) at (0, -1.5) {};\n",
    "\t\t\\node [style=none] (92) at (0, -3) {};\n",
    "\t\t\\node [style=Green Node] (93) at (3.75, -3) {};\n",
    "\t\t\\node [style=Green Node] (94) at (1.5, -0.25) {};\n",
    "\t\t\\node [style=H] (95) at (1.5, -0.75) {};\n",
    "\t\t\\node [style=H] (96) at (4.75, -2) {};\n",
    "\t\t\\node [style=H] (97) at (2.25, -0.75) {};\n",
    "\t\t\\node [style=H] (98) at (5.75, -2) {};\n",
    "\t\t\\node [style=Green Node] (99) at (6, -1) {};\n",
    "\t\t\\node [style=Red Node] (100) at (7.75, -2.25) {};\n",
    "\t\t\\node [style=Red Node] (101) at (9.75, -1.5) {};\n",
    "\t\t\\node [style=Red Node] (102) at (9.75, -3) {};\n",
    "\t\t\\node [style=Green Node] (103) at (7.75, -3) {};\n",
    "\t\t\\node [style=Green Node] (104) at (7.75, -1.5) {};\n",
    "\t\t\\node [style=Green Node] (105) at (9.75, -2.25) {};\n",
    "\t\t\\node [style=H] (106) at (8.25, -2.25) {};\n",
    "\t\t\\node [style=H] (107) at (9, -2.25) {};\n",
    "\t\t\\node [style=none] (108) at (10.25, -1.5) {};\n",
    "\t\t\\node [style=none] (109) at (10.25, -3) {};\n",
    "\t\\end{pgfonlayer}\n",
    "\t\\begin{pgfonlayer}{edgelayer}\n",
    "\t\t\\draw (90.center) to (83);\n",
    "\t\t\\draw (82) to (78);\n",
    "\t\t\\draw (83) to (77);\n",
    "\t\t\\draw (77) to (85);\n",
    "\t\t\\draw (85) to (80);\n",
    "\t\t\\draw (80) to (89.center);\n",
    "\t\t\\draw (93) to (79);\n",
    "\t\t\\draw (79) to (86);\n",
    "\t\t\\draw (81) to (93);\n",
    "\t\t\\draw (82) to (76);\n",
    "\t\t\\draw (76) to (83);\n",
    "\t\t\\draw (78) to (84);\n",
    "\t\t\\draw (84) to (77);\n",
    "\t\t\\draw (81) to (85);\n",
    "\t\t\\draw (86) to (80);\n",
    "\t\t\\draw (88) to (87);\n",
    "\t\t\\draw (95) to (94);\n",
    "\t\t\\draw (81) to (96);\n",
    "\t\t\\draw (96) to (98);\n",
    "\t\t\\draw (98) to (86);\n",
    "\t\t\\draw (76) to (95);\n",
    "\t\t\\draw (95) to (97);\n",
    "\t\t\\draw (97) to (84);\n",
    "\t\t\\draw (88) to (99);\n",
    "\t\t\\draw (82) to (91.center);\n",
    "\t\t\\draw (93) to (92.center);\n",
    "\t\t\\draw (103) to (102);\n",
    "\t\t\\draw (104) to (101);\n",
    "\t\t\\draw (103) to (100);\n",
    "\t\t\\draw (100) to (104);\n",
    "\t\t\\draw (102) to (105);\n",
    "\t\t\\draw (105) to (101);\n",
    "\t\t\\draw (100) to (106);\n",
    "\t\t\\draw (106) to (107);\n",
    "\t\t\\draw (107) to (105);\n",
    "\t\t\\draw (104) to (78);\n",
    "\t\t\\draw (103) to (79);\n",
    "\t\t\\draw (108.center) to (101);\n",
    "\t\t\\draw (109.center) to (102);\n",
    "\t\t\\draw (88) to (96);\n",
    "\t\t\\draw [bend left=15, looseness=0.75] (99) to (106);\n",
    "\t\\end{pgfonlayer}\n",
    "\\end{tikzpicture}\n",
    "\"\"\"\n",
    "symmetrizer = zx.Graph.from_tikz(tikz_symmetrizer)\n",
    "symmetrizer.auto_detect_io() # Tell PyZX which boundary vertices are inputs and outputs\n",
    "symmetrizer.scalar.add_power(-1) # Correct normalisation\n",
    "zx.draw(symmetrizer)\n",
    "zx.print_matrix(symmetrizer)"
   ]
  },
  {
   "cell_type": "markdown",
   "metadata": {},
   "source": [
    "Now we construct the three POVM elements that we will use to measure the AKLT state."
   ]
  },
  {
   "cell_type": "code",
   "execution_count": null,
   "metadata": {},
   "outputs": [],
   "source": [
    "E_z = zx.generate.spider(\"Z\",3,1)\n",
    "E_x = zx.generate.spider(\"X\",3,1)\n",
    "S = zx.generate.spider(\"Z\",1,1,phase=Fraction(1,2)) # The S gate\n",
    "Sdg = S.adjoint() # Adjoint of S\n",
    "E_y = (Sdg @ Sdg @ Sdg) + E_x + S # The symbol @ represents tensor product, while + is horizontal composition in diagrammatic order.\n",
    "zx.draw(E_z @ E_x @ E_y)"
   ]
  },
  {
   "cell_type": "markdown",
   "metadata": {},
   "source": [
    "Let us now demonstrate that each of these POVM elements applied to the symmetriser results in just the POVM element (up to a scalar factor):"
   ]
  },
  {
   "cell_type": "code",
   "execution_count": null,
   "metadata": {},
   "outputs": [],
   "source": [
    "diagram = symmetrizer + E_z\n",
    "zx.draw(diagram)\n",
    "zx.hsimplify.zh_simp(diagram)\n",
    "zx.draw(diagram)"
   ]
  },
  {
   "cell_type": "markdown",
   "metadata": {},
   "source": [
    "Note that the resulting diagram has this 'floating' scalar subdiagram (you might need to move some spiders in the figure to see this clearly). This scalar diagram is equal to the number 6 and can be safely ignored.\n",
    "While in the paper we used several applications of the bialgebra rule to simplify this diagram, PyZX uses a rule based on pivoting (described in Appendix B of the paper), that is more friendly to automation."
   ]
  },
  {
   "cell_type": "markdown",
   "metadata": {},
   "source": [
    "We can do the same thing with `E_x`, but here we get a bunch of blue wires that represent wires with a Hadamard on them. Hence, by using the 'colour-change' rule that relates the Z and X spider we get the desired result:"
   ]
  },
  {
   "cell_type": "code",
   "execution_count": null,
   "metadata": {},
   "outputs": [],
   "source": [
    "diagram = symmetrizer + E_x\n",
    "zx.hsimplify.zh_simp(diagram,quiet=True)\n",
    "print(\"Simplified:\")\n",
    "zx.draw(diagram)\n",
    "print(\"With the correct colour:\")\n",
    "zx.to_rg(diagram) # rg stands for 'red-green'\n",
    "zx.draw(diagram)"
   ]
  },
  {
   "cell_type": "markdown",
   "metadata": {},
   "source": [
    "Simplifying the diagram but with `E_y` instead of `E_x` results in a bit more complicated diagram. This is however very close to the  diagram that pyzx produces when applied to `E_y` directly. It is simply the 'fixed-point' that pyzx finds."
   ]
  },
  {
   "cell_type": "code",
   "execution_count": null,
   "metadata": {},
   "outputs": [],
   "source": [
    "print(\"First E_y:\")\n",
    "zx.draw(E_y)\n",
    "print(\"E_y applied to the symmetriser and simplified:\")\n",
    "diagram = symmetrizer + E_y\n",
    "zx.hsimplify.zh_simp(diagram,quiet=True)\n",
    "zx.draw(diagram)\n",
    "print(\"This looks more complicated, but note that 'simplifying' E_y directly gives basically the same result:\")\n",
    "g = E_y.copy()\n",
    "zx.hsimplify.zh_simp(g,quiet=True)\n",
    "zx.draw(g)\n",
    "print(\"Indeed, these implement the same linear map up to global scalar:\")\n",
    "display(zx.print_matrix(diagram))\n",
    "display(zx.print_matrix(g))"
   ]
  },
  {
   "cell_type": "markdown",
   "metadata": {},
   "source": [
    "Now let us create one hexagonal cell consisting of the spin-3/2 symmetrisers connected by singlets.\n",
    "PyZX doesn't allow us to easily organise the spin-3/2 components in a hexagonal pattern so the reader will have to some imagination.\n",
    "In the cell below we first construct the six separate components with the $\\pi$ phases required for the hexagonal cell.\n",
    "The way these components should be interpreted is that we go from top left to bottom right. So the first 3 wires are the top left cell, the second 3 wires are the top right cell, then we go middle left, middle right, bottom left and bottom right."
   ]
  },
  {
   "cell_type": "code",
   "execution_count": null,
   "metadata": {},
   "outputs": [],
   "source": [
    "hexgrid = symmetrizer @ symmetrizer.translate(10,0) @ symmetrizer @ symmetrizer.translate(10,0) @ symmetrizer @ symmetrizer.translate(10,0)\n",
    "Y = zx.generate.spider(\"Z\",1,1,phase=1) + zx.generate.spider(\"X\",1,1,phase=1)\n",
    "ID = zx.generate.identity(1)\n",
    "paulis = (Y @ Y @ Y @ Y.translate(0,1.3) @ ID @ Y @ ID.translate(0,1.3) @ Y @ Y @ ID.translate(0,1.3) \n",
    "          @ Y @ Y @ ID.translate(0,1.3) @ Y @ Y @ ID @ ID @ Y)\n",
    "hexgrid =  paulis + hexgrid\n",
    "zx.draw(hexgrid)"
   ]
  },
  {
   "cell_type": "markdown",
   "metadata": {},
   "source": [
    "Now we connect the components together according to the hexagonal pattern.\n",
    "The code might look a bit arbitrary, but with reference to Figure 4 of the paper one can see that we get the same structure."
   ]
  },
  {
   "cell_type": "code",
   "execution_count": null,
   "metadata": {},
   "outputs": [],
   "source": [
    "connectivity = [(1,4), (2,6), (5,9), (8,12), (11,15), (13,16)]\n",
    "rem_verts = []\n",
    "inputs = list(hexgrid.inputs())\n",
    "for i,j in connectivity:\n",
    "    b1 = inputs[i]\n",
    "    b2 = inputs[j]\n",
    "    v1 = list(hexgrid.neighbors(b1))[0] # works because b1 only has a single neighbor\n",
    "    v2 = list(hexgrid.neighbors(b2))[0]\n",
    "    hexgrid.add_edge(g.edge(v1,v2))\n",
    "    rem_verts.append(b1)\n",
    "    rem_verts.append(b2)\n",
    "\n",
    "for b in rem_verts:\n",
    "    inputs.remove(b)\n",
    "hexgrid.set_inputs(tuple(inputs))\n",
    "hexgrid.remove_vertices(rem_verts)\n",
    "zx.draw(hexgrid)"
   ]
  },
  {
   "cell_type": "markdown",
   "metadata": {},
   "source": [
    "Now we measure each of the spin-3/2s with one of the components of the POVM. Change the seed of the random generation to change the outcome."
   ]
  },
  {
   "cell_type": "code",
   "execution_count": null,
   "metadata": {},
   "outputs": [],
   "source": [
    "random.seed(458348)\n",
    "measurement = zx.Graph()\n",
    "for i in range(6):\n",
    "    c = random.choice(['z','x','y'])\n",
    "    if c == 'z': measurement = measurement @ E_z.translate(0,0.7)\n",
    "    if c == 'x': measurement = measurement @ E_x.translate(0,0.7)\n",
    "    if c == 'y': measurement = measurement @ E_y.translate(0,0.7)\n",
    "g = hexgrid.copy()\n",
    "g = g + measurement\n",
    "zx.draw(g)"
   ]
  },
  {
   "cell_type": "markdown",
   "metadata": {},
   "source": [
    "By simplifying the diagram we see that this reduces to a Clifford diagram."
   ]
  },
  {
   "cell_type": "code",
   "execution_count": null,
   "metadata": {},
   "outputs": [],
   "source": [
    "zx.hsimplify.zh_simp(g)\n",
    "g.normalize() # Change the coordinates of the spiders for easier drawing\n",
    "zx.draw(g)"
   ]
  },
  {
   "cell_type": "markdown",
   "metadata": {},
   "source": [
    "Note that this is not a stabiliser state as we also have inputs. These inputs correspond to the open edges corresponding to the part of the hexagonal lattice we have not filled in. By picking some arbitrary Clifford inputs here we get a graph state up to some local Cliffords as expected."
   ]
  }
 ],
 "metadata": {
  "kernelspec": {
   "display_name": "Python 3",
   "language": "python",
   "name": "python3"
  },
  "language_info": {
   "codemirror_mode": {
    "name": "ipython",
    "version": 3
   },
   "file_extension": ".py",
   "mimetype": "text/x-python",
   "name": "python",
   "nbconvert_exporter": "python",
   "pygments_lexer": "ipython3",
   "version": "3.8.5"
  }
 },
 "nbformat": 4,
 "nbformat_minor": 2
}
