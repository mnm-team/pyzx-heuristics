{
 "cells": [
  {
   "cell_type": "markdown",
   "metadata": {},
   "source": [
    "# Getting Started\n",
    "\n",
    "We start by importing the library and configuring matplotlib to display the figures in a nice way."
   ]
  },
  {
   "cell_type": "code",
   "execution_count": null,
   "metadata": {},
   "outputs": [],
   "source": [
    "import sys; sys.path.insert(0, '..')\n",
    "import random\n",
    "import pyzx as zx"
   ]
  },
  {
   "cell_type": "markdown",
   "metadata": {},
   "source": [
    "Then we can create a new random Clifford circuit and visualise it."
   ]
  },
  {
   "cell_type": "code",
   "execution_count": null,
   "metadata": {},
   "outputs": [],
   "source": [
    "qubit_amount = 4\n",
    "depth = 15\n",
    "random.seed(1337)\n",
    "circ = zx.generate.cliffords(qubit_amount, depth)\n",
    "zx.draw_matplotlib(circ,labels=True,h_edge_draw='box')"
   ]
  },
  {
   "cell_type": "markdown",
   "metadata": {},
   "source": [
    "The green and red nodes represent Z- and X-phase gates respectively, the yellow boxes are Hadamard gates, and the vertical lines going between two different colored nodes are CNOT gates.\n",
    "\n",
    "Internally this circuit is represented as a graph:"
   ]
  },
  {
   "cell_type": "code",
   "execution_count": null,
   "metadata": {},
   "outputs": [],
   "source": [
    "print(circ)\n",
    "print(\"All edges: \", list(circ.edges()))\n",
    "print(\"\\nThe neighbors of a particular vertex: \", list(circ.neighbors(14)))"
   ]
  },
  {
   "cell_type": "markdown",
   "metadata": {},
   "source": [
    "Using this graph representation we can use the rules of the ZX-calculus to simplify it:"
   ]
  },
  {
   "cell_type": "code",
   "execution_count": null,
   "metadata": {},
   "outputs": [],
   "source": [
    "g = circ.copy()\n",
    "zx.clifford_simp(g)"
   ]
  },
  {
   "cell_type": "code",
   "execution_count": null,
   "metadata": {},
   "outputs": [],
   "source": [
    "g.normalize() # Reposition nodes horizontally to look nicer\n",
    "zx.draw(g)"
   ]
  },
  {
   "cell_type": "markdown",
   "metadata": {},
   "source": [
    "The blue lines represent edges that have a Hadamard gate on them."
   ]
  },
  {
   "cell_type": "markdown",
   "metadata": {},
   "source": [
    "Let's try to see in a bit more detail what goes into rewriting this circuit."
   ]
  },
  {
   "cell_type": "code",
   "execution_count": null,
   "metadata": {},
   "outputs": [],
   "source": [
    "from ipywidgets import widgets\n",
    "from IPython.display import display, Markdown\n",
    "\n",
    "from pyzx.simplify import clifford_iter\n",
    "\n",
    "graph = circ.copy()\n",
    "graphs = [zx.draw_matplotlib(graph)]\n",
    "names = [\"start\"]\n",
    "for gs, n in clifford_iter(graph):\n",
    "    graphs.append(zx.draw_matplotlib(gs))\n",
    "    names.append(n)\n",
    "zx.drawing.pack_circuit_nf(gs,'grg')\n",
    "graphs.append(zx.draw_matplotlib(gs))\n",
    "names.append(\"reposition\")\n",
    "\n",
    "def plotter(rewrite):\n",
    "    display(Markdown(\"Rewrite step: \" + names[rewrite]))\n",
    "    display(graphs[rewrite])\n",
    "\n",
    "w = widgets.interactive(plotter, rewrite=(0,len(graphs)-1))\n",
    "slider = w.children[0]\n",
    "slider.layout.width = \"{!s}px\".format(min(800,50*len(graphs)))\n",
    "output = w.children[-1]\n",
    "output.layout.height = \"{!s}px\".format(200+qubit_amount*20)\n",
    "slider.value = 0\n",
    "w"
   ]
  },
  {
   "cell_type": "markdown",
   "metadata": {},
   "source": [
    "As you can see, the first few steps are **spider fusion**, where adjacent red nodes and adjacent green nodes are fused together (and their phases added). The next step is to convert all red nodes to green nodes by changing regular edges to hadamard edges.\n",
    "\n",
    "Now come the steps that do most of the work. These steps are a round of **pivots** followed by **local complementations** and then a round of pivots again. The local complementation rules looks for green nodes with a phase of $\\frac\\pi2$ or $\\frac{3\\pi}2$. By doing a local complementation on this node we can remove the node from the graph. This process is done until no more suitable candidates are found. A pivot consists of a series of three local complementations that is done on two neighboring vertices that have a zero or $\\pi$ phase. A pivot move allows us to remove these two nodes.\n",
    "\n",
    "Finally we do a round of **identity** simplification which removes phaseless nodes that are connected to precisely two neighbors.\n",
    "\n",
    "**Note**: Depending on the circuit that was generated, any of these steps might not have been done."
   ]
  },
  {
   "cell_type": "markdown",
   "metadata": {},
   "source": [
    "Even though this graph is a lot compacter than the one we started out with, it no longer looks like a circuit. To fix this we need to be clever and *extract* a circuit from the ZX-diagram:"
   ]
  },
  {
   "cell_type": "code",
   "execution_count": null,
   "metadata": {},
   "outputs": [],
   "source": [
    "circ2 = g.copy()\n",
    "circ2.normalize()\n",
    "circ2 = zx.extract_circuit(circ2)\n",
    "zx.draw(circ2)"
   ]
  },
  {
   "cell_type": "markdown",
   "metadata": {},
   "source": [
    "To verify that this circuit is still equal to the original circuit, we can transform them into numpy tensors and compare these tensors for equality:"
   ]
  },
  {
   "cell_type": "code",
   "execution_count": null,
   "metadata": {},
   "outputs": [],
   "source": [
    "t1 = circ.to_tensor()\n",
    "t2 = circ2.to_tensor()\n",
    "# This checks whether t1 and t2 are equal up to some number: t1 == z*t2 for some complex number z\n",
    "zx.compare_tensors(t1,t2,preserve_scalar=False) "
   ]
  },
  {
   "cell_type": "markdown",
   "metadata": {},
   "source": [
    "We can represent the circuit in one of several quantum circuit description languages, such as that of QUIPPER:"
   ]
  },
  {
   "cell_type": "code",
   "execution_count": null,
   "metadata": {},
   "outputs": [],
   "source": [
    "print(circ2.to_quipper())"
   ]
  },
  {
   "cell_type": "markdown",
   "metadata": {},
   "source": [
    "Now lets try the same thing with a more complicated Clifford+T circuit."
   ]
  },
  {
   "cell_type": "code",
   "execution_count": null,
   "metadata": {},
   "outputs": [],
   "source": [
    "qubit_amount = 6\n",
    "depth = 70\n",
    "random.seed(1338)\n",
    "circ = zx.generate.cliffordT(qubit_amount, depth,p_t=0.2)\n",
    "zx.draw(circ)"
   ]
  },
  {
   "cell_type": "code",
   "execution_count": null,
   "metadata": {},
   "outputs": [],
   "source": [
    "g = circ.copy()\n",
    "zx.clifford_simp(g, quiet=True)\n",
    "g.normalize()\n",
    "zx.draw(g)"
   ]
  },
  {
   "cell_type": "markdown",
   "metadata": {},
   "source": [
    "Again, let us extract a circuit from this diagram:"
   ]
  },
  {
   "cell_type": "code",
   "execution_count": null,
   "metadata": {},
   "outputs": [],
   "source": [
    "g2 = g.copy()\n",
    "c = zx.extract_circuit(g2)\n",
    "print(c.stats())"
   ]
  },
  {
   "cell_type": "markdown",
   "metadata": {},
   "source": [
    "We can convert this back into a PyZX-graph:"
   ]
  },
  {
   "cell_type": "code",
   "execution_count": null,
   "metadata": {},
   "outputs": [],
   "source": [
    "zx.draw(c.to_graph())"
   ]
  },
  {
   "cell_type": "markdown",
   "metadata": {},
   "source": [
    "And verify that it is still equal to the original graph:"
   ]
  },
  {
   "cell_type": "code",
   "execution_count": null,
   "metadata": {},
   "outputs": [],
   "source": [
    "# We can just feed the Circuit objects directly to compare_tensors\n",
    "zx.compare_tensors(c, circ)"
   ]
  },
  {
   "cell_type": "markdown",
   "metadata": {},
   "source": [
    "Now lets represent this circuit in the QASM circuit description language:"
   ]
  },
  {
   "cell_type": "code",
   "execution_count": null,
   "metadata": {},
   "outputs": [],
   "source": [
    "print(c.to_basic_gates().to_qasm())"
   ]
  },
  {
   "cell_type": "code",
   "execution_count": null,
   "metadata": {},
   "outputs": [],
   "source": []
  }
 ],
 "metadata": {
  "kernelspec": {
   "display_name": "Python 3",
   "language": "python",
   "name": "python3"
  },
  "language_info": {
   "codemirror_mode": {
    "name": "ipython",
    "version": 3
   },
   "file_extension": ".py",
   "mimetype": "text/x-python",
   "name": "python",
   "nbconvert_exporter": "python",
   "pygments_lexer": "ipython3",
   "version": "3.8.10"
  }
 },
 "nbformat": 4,
 "nbformat_minor": 2
}
