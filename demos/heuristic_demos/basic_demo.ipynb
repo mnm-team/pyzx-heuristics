{
 "cells": [
  {
   "cell_type": "code",
   "execution_count": 1,
   "id": "guilty-owner",
   "metadata": {},
   "outputs": [],
   "source": [
    "import sys; sys.path.append('../..')\n",
    "import random\n",
    "import pyzx as zx\n",
    "import os\n",
    "import pickle\n",
    "import time"
   ]
  },
  {
   "cell_type": "code",
   "execution_count": 2,
   "id": "9ac2d8b4",
   "metadata": {},
   "outputs": [],
   "source": [
    "import logging\n",
    "\n",
    "logger = logging.getLogger()\n",
    "logger.setLevel(logging.INFO)"
   ]
  },
  {
   "cell_type": "code",
   "execution_count": 3,
   "id": "2600c747",
   "metadata": {},
   "outputs": [],
   "source": [
    "def sliding_window(elements, window_size):\n",
    "    if len(elements) < window_size:\n",
    "        return [elements]\n",
    "    \n",
    "    for i in range(len(elements) - window_size + 1):\n",
    "        yield elements[i:i+window_size]"
   ]
  },
  {
   "cell_type": "markdown",
   "id": "banner-vegetable",
   "metadata": {},
   "source": [
    "### Heuristic simplification\n",
    "- When simplifying ZX-diagrams with T-spiders, simplification routines like full_reduce lead to a very high two-qubit gate count.\n",
    "- When using heuristic-based approaches we can circumvent the problem to some extent leading to better overall circuit cost after optimization"
   ]
  },
  {
   "cell_type": "code",
   "execution_count": 4,
   "id": "light-emphasis",
   "metadata": {},
   "outputs": [
    {
     "name": "stdout",
     "output_type": "stream",
     "text": [
      "Circuit  on 10 qubits with 500 gates.\n",
      "        132 is the T-count\n",
      "        368 Cliffords among which\n",
      "        260 2-qubit gates (260 CNOT, 0 other) and\n",
      "        0 Hadamard gates.\n"
     ]
    }
   ],
   "source": [
    "random.seed(1342)\n",
    "g = zx.generate.cliffordT(qubits=10, depth=500, p_t=0.3, p_cnot=0.5)\n",
    "c = zx.Circuit.from_graph(g)\n",
    "print(c.stats())"
   ]
  },
  {
   "cell_type": "code",
   "execution_count": 5,
   "id": "enabling-referral",
   "metadata": {},
   "outputs": [
    {
     "name": "stdout",
     "output_type": "stream",
     "text": [
      "Circuit  on 10 qubits with 464 gates.\n",
      "        56 is the T-count\n",
      "        408 Cliffords among which\n",
      "        252 2-qubit gates (248 CNOT, 4 other) and\n",
      "        46 Hadamard gates.\n"
     ]
    }
   ],
   "source": [
    "c = zx.optimize.basic_optimization(c.split_phase_gates())\n",
    "g = c.to_graph()\n",
    "g_tele = zx.simplify.teleport_reduce(g)\n",
    "g_tele.track_phases = False\n",
    "print(zx.Circuit.from_graph(g).split_phase_gates().stats())"
   ]
  },
  {
   "cell_type": "code",
   "execution_count": 6,
   "id": "ahead-lease",
   "metadata": {},
   "outputs": [
    {
     "name": "stdout",
     "output_type": "stream",
     "text": [
      "Circuit  on 10 qubits with 439 gates.\n",
      "        56 is the T-count\n",
      "        383 Cliffords among which\n",
      "        287 2-qubit gates (67 CNOT, 220 other) and\n",
      "        90 Hadamard gates.\n"
     ]
    }
   ],
   "source": [
    "g_full = g_tele.copy()\n",
    "zx.simplify.full_reduce(g_full)\n",
    "print(zx.extract_circuit(g_full.copy()).stats())"
   ]
  },
  {
   "cell_type": "code",
   "execution_count": 7,
   "id": "41857d90",
   "metadata": {},
   "outputs": [
    {
     "name": "stdout",
     "output_type": "stream",
     "text": [
      "Lookahead: 0\n"
     ]
    },
    {
     "name": "stderr",
     "output_type": "stream",
     "text": [
      "INFO:root:Applied matches: [{'match': (5, (694, 695), -2), 'match type': 'pivot'}, {'match': (5, (700, 701), -2), 'match type': 'pivot'}, {'match': (5, (682, 683), -2), 'match type': 'pivot'}, {'match': (5, (688, 689), -2), 'match type': 'pivot'}, {'match': (5, (670, 671), -2), 'match type': 'pivot'}, {'match': (5, (676, 677), -2), 'match type': 'pivot'}, {'match': (5, (664, 665), -2), 'match type': 'pivot'}, {'match': (5, (571, 576), -2), 'match type': 'pivot'}, {'match': (5, (658, 659), -2), 'match type': 'pivot'}, {'match': (4, (365, 366), -2), 'match type': 'pivot'}, {'match': (4, (465, 479), -2), 'match type': 'pivot'}, {'match': (3, (637, 640), -2), 'match type': 'pivot'}, {'match': (3, (76, 95), -2), 'match type': 'pivot'}, {'match': (3, (644, 652), -2), 'match type': 'pivot'}, {'match': (2, (457, 473), -2), 'match type': 'pivot'}, {'match': (2, (657, 660), -2), 'match type': 'pivot'}, {'match': (2, (690, 693), -2), 'match type': 'pivot'}, {'match': (2, (678, 687), -2), 'match type': 'pivot'}, {'match': (2, (663, 666), -2), 'match type': 'pivot'}, {'match': (2, (696, 699), -2), 'match type': 'pivot'}, {'match': (2, (131, 135), -2), 'match type': 'pivot'}, {'match': (2, (182, 183), -2), 'match type': 'pivot'}, {'match': (2, (88, 97), -2), 'match type': 'pivot'}, {'match': (2, (162, 167), -2), 'match type': 'pivot'}, {'match': (2, (595, 681), -2), 'match type': 'pivot'}, {'match': (2, (124, 138), -2), 'match type': 'pivot'}, {'match': (2, (393, 397), -2), 'match type': 'pivot'}, {'match': (1, (444, 445), -2), 'match type': 'pivot'}, {'match': (1, (390, 410), -2), 'match type': 'pivot'}, {'match': (1, (106, 107), -2), 'match type': 'pivot'}, {'match': (1, (280, 292), -2), 'match type': 'pivot'}, {'match': (1, (549, 550), -2), 'match type': 'pivot'}, {'match': (1, (157, 170), -2), 'match type': 'pivot'}, {'match': (2, (150, 171), -2), 'match type': 'pivot'}, {'match': (1, (261, 272), -2), 'match type': 'pivot'}, {'match': (1, (312, 313), -2), 'match type': 'pivot'}, {'match': (1, (231, 244), -2), 'match type': 'pivot'}, {'match': (1, (204, 255), -2), 'match type': 'pivot'}, {'match': (1, (105, 114), -2), 'match type': 'pivot'}, {'match': (1, (574, 601), -2), 'match type': 'pivot'}, {'match': (3, (578, 587), -2), 'match type': 'pivot'}, {'match': (2, (541, 544), -2), 'match type': 'pivot'}, {'match': (3, (493, 537), -2), 'match type': 'pivot'}, {'match': (1, (412, 413), -2), 'match type': 'pivot'}, {'match': (2, (384, 433), -2), 'match type': 'pivot'}, {'match': (1, (127, 145), -2), 'match type': 'pivot'}, {'match': (1, (50, 51), -2), 'match type': 'pivot'}, {'match': (1, (321, 322), -2), 'match type': 'pivot'}, {'match': (1, (477, 517), -2), 'match type': 'pivot'}, {'match': (1, (643, 675), -2), 'match type': 'pivot'}, {'match': (1, (226, 251), -2), 'match type': 'pivot'}, {'match': (1, (199, 200), -2), 'match type': 'pivot'}, {'match': (1, (522, 523), -2), 'match type': 'pivot'}, {'match': (1.0, (12, [11, 34]), -1), 'match type': 'lcomp'}, {'match': (1.0, (512, [511, 562]), -1), 'match type': 'lcomp'}, {'match': (1.0, (32, [33, 14]), -1), 'match type': 'lcomp'}, {'match': (1.0, (565, [567, 548]), -1), 'match type': 'lcomp'}, {'match': (1, (548, 557), -2), 'match type': 'pivot'}, {'match': (1.0, (56, [57, 44]), -1), 'match type': 'lcomp'}, {'match': (2, (57, 59), -2), 'match type': 'pivot'}, {'match': (1.0, (64, [65, 44]), -1), 'match type': 'lcomp'}, {'match': (2, (65, 99), -2), 'match type': 'pivot'}, {'match': (1.0, (74, [129, 20]), -1), 'match type': 'lcomp'}, {'match': (1, (18, 20), -2), 'match type': 'pivot'}, {'match': (1.0, (78, [79, 52]), -1), 'match type': 'lcomp'}, {'match': (2, (79, 90), -2), 'match type': 'pivot'}, {'match': (1.0, (591, [589, 597]), -1), 'match type': 'lcomp'}, {'match': (2, (588, 589), -2), 'match type': 'pivot'}, {'match': (1.0, (599, [583, 618]), -1), 'match type': 'lcomp'}, {'match': (1.0, (613, [612, 616]), -1), 'match type': 'lcomp'}, {'match': (1, (586, 612), -2), 'match type': 'pivot'}, {'match': (1.0, (650, [649, 692]), -1), 'match type': 'lcomp'}, {'match': (1.0, (141, [173, 96]), -1), 'match type': 'lcomp'}, {'match': (1.0, (160, [158, 161]), -1), 'match type': 'lcomp'}, {'match': (1.0, (175, [173, 176]), -1), 'match type': 'lcomp'}, {'match': (1.0, (179, [168, 180]), -1), 'match type': 'lcomp'}, {'match': (2, (180, 194), -2), 'match type': 'pivot'}, {'match': (1.0, (692, [697, 649]), -1), 'match type': 'lcomp'}, {'match': (1.0, (211, [209, 212]), -1), 'match type': 'lcomp'}, {'match': (4, (212, 220), -2), 'match type': 'pivot'}, {'match': (1.0, (223, [222, 238]), -1), 'match type': 'lcomp'}, {'match': (1.0, (256, [257, 209]), -1), 'match type': 'lcomp'}, {'match': (4, (209, 257), -2), 'match type': 'pivot'}, {'match': (1.0, (267, [276, 243]), -1), 'match type': 'lcomp'}, {'match': (1.0, (283, [273, 284]), -1), 'match type': 'lcomp'}, {'match': (1.0, (308, [331, 281]), -1), 'match type': 'lcomp'}, {'match': (1.0, (348, [338, 349]), -1), 'match type': 'lcomp'}, {'match': (1.0, (351, [354, 337]), -1), 'match type': 'lcomp'}, {'match': (1.0, (356, [391, 284]), -1), 'match type': 'lcomp'}, {'match': (1.0, (358, [349, 362]), -1), 'match type': 'lcomp'}, {'match': (1.0, (435, [437, 375]), -1), 'match type': 'lcomp'}, {'match': (1.0, (447, [446, 451]), -1), 'match type': 'lcomp'}, {'match': (1.0, (453, [470, 442]), -1), 'match type': 'lcomp'}]\n",
      "INFO:root:greedy_wire_reduce_count: 93\n"
     ]
    },
    {
     "name": "stdout",
     "output_type": "stream",
     "text": [
      "Circuit  on 10 qubits with 603 gates.\n",
      "        56 is the T-count\n",
      "        547 Cliffords among which\n",
      "        241 2-qubit gates (3 CNOT, 238 other) and\n",
      "        232 Hadamard gates.\n",
      "Time: 0.4652247428894043\n",
      "---------------------------------\n",
      "Lookahead: 1\n"
     ]
    },
    {
     "name": "stderr",
     "output_type": "stream",
     "text": [
      "INFO:root:Applied matches: [{'match': (5, (694, 695), -2), 'match type': 'pivot'}, {'match': (5, (700, 701), -2), 'match type': 'pivot'}, {'match': (5, (682, 683), -2), 'match type': 'pivot'}, {'match': (5, (688, 689), -2), 'match type': 'pivot'}, {'match': (5, (670, 671), -2), 'match type': 'pivot'}, {'match': (5, (676, 677), -2), 'match type': 'pivot'}, {'match': (5, (664, 665), -2), 'match type': 'pivot'}, {'match': (5, (571, 576), -2), 'match type': 'pivot'}, {'match': (5, (658, 659), -2), 'match type': 'pivot'}, {'match': (4, (365, 366), -2), 'match type': 'pivot'}, {'match': (4, (465, 479), -2), 'match type': 'pivot'}, {'match': (3, (637, 640), -2), 'match type': 'pivot'}, {'match': (3, (76, 95), -2), 'match type': 'pivot'}, {'match': (3, (644, 652), -2), 'match type': 'pivot'}, {'match': (2, (457, 473), -2), 'match type': 'pivot'}, {'match': (2, (657, 660), -2), 'match type': 'pivot'}, {'match': (2, (690, 693), -2), 'match type': 'pivot'}, {'match': (2, (678, 687), -2), 'match type': 'pivot'}, {'match': (2, (663, 666), -2), 'match type': 'pivot'}, {'match': (2, (696, 699), -2), 'match type': 'pivot'}, {'match': (2, (131, 135), -2), 'match type': 'pivot'}, {'match': (2, (182, 183), -2), 'match type': 'pivot'}, {'match': (2, (88, 97), -2), 'match type': 'pivot'}, {'match': (2, (162, 167), -2), 'match type': 'pivot'}, {'match': (2, (595, 681), -2), 'match type': 'pivot'}, {'match': (2, (124, 138), -2), 'match type': 'pivot'}, {'match': (2, (393, 397), -2), 'match type': 'pivot'}, {'match': (1, (157, 170), -2), 'match type': 'pivot'}, {'match': (2, (150, 171), -2), 'match type': 'pivot'}, {'match': (1, (444, 445), -2), 'match type': 'pivot'}, {'match': (1, (390, 410), -2), 'match type': 'pivot'}, {'match': (1, (574, 601), -2), 'match type': 'pivot'}, {'match': (3, (578, 587), -2), 'match type': 'pivot'}, {'match': (2, (541, 544), -2), 'match type': 'pivot'}, {'match': (3, (493, 537), -2), 'match type': 'pivot'}, {'match': (2, (550, 586), -2), 'match type': 'pivot'}, {'match': (1, (412, 413), -2), 'match type': 'pivot'}, {'match': (2, (384, 433), -2), 'match type': 'pivot'}, {'match': (1, (106, 107), -2), 'match type': 'pivot'}, {'match': (1, (280, 292), -2), 'match type': 'pivot'}, {'match': (1, (261, 272), -2), 'match type': 'pivot'}, {'match': (1, (312, 313), -2), 'match type': 'pivot'}, {'match': (1, (231, 244), -2), 'match type': 'pivot'}, {'match': (1, (204, 255), -2), 'match type': 'pivot'}, {'match': (1, (105, 114), -2), 'match type': 'pivot'}, {'match': (1, (127, 145), -2), 'match type': 'pivot'}, {'match': (1, (459, 477), -2), 'match type': 'pivot'}, {'match': (2, (461, 462), -2), 'match type': 'pivot'}, {'match': (1, (50, 51), -2), 'match type': 'pivot'}, {'match': (1, (321, 322), -2), 'match type': 'pivot'}, {'match': (1.0, (56, [57, 44]), -1), 'match type': 'lcomp'}, {'match': (2, (57, 59), -2), 'match type': 'pivot'}, {'match': (1.0, (32, [33, 14]), -1), 'match type': 'lcomp'}, {'match': (2, (33, 34), -2), 'match type': 'pivot'}, {'match': (1, (643, 675), -2), 'match type': 'pivot'}, {'match': (1.0, (64, [65, 44]), -1), 'match type': 'lcomp'}, {'match': (2, (65, 99), -2), 'match type': 'pivot'}, {'match': (1, (226, 251), -2), 'match type': 'pivot'}, {'match': (1, (199, 200), -2), 'match type': 'pivot'}, {'match': (1.0, (78, [79, 52]), -1), 'match type': 'lcomp'}, {'match': (2, (79, 90), -2), 'match type': 'pivot'}, {'match': (1, (522, 523), -2), 'match type': 'pivot'}, {'match': (1.0, (512, [511, 562]), -1), 'match type': 'lcomp'}, {'match': (1.0, (612, [613, 588]), -1), 'match type': 'lcomp'}, {'match': (2, (613, 616), -2), 'match type': 'pivot'}, {'match': (1.0, (565, [567, 548]), -1), 'match type': 'lcomp'}, {'match': (1, (548, 557), -2), 'match type': 'pivot'}, {'match': (1.0, (74, [129, 20]), -1), 'match type': 'lcomp'}, {'match': (1, (18, 20), -2), 'match type': 'pivot'}, {'match': (1.0, (591, [589, 597]), -1), 'match type': 'lcomp'}, {'match': (1.0, (599, [583, 618]), -1), 'match type': 'lcomp'}, {'match': (1.0, (650, [649, 692]), -1), 'match type': 'lcomp'}, {'match': (1.0, (179, [168, 180]), -1), 'match type': 'lcomp'}, {'match': (2, (180, 194), -2), 'match type': 'pivot'}, {'match': (1.0, (141, [173, 96]), -1), 'match type': 'lcomp'}, {'match': (1.0, (211, [209, 212]), -1), 'match type': 'lcomp'}, {'match': (4, (212, 220), -2), 'match type': 'pivot'}, {'match': (1.0, (160, [158, 161]), -1), 'match type': 'lcomp'}, {'match': (1.0, (175, [173, 176]), -1), 'match type': 'lcomp'}, {'match': (1.0, (256, [257, 209]), -1), 'match type': 'lcomp'}, {'match': (4, (209, 257), -2), 'match type': 'pivot'}, {'match': (1.0, (267, [276, 243]), -1), 'match type': 'lcomp'}, {'match': (2, (238, 243), -2), 'match type': 'pivot'}, {'match': (1, (218, 221), -2), 'match type': 'pivot'}, {'match': (1.0, (692, [697, 649]), -1), 'match type': 'lcomp'}, {'match': (1.0, (283, [273, 284]), -1), 'match type': 'lcomp'}, {'match': (1.0, (308, [331, 281]), -1), 'match type': 'lcomp'}, {'match': (1.0, (348, [338, 349]), -1), 'match type': 'lcomp'}, {'match': (1.0, (351, [354, 337]), -1), 'match type': 'lcomp'}, {'match': (1.0, (356, [391, 284]), -1), 'match type': 'lcomp'}, {'match': (1.0, (358, [349, 362]), -1), 'match type': 'lcomp'}, {'match': (1.0, (435, [437, 375]), -1), 'match type': 'lcomp'}, {'match': (1.0, (447, [446, 451]), -1), 'match type': 'lcomp'}, {'match': (1.0, (453, [470, 442]), -1), 'match type': 'lcomp'}]\n",
      "INFO:root:greedy_wire_reduce_count: 94\n"
     ]
    },
    {
     "name": "stdout",
     "output_type": "stream",
     "text": [
      "Circuit  on 10 qubits with 591 gates.\n",
      "        56 is the T-count\n",
      "        535 Cliffords among which\n",
      "        233 2-qubit gates (6 CNOT, 227 other) and\n",
      "        228 Hadamard gates.\n",
      "Time: 3.5066921710968018\n",
      "---------------------------------\n",
      "Lookahead: 2\n"
     ]
    },
    {
     "name": "stderr",
     "output_type": "stream",
     "text": [
      "INFO:root:Applied matches: [{'match': (5, (694, 695), -2), 'match type': 'pivot'}, {'match': (5, (700, 701), -2), 'match type': 'pivot'}, {'match': (5, (682, 683), -2), 'match type': 'pivot'}, {'match': (5, (688, 689), -2), 'match type': 'pivot'}, {'match': (5, (670, 671), -2), 'match type': 'pivot'}, {'match': (5, (676, 677), -2), 'match type': 'pivot'}, {'match': (5, (664, 665), -2), 'match type': 'pivot'}, {'match': (5, (571, 576), -2), 'match type': 'pivot'}, {'match': (5, (658, 659), -2), 'match type': 'pivot'}, {'match': (4, (365, 366), -2), 'match type': 'pivot'}, {'match': (4, (465, 479), -2), 'match type': 'pivot'}, {'match': (3, (637, 640), -2), 'match type': 'pivot'}, {'match': (3, (76, 95), -2), 'match type': 'pivot'}, {'match': (3, (644, 652), -2), 'match type': 'pivot'}, {'match': (2, (457, 473), -2), 'match type': 'pivot'}, {'match': (2, (657, 660), -2), 'match type': 'pivot'}, {'match': (2, (690, 693), -2), 'match type': 'pivot'}, {'match': (2, (678, 687), -2), 'match type': 'pivot'}, {'match': (2, (663, 666), -2), 'match type': 'pivot'}, {'match': (2, (696, 699), -2), 'match type': 'pivot'}, {'match': (2, (131, 135), -2), 'match type': 'pivot'}, {'match': (2, (182, 183), -2), 'match type': 'pivot'}, {'match': (2, (88, 97), -2), 'match type': 'pivot'}, {'match': (2, (162, 167), -2), 'match type': 'pivot'}, {'match': (2, (595, 681), -2), 'match type': 'pivot'}, {'match': (2, (124, 138), -2), 'match type': 'pivot'}, {'match': (1, (157, 170), -2), 'match type': 'pivot'}, {'match': (2, (150, 171), -2), 'match type': 'pivot'}, {'match': (2, (393, 397), -2), 'match type': 'pivot'}, {'match': (1, (444, 445), -2), 'match type': 'pivot'}, {'match': (1, (390, 410), -2), 'match type': 'pivot'}, {'match': (1, (574, 601), -2), 'match type': 'pivot'}, {'match': (3, (578, 587), -2), 'match type': 'pivot'}, {'match': (2, (541, 544), -2), 'match type': 'pivot'}, {'match': (3, (493, 537), -2), 'match type': 'pivot'}, {'match': (2, (550, 586), -2), 'match type': 'pivot'}, {'match': (1, (412, 413), -2), 'match type': 'pivot'}, {'match': (2, (384, 433), -2), 'match type': 'pivot'}, {'match': (1, (106, 107), -2), 'match type': 'pivot'}, {'match': (1, (280, 292), -2), 'match type': 'pivot'}, {'match': (1, (261, 272), -2), 'match type': 'pivot'}, {'match': (1, (312, 313), -2), 'match type': 'pivot'}, {'match': (1, (231, 244), -2), 'match type': 'pivot'}, {'match': (1, (204, 255), -2), 'match type': 'pivot'}, {'match': (1, (105, 114), -2), 'match type': 'pivot'}, {'match': (1, (127, 145), -2), 'match type': 'pivot'}, {'match': (1, (321, 322), -2), 'match type': 'pivot'}, {'match': (1, (50, 51), -2), 'match type': 'pivot'}, {'match': (1, (459, 477), -2), 'match type': 'pivot'}, {'match': (2, (461, 462), -2), 'match type': 'pivot'}, {'match': (1.0, (56, [57, 44]), -1), 'match type': 'lcomp'}, {'match': (1.0, (32, [33, 14]), -1), 'match type': 'lcomp'}, {'match': (2, (57, 59), -2), 'match type': 'pivot'}, {'match': (2, (33, 34), -2), 'match type': 'pivot'}, {'match': (1, (643, 675), -2), 'match type': 'pivot'}, {'match': (1.0, (64, [65, 44]), -1), 'match type': 'lcomp'}, {'match': (2, (65, 99), -2), 'match type': 'pivot'}, {'match': (1, (226, 251), -2), 'match type': 'pivot'}, {'match': (1, (199, 200), -2), 'match type': 'pivot'}, {'match': (1.0, (78, [79, 52]), -1), 'match type': 'lcomp'}, {'match': (2, (79, 90), -2), 'match type': 'pivot'}, {'match': (1, (522, 523), -2), 'match type': 'pivot'}, {'match': (1.0, (512, [511, 562]), -1), 'match type': 'lcomp'}, {'match': (1.0, (612, [613, 588]), -1), 'match type': 'lcomp'}, {'match': (2, (613, 616), -2), 'match type': 'pivot'}, {'match': (1.0, (565, [567, 548]), -1), 'match type': 'lcomp'}, {'match': (1, (548, 557), -2), 'match type': 'pivot'}, {'match': (1.0, (74, [129, 20]), -1), 'match type': 'lcomp'}, {'match': (1, (18, 20), -2), 'match type': 'pivot'}, {'match': (1.0, (591, [589, 597]), -1), 'match type': 'lcomp'}, {'match': (1.0, (599, [583, 618]), -1), 'match type': 'lcomp'}, {'match': (1.0, (650, [649, 692]), -1), 'match type': 'lcomp'}, {'match': (1.0, (179, [168, 180]), -1), 'match type': 'lcomp'}, {'match': (2, (180, 194), -2), 'match type': 'pivot'}, {'match': (1.0, (141, [173, 96]), -1), 'match type': 'lcomp'}, {'match': (1.0, (211, [209, 212]), -1), 'match type': 'lcomp'}, {'match': (4, (212, 220), -2), 'match type': 'pivot'}, {'match': (1.0, (160, [158, 161]), -1), 'match type': 'lcomp'}, {'match': (1.0, (175, [173, 176]), -1), 'match type': 'lcomp'}, {'match': (1.0, (692, [697, 649]), -1), 'match type': 'lcomp'}, {'match': (1.0, (223, [222, 238]), -1), 'match type': 'lcomp'}, {'match': (1.0, (256, [257, 209]), -1), 'match type': 'lcomp'}, {'match': (4, (209, 257), -2), 'match type': 'pivot'}, {'match': (1.0, (267, [276, 243]), -1), 'match type': 'lcomp'}, {'match': (1.0, (283, [273, 284]), -1), 'match type': 'lcomp'}, {'match': (1.0, (308, [331, 281]), -1), 'match type': 'lcomp'}, {'match': (1.0, (348, [338, 349]), -1), 'match type': 'lcomp'}, {'match': (1.0, (351, [354, 337]), -1), 'match type': 'lcomp'}, {'match': (1.0, (356, [391, 284]), -1), 'match type': 'lcomp'}, {'match': (1.0, (358, [349, 362]), -1), 'match type': 'lcomp'}, {'match': (1.0, (435, [437, 375]), -1), 'match type': 'lcomp'}, {'match': (1.0, (447, [446, 451]), -1), 'match type': 'lcomp'}, {'match': (1.0, (453, [470, 442]), -1), 'match type': 'lcomp'}]\n",
      "INFO:root:greedy_wire_reduce_count: 93\n"
     ]
    },
    {
     "name": "stdout",
     "output_type": "stream",
     "text": [
      "Circuit  on 10 qubits with 600 gates.\n",
      "        56 is the T-count\n",
      "        544 Cliffords among which\n",
      "        238 2-qubit gates (2 CNOT, 236 other) and\n",
      "        231 Hadamard gates.\n",
      "Time: 14.292771339416504\n",
      "---------------------------------\n",
      "Lookahead: 3\n"
     ]
    },
    {
     "name": "stderr",
     "output_type": "stream",
     "text": [
      "INFO:root:Applied matches: [{'match': (5, (694, 695), -2), 'match type': 'pivot'}, {'match': (5, (700, 701), -2), 'match type': 'pivot'}, {'match': (5, (682, 683), -2), 'match type': 'pivot'}, {'match': (5, (688, 689), -2), 'match type': 'pivot'}, {'match': (5, (670, 671), -2), 'match type': 'pivot'}, {'match': (5, (676, 677), -2), 'match type': 'pivot'}, {'match': (5, (664, 665), -2), 'match type': 'pivot'}, {'match': (5, (571, 576), -2), 'match type': 'pivot'}, {'match': (5, (658, 659), -2), 'match type': 'pivot'}, {'match': (4, (365, 366), -2), 'match type': 'pivot'}, {'match': (4, (465, 479), -2), 'match type': 'pivot'}, {'match': (3, (637, 640), -2), 'match type': 'pivot'}, {'match': (3, (76, 95), -2), 'match type': 'pivot'}, {'match': (3, (644, 652), -2), 'match type': 'pivot'}, {'match': (2, (457, 473), -2), 'match type': 'pivot'}, {'match': (2, (657, 660), -2), 'match type': 'pivot'}, {'match': (2, (690, 693), -2), 'match type': 'pivot'}, {'match': (2, (678, 687), -2), 'match type': 'pivot'}, {'match': (2, (663, 666), -2), 'match type': 'pivot'}, {'match': (2, (696, 699), -2), 'match type': 'pivot'}, {'match': (2, (131, 135), -2), 'match type': 'pivot'}, {'match': (2, (182, 183), -2), 'match type': 'pivot'}, {'match': (2, (88, 97), -2), 'match type': 'pivot'}, {'match': (2, (162, 167), -2), 'match type': 'pivot'}, {'match': (2, (595, 681), -2), 'match type': 'pivot'}, {'match': (1, (157, 170), -2), 'match type': 'pivot'}, {'match': (2, (124, 138), -2), 'match type': 'pivot'}, {'match': (2, (150, 171), -2), 'match type': 'pivot'}, {'match': (2, (393, 397), -2), 'match type': 'pivot'}, {'match': (1, (444, 445), -2), 'match type': 'pivot'}, {'match': (1, (390, 410), -2), 'match type': 'pivot'}, {'match': (1, (574, 601), -2), 'match type': 'pivot'}, {'match': (3, (578, 587), -2), 'match type': 'pivot'}, {'match': (2, (541, 544), -2), 'match type': 'pivot'}, {'match': (3, (493, 537), -2), 'match type': 'pivot'}, {'match': (2, (550, 586), -2), 'match type': 'pivot'}, {'match': (1, (412, 413), -2), 'match type': 'pivot'}, {'match': (2, (384, 433), -2), 'match type': 'pivot'}, {'match': (1, (106, 107), -2), 'match type': 'pivot'}, {'match': (1, (280, 292), -2), 'match type': 'pivot'}, {'match': (1, (261, 272), -2), 'match type': 'pivot'}, {'match': (1, (312, 313), -2), 'match type': 'pivot'}, {'match': (1, (231, 244), -2), 'match type': 'pivot'}, {'match': (1, (204, 255), -2), 'match type': 'pivot'}, {'match': (1, (105, 114), -2), 'match type': 'pivot'}, {'match': (1, (127, 145), -2), 'match type': 'pivot'}, {'match': (1, (50, 51), -2), 'match type': 'pivot'}, {'match': (1, (321, 322), -2), 'match type': 'pivot'}, {'match': (1, (459, 477), -2), 'match type': 'pivot'}, {'match': (2, (461, 462), -2), 'match type': 'pivot'}, {'match': (1.0, (56, [57, 44]), -1), 'match type': 'lcomp'}, {'match': (1.0, (32, [33, 14]), -1), 'match type': 'lcomp'}, {'match': (2, (57, 59), -2), 'match type': 'pivot'}, {'match': (2, (33, 34), -2), 'match type': 'pivot'}, {'match': (1, (643, 675), -2), 'match type': 'pivot'}, {'match': (1.0, (64, [65, 44]), -1), 'match type': 'lcomp'}, {'match': (2, (65, 99), -2), 'match type': 'pivot'}, {'match': (1, (226, 251), -2), 'match type': 'pivot'}, {'match': (1, (199, 200), -2), 'match type': 'pivot'}, {'match': (1.0, (78, [79, 52]), -1), 'match type': 'lcomp'}, {'match': (2, (79, 90), -2), 'match type': 'pivot'}, {'match': (1, (522, 523), -2), 'match type': 'pivot'}, {'match': (1.0, (512, [511, 562]), -1), 'match type': 'lcomp'}, {'match': (1.0, (612, [613, 588]), -1), 'match type': 'lcomp'}, {'match': (2, (613, 616), -2), 'match type': 'pivot'}, {'match': (1.0, (565, [567, 548]), -1), 'match type': 'lcomp'}, {'match': (1, (548, 557), -2), 'match type': 'pivot'}, {'match': (1.0, (74, [129, 20]), -1), 'match type': 'lcomp'}, {'match': (1, (18, 20), -2), 'match type': 'pivot'}, {'match': (1.0, (591, [589, 597]), -1), 'match type': 'lcomp'}, {'match': (1.0, (599, [583, 618]), -1), 'match type': 'lcomp'}, {'match': (1.0, (650, [649, 692]), -1), 'match type': 'lcomp'}, {'match': (1.0, (141, [173, 96]), -1), 'match type': 'lcomp'}, {'match': (1.0, (160, [158, 161]), -1), 'match type': 'lcomp'}, {'match': (1.0, (175, [173, 176]), -1), 'match type': 'lcomp'}, {'match': (1.0, (179, [168, 180]), -1), 'match type': 'lcomp'}, {'match': (2, (180, 194), -2), 'match type': 'pivot'}, {'match': (1.0, (692, [697, 649]), -1), 'match type': 'lcomp'}, {'match': (1.0, (211, [209, 212]), -1), 'match type': 'lcomp'}, {'match': (4, (212, 220), -2), 'match type': 'pivot'}, {'match': (1.0, (223, [222, 238]), -1), 'match type': 'lcomp'}, {'match': (1.0, (256, [257, 209]), -1), 'match type': 'lcomp'}, {'match': (4, (209, 257), -2), 'match type': 'pivot'}, {'match': (1.0, (267, [276, 243]), -1), 'match type': 'lcomp'}, {'match': (1.0, (283, [273, 284]), -1), 'match type': 'lcomp'}, {'match': (1.0, (308, [331, 281]), -1), 'match type': 'lcomp'}, {'match': (1.0, (348, [338, 349]), -1), 'match type': 'lcomp'}, {'match': (1.0, (351, [354, 337]), -1), 'match type': 'lcomp'}, {'match': (1.0, (356, [391, 284]), -1), 'match type': 'lcomp'}, {'match': (1.0, (358, [349, 362]), -1), 'match type': 'lcomp'}, {'match': (1.0, (435, [437, 375]), -1), 'match type': 'lcomp'}, {'match': (1.0, (447, [446, 451]), -1), 'match type': 'lcomp'}, {'match': (1.0, (453, [470, 442]), -1), 'match type': 'lcomp'}]\n",
      "INFO:root:greedy_wire_reduce_count: 93\n"
     ]
    },
    {
     "name": "stdout",
     "output_type": "stream",
     "text": [
      "Circuit  on 10 qubits with 600 gates.\n",
      "        56 is the T-count\n",
      "        544 Cliffords among which\n",
      "        238 2-qubit gates (2 CNOT, 236 other) and\n",
      "        231 Hadamard gates.\n",
      "Time: 41.90266752243042\n",
      "---------------------------------\n"
     ]
    }
   ],
   "source": [
    "applied_matches_la = []\n",
    "\n",
    "for la in range(0,4):\n",
    "    print(\"Lookahead:\", la)\n",
    "    start_time = time.time()\n",
    "    g_greedy_la = g_tele.copy()\n",
    "    iterations, applied_matches = zx.simplify.greedy_simp(g_greedy_la, lookahead=la)\n",
    "    applied_matches_la.append(applied_matches)\n",
    "    print(zx.extract_circuit(g_greedy_la.copy()).stats())\n",
    "    print(\"Time:\", time.time()-start_time)\n",
    "    print(\"---------------------------------\")"
   ]
  },
  {
   "cell_type": "code",
   "execution_count": 8,
   "id": "85bc0139",
   "metadata": {},
   "outputs": [
    {
     "name": "stdout",
     "output_type": "stream",
     "text": [
      "Items in list 0 beginning at 27 : [{'match': (1, (444, 445), -2), 'match type': 'pivot'}, {'match': (1, (390, 410), -2), 'match type': 'pivot'}]\n",
      "Items in list 1 beginning at 27 : [{'match': (1, (157, 170), -2), 'match type': 'pivot'}, {'match': (2, (150, 171), -2), 'match type': 'pivot'}]\n",
      "\n",
      "Items in list 0 beginning at 26 : [{'match': (2, (393, 397), -2), 'match type': 'pivot'}, {'match': (1, (444, 445), -2), 'match type': 'pivot'}, {'match': (1, (390, 410), -2), 'match type': 'pivot'}]\n",
      "Items in list 2 beginning at 26 : [{'match': (1, (157, 170), -2), 'match type': 'pivot'}, {'match': (2, (150, 171), -2), 'match type': 'pivot'}, {'match': (2, (393, 397), -2), 'match type': 'pivot'}]\n",
      "\n",
      "Items in list 0 beginning at 25 : [{'match': (2, (124, 138), -2), 'match type': 'pivot'}, {'match': (2, (393, 397), -2), 'match type': 'pivot'}, {'match': (1, (444, 445), -2), 'match type': 'pivot'}, {'match': (1, (390, 410), -2), 'match type': 'pivot'}]\n",
      "Items in list 3 beginning at 25 : [{'match': (1, (157, 170), -2), 'match type': 'pivot'}, {'match': (2, (124, 138), -2), 'match type': 'pivot'}, {'match': (2, (150, 171), -2), 'match type': 'pivot'}, {'match': (2, (393, 397), -2), 'match type': 'pivot'}]\n",
      "\n"
     ]
    }
   ],
   "source": [
    "first_item = applied_matches_la[0]\n",
    "\n",
    "for index, applied_matches in enumerate(applied_matches_la[1:], start=1):\n",
    "    differences = [i for i in range(min(len(first_item), len(applied_matches))) if first_item[i] != applied_matches[i]]\n",
    "    # differences = [i for i, element in enumerate(first_item) if element not in applied_matches] + [i for i, element in enumerate(applied_matches) if element not in first_item]\n",
    "    if differences:\n",
    "        first_diff_index = differences[0]\n",
    "        print(\"Items in list 0 beginning at \" + str(first_diff_index) + \" :\", first_item[first_diff_index:first_diff_index+index+1])\n",
    "        print(\"Items in list \" + str(index) + \" beginning at \" + str(first_diff_index) + \" :\", applied_matches[first_diff_index:first_diff_index+index+1])\n",
    "        print(\"\")"
   ]
  },
  {
   "cell_type": "code",
   "execution_count": 9,
   "id": "associate-toyota",
   "metadata": {},
   "outputs": [
    {
     "name": "stdout",
     "output_type": "stream",
     "text": [
      "Circuit  on 10 qubits with 586 gates.\n",
      "        56 is the T-count\n",
      "        530 Cliffords among which\n",
      "        228 2-qubit gates (2 CNOT, 226 other) and\n",
      "        221 Hadamard gates.\n"
     ]
    }
   ],
   "source": [
    "g_nu = g_tele.copy()\n",
    "zx.simplify.greedy_simp_neighbors(g_nu)\n",
    "print(zx.extract_circuit(g_nu.copy()).stats())"
   ]
  },
  {
   "cell_type": "code",
   "execution_count": 10,
   "id": "dense-sharp",
   "metadata": {},
   "outputs": [
    {
     "name": "stdout",
     "output_type": "stream",
     "text": [
      "final num edges:  480\n",
      "Circuit  on 10 qubits with 610 gates.\n",
      "        56 is the T-count\n",
      "        554 Cliffords among which\n",
      "        230 2-qubit gates (2 CNOT, 228 other) and\n",
      "        245 Hadamard gates.\n"
     ]
    }
   ],
   "source": [
    "g_sim_n = g_tele.copy()\n",
    "zx.simplify.sim_anneal_simp_neighbors(g_sim_n)\n",
    "print(zx.extract_circuit(g_sim_n.copy()).stats())"
   ]
  },
  {
   "cell_type": "code",
   "execution_count": 11,
   "id": "0bcabf4c",
   "metadata": {},
   "outputs": [
    {
     "name": "stdout",
     "output_type": "stream",
     "text": [
      "Circuit  on 10 qubits with 600 gates.\n",
      "        56 is the T-count\n",
      "        544 Cliffords among which\n",
      "        248 2-qubit gates (8 CNOT, 240 other) and\n",
      "        214 Hadamard gates.\n"
     ]
    }
   ],
   "source": [
    "g_sim = g_tele.copy()\n",
    "zx.simplify.sim_anneal_simp(g_sim)\n",
    "print(zx.extract_circuit(g_sim.copy()).stats())"
   ]
  }
 ],
 "metadata": {
  "kernelspec": {
   "display_name": "Python 3",
   "language": "python",
   "name": "python3"
  },
  "language_info": {
   "codemirror_mode": {
    "name": "ipython",
    "version": 3
   },
   "file_extension": ".py",
   "mimetype": "text/x-python",
   "name": "python",
   "nbconvert_exporter": "python",
   "pygments_lexer": "ipython3",
   "version": "3.11.6"
  }
 },
 "nbformat": 4,
 "nbformat_minor": 5
}
