{
 "cells": [
  {
   "cell_type": "code",
   "execution_count": 1,
   "id": "guilty-owner",
   "metadata": {},
   "outputs": [],
   "source": [
    "import sys; sys.path.append('../..')\n",
    "import random\n",
    "import pyzx as zx\n",
    "import os\n",
    "import pickle\n",
    "import time"
   ]
  },
  {
   "cell_type": "markdown",
   "id": "banner-vegetable",
   "metadata": {},
   "source": [
    "### Heuristic simplification\n",
    "- When simplifying ZX-diagrams with T-spiders, simplification routines like full_reduce lead to a very high two-qubit gate count.\n",
    "- When using heuristic-based approaches we can circumvent the problem to some extent leading to better overall circuit cost after optimization"
   ]
  },
  {
   "cell_type": "code",
   "execution_count": 2,
   "id": "light-emphasis",
   "metadata": {},
   "outputs": [
    {
     "name": "stdout",
     "output_type": "stream",
     "text": [
      "Circuit  on 8 qubits with 1000 gates.\n",
      "        292 is the T-count\n",
      "        708 Cliffords among which \n",
      "        230 2-qubit gates (230 CNOT, 0 other) and\n",
      "        0 Hadamard gates.\n"
     ]
    }
   ],
   "source": [
    "random.seed(1344)\n",
    "g = zx.generate.cliffordT(qubits=8, depth=1000, p_t=0.3)\n",
    "c = zx.Circuit.from_graph(g)\n",
    "print(c.stats())"
   ]
  },
  {
   "cell_type": "code",
   "execution_count": 3,
   "id": "enabling-referral",
   "metadata": {},
   "outputs": [
    {
     "data": {
      "text/plain": [
       "'Circuit  on 8 qubits with 652 gates.\\n        122 is the T-count\\n        530 Cliffords among which \\n        219 2-qubit gates (208 CNOT, 11 other) and\\n        133 Hadamard gates.'"
      ]
     },
     "execution_count": 3,
     "metadata": {},
     "output_type": "execute_result"
    }
   ],
   "source": [
    "c = zx.optimize.basic_optimization(c.split_phase_gates())\n",
    "g = c.to_graph()\n",
    "g_tele = zx.simplify.teleport_reduce(g)\n",
    "g_tele.track_phases = False\n",
    "zx.Circuit.from_graph(g).split_phase_gates().stats()"
   ]
  },
  {
   "cell_type": "code",
   "execution_count": 19,
   "id": "ahead-lease",
   "metadata": {},
   "outputs": [
    {
     "data": {
      "text/plain": [
       "'Circuit  on 8 qubits with 381 gates.\\n        69 is the T-count\\n        312 Cliffords among which \\n        214 2-qubit gates (34 CNOT, 180 other) and\\n        93 Hadamard gates.'"
      ]
     },
     "execution_count": 19,
     "metadata": {},
     "output_type": "execute_result"
    }
   ],
   "source": [
    "g_full = g_tele.copy()\n",
    "zx.simplify.full_reduce(g_full)\n",
    "zx.extract_circuit(g_full.copy()).stats()"
   ]
  },
  {
   "cell_type": "code",
   "execution_count": 8,
   "id": "multiple-curtis",
   "metadata": {},
   "outputs": [
    {
     "data": {
      "text/plain": [
       "'Circuit  on 8 qubits with 723 gates.\\n        122 is the T-count\\n        601 Cliffords among which \\n        215 2-qubit gates (5 CNOT, 210 other) and\\n        292 Hadamard gates.'"
      ]
     },
     "execution_count": 8,
     "metadata": {},
     "output_type": "execute_result"
    }
   ],
   "source": [
    "g_greedy = g_tele.copy()\n",
    "zx.simplify.greedy_simp(g_greedy)\n",
    "zx.extract_circuit(g_greedy.copy()).stats()"
   ]
  },
  {
   "cell_type": "code",
   "execution_count": 4,
   "id": "associate-toyota",
   "metadata": {},
   "outputs": [
    {
     "name": "stdout",
     "output_type": "stream",
     "text": [
      "apply pivot match  (5, (819, 820), None, None)\n",
      "apply pivot match  (5, (807, 808), None, None)\n",
      "apply pivot match  (5, (813, 814), None, None)\n",
      "apply pivot match  (5, (795, 796), None, None)\n",
      "apply pivot match  (5, (801, 802), None, None)\n",
      "apply pivot match  (5, (783, 784), None, None)\n",
      "apply pivot match  (5, (789, 790), None, None)\n",
      "apply pivot match  (3, (140, 141), None, None)\n",
      "apply pivot match  (3, (313, 316), None, None)\n",
      "apply pivot match  (3, (589, 620), None, None)\n",
      "apply pivot match  (2, (642, 653), None, None)\n",
      "apply pivot match  (2, (815, 818), None, None)\n",
      "apply pivot match  (2, (302, 323), None, None)\n",
      "apply pivot match  (2, (526, 588), None, None)\n",
      "apply pivot match  (2, (785, 806), None, None)\n",
      "apply pivot match  (2, (777, 797), None, None)\n",
      "apply pivot match  (1, (202, 224), None, None)\n",
      "apply pivot match  (1, (159, 164), 156, None)\n",
      "unfuse to neighbor  159 156 832 831\n",
      "apply pivot match  (1, (591, 598), None, None)\n",
      "apply pivot match  (1, (325, 326), None, None)\n",
      "apply pivot match  (1, (357, 358), None, None)\n",
      "apply pivot match  (1, (393, 415), None, None)\n",
      "apply pivot match  (1, (530, 536), None, None)\n",
      "apply pivot match  (1, (71, 125), None, None)\n",
      "apply pivot match  (1, (692, 710), None, None)\n",
      "apply pivot match  (1, (500, 503), None, None)\n",
      "apply pivot match  (2, (496, 502), None, None)\n",
      "apply pivot match  (3, (514, 515), None, None)\n",
      "apply pivot match  (1, (133, 156), None, None)\n",
      "apply pivot match  (1, (170, 172), None, None)\n",
      "apply pivot match  (1, (601, 633), None, None)\n",
      "apply pivot match  (1, (199, 221), None, None)\n",
      "apply pivot match  (1, (103, 127), 137, None)\n",
      "unfuse to neighbor  103 137 834 833\n",
      "apply pivot match  (1, (549, 558), None, None)\n",
      "apply pivot match  (1, (235, 245), None, None)\n",
      "apply pivot match  (1, (180, 184), 193, None)\n",
      "unfuse to neighbor  180 193 836 835\n",
      "apply pivot match  (1, (148, 171), None, None)\n",
      "apply pivot match  (1, (685, 701), None, None)\n",
      "apply pivot match  (3, (677, 696), None, None)\n",
      "apply pivot match  (1, (448, 491), None, None)\n",
      "apply pivot match  (1, (488, 504), None, 624)\n",
      "unfuse to neighbor  504 624 838 837\n",
      "apply pivot match  (1, (329, 334), None, None)\n",
      "apply pivot match  (1, (527, 569), None, None)\n",
      "apply lcomp match  (1.0, (32, [33, 14]), None)\n",
      "apply lcomp match  (1.0, (98, [96, 99]), None)\n",
      "apply lcomp match  (1.0, (110, [146, 106]), None)\n",
      "apply lcomp match  (1.0, (114, [117, 104]), None)\n",
      "apply lcomp match  (1.0, (122, [120, 123]), None)\n",
      "apply pivot match  (2, (123, 134), None, None)\n",
      "apply lcomp match  (1.0, (161, [162, 120]), None)\n",
      "apply pivot match  (1, (162, 206), None, None)\n",
      "apply lcomp match  (1.0, (193, [200, 835]), None)\n",
      "apply lcomp match  (1.0, (209, [189, 262]), None)\n",
      "apply lcomp match  (1.0, (213, [211, 219]), None)\n",
      "apply lcomp match  (1.0, (214, [200, 215]), None)\n",
      "apply lcomp match  (1.0, (237, [238, 219]), None)\n",
      "apply pivot match  (2, (219, 238), None, None)\n",
      "apply lcomp match  (1.0, (255, [241, 256]), None)\n",
      "apply lcomp match  (1.0, (280, [278, 281]), None)\n",
      "apply lcomp match  (1.0, (285, [252, 315]), None)\n",
      "apply lcomp match  (1.0, (287, [283, 288]), None)\n",
      "apply lcomp match  (1.0, (293, [291, 294]), None)\n",
      "apply lcomp match  (1.0, (299, [301, 288]), None)\n",
      "apply lcomp match  (1.0, (303, [301, 304]), None)\n",
      "apply pivot match  (2, (301, 304), None, None)\n",
      "apply lcomp match  (1.0, (317, [315, 318]), None)\n",
      "apply lcomp match  (1.0, (320, [318, 321]), None)\n",
      "apply pivot match  (3, (318, 321), None, None)\n",
      "apply lcomp match  (1.0, (350, [348, 351]), None)\n",
      "apply lcomp match  (1.0, (363, [361, 364]), None)\n",
      "apply lcomp match  (1.0, (385, [386, 381]), None)\n",
      "apply lcomp match  (1.0, (388, [346, 390]), None)\n",
      "apply lcomp match  (1.0, (402, [412, 374]), None)\n",
      "apply lcomp match  (1.0, (406, [405, 408]), None)\n",
      "apply lcomp match  (1.0, (410, [408, 411]), None)\n",
      "apply pivot match  (1, (408, 411), None, None)\n",
      "apply lcomp match  (1.0, (426, [424, 427]), None)\n",
      "apply pivot match  (1, (427, 486), None, None)\n",
      "apply lcomp match  (1.0, (431, [453, 404]), None)\n",
      "apply lcomp match  (1.0, (445, [446, 396]), None)\n",
      "apply lcomp match  (1.0, (451, [450, 458]), None)\n",
      "apply lcomp match  (1.0, (480, [478, 529]), None)\n",
      "apply lcomp match  (1.0, (507, [509, 494]), None)\n",
      "apply lcomp match  (1.0, (511, [509, 512]), None)\n",
      "apply pivot match  (2, (512, 533), None, None)\n",
      "apply lcomp match  (1.0, (519, [521, 461]), None)\n",
      "apply lcomp match  (1.0, (524, [523, 531]), None)\n",
      "apply lcomp match  (1.0, (544, [542, 545]), None)\n",
      "apply pivot match  (1, (545, 578), None, None)\n",
      "apply lcomp match  (1.0, (552, [550, 553]), None)\n",
      "apply lcomp match  (1.0, (555, [546, 556]), None)\n",
      "apply pivot match  (1, (556, 563), None, 565)\n",
      "unfuse to neighbor  563 565 840 839\n",
      "apply lcomp match  (1.0, (585, [586, 581]), None)\n",
      "apply lcomp match  (1.0, (607, [605, 611]), None)\n",
      "apply lcomp match  (2.0, (611, [627, 600, 605]), None)\n",
      "apply lcomp match  (1.0, (609, [610, 596]), None)\n",
      "apply lcomp match  (1.0, (625, [624, 641]), None)\n",
      "apply lcomp match  (1.0, (641, [655, 624]), None)\n",
      "apply pivot match  (1, (622, 655), None, None)\n",
      "apply lcomp match  (3.0, (643, [657, 624]), None)\n",
      "apply lcomp match  (2.0, (596, [594, 624, 610]), None)\n",
      "apply pivot match  (1, (610, 682), None, None)\n",
      "apply lcomp match  (1.0, (646, [644, 649]), None)\n",
      "apply lcomp match  (1.0, (651, [661, 616]), None)\n",
      "apply lcomp match  (1.0, (666, [664, 667]), None)\n",
      "apply pivot match  (2, (667, 694), None, None)\n",
      "apply lcomp match  (1.0, (687, [684, 688]), None)\n",
      "apply pivot match  (2, (688, 690), None, None)\n",
      "apply lcomp match  (1.0, (711, [709, 712]), None)\n",
      "apply lcomp match  (1.0, (730, [732, 707]), None)\n",
      "apply lcomp match  (1.0, (741, [743, 721]), None)\n",
      "apply lcomp match  (1.0, (753, [751, 754]), None)\n",
      "apply lcomp match  (1.0, (757, [768, 712]), None)\n",
      "apply lcomp match  (1.0, (759, [748, 760]), None)\n",
      "apply pivot match  (2, (760, 762), None, None)\n",
      "apply lcomp match  (1.0, (772, [773, 748]), None)\n",
      "apply pivot match  (2, (748, 773), None, None)\n",
      "apply lcomp match  (1.0, (775, [770, 778]), None)\n",
      "apply lcomp match  (1.0, (776, [764, 804]), None)\n",
      "apply lcomp match  (1.0, (780, [778, 791]), None)\n",
      "apply lcomp match  (1.0, (791, [822, 778]), None)\n",
      "apply lcomp match  (1.0, (833, [137, 834]), None)\n",
      "apply lcomp match  (1.0, (137, [143, 834]), None)\n",
      "apply pivot match  (1, (143, 834), None, None)\n"
     ]
    },
    {
     "data": {
      "text/plain": [
       "'Circuit  on 8 qubits with 724 gates.\\n        122 is the T-count\\n        602 Cliffords among which \\n        214 2-qubit gates (3 CNOT, 211 other) and\\n        295 Hadamard gates.'"
      ]
     },
     "execution_count": 4,
     "metadata": {},
     "output_type": "execute_result"
    }
   ],
   "source": [
    "g_nu = g_tele.copy()\n",
    "zx.simplify.greedy_simp_neighbors(g_nu)\n",
    "zx.extract_circuit(g_nu.copy()).stats()"
   ]
  },
  {
   "cell_type": "code",
   "execution_count": null,
   "id": "dense-sharp",
   "metadata": {},
   "outputs": [],
   "source": []
  }
 ],
 "metadata": {
  "kernelspec": {
   "display_name": "Python 3 (ipykernel)",
   "language": "python",
   "name": "python3"
  },
  "language_info": {
   "codemirror_mode": {
    "name": "ipython",
    "version": 3
   },
   "file_extension": ".py",
   "mimetype": "text/x-python",
   "name": "python",
   "nbconvert_exporter": "python",
   "pygments_lexer": "ipython3",
   "version": "3.10.4"
  }
 },
 "nbformat": 4,
 "nbformat_minor": 5
}
