{
 "cells": [
  {
   "cell_type": "code",
   "execution_count": 1,
   "id": "guilty-owner",
   "metadata": {},
   "outputs": [],
   "source": [
    "import sys; sys.path.append('../..')\n",
    "import random\n",
    "import pyzx as zx\n",
    "import os\n",
    "import pickle\n",
    "import time"
   ]
  },
  {
   "cell_type": "code",
   "execution_count": 2,
   "id": "9ac2d8b4",
   "metadata": {},
   "outputs": [],
   "source": [
    "import logging\n",
    "\n",
    "logger = logging.getLogger()\n",
    "logger.setLevel(logging.DEBUG)"
   ]
  },
  {
   "cell_type": "code",
   "execution_count": 3,
   "id": "2600c747",
   "metadata": {},
   "outputs": [],
   "source": [
    "def sliding_window(elements, window_size):\n",
    "    if len(elements) < window_size:\n",
    "        return [elements]\n",
    "    \n",
    "    for i in range(len(elements) - window_size + 1):\n",
    "        yield elements[i:i+window_size]"
   ]
  },
  {
   "cell_type": "markdown",
   "id": "banner-vegetable",
   "metadata": {},
   "source": [
    "### Heuristic simplification\n",
    "- When simplifying ZX-diagrams with T-spiders, simplification routines like full_reduce lead to a very high two-qubit gate count.\n",
    "- When using heuristic-based approaches we can circumvent the problem to some extent leading to better overall circuit cost after optimization"
   ]
  },
  {
   "cell_type": "code",
   "execution_count": 4,
   "id": "light-emphasis",
   "metadata": {},
   "outputs": [
    {
     "name": "stdout",
     "output_type": "stream",
     "text": [
      "Circuit  on 10 qubits with 468 gates.\n",
      "        56 is the T-count\n",
      "        412 Cliffords among which\n",
      "        252 2-qubit gates (239 CNOT, 13 other) and\n",
      "        50 Hadamard gates.\n"
     ]
    }
   ],
   "source": [
    "random.seed(1342)\n",
    "g = zx.generate.cliffordT(qubits=10, depth=500, p_t=0.3, p_cnot=0.5)\n",
    "c = zx.Circuit.from_graph(g)\n",
    "c = zx.optimize.basic_optimization(c.split_phase_gates()).split_phase_gates()\n",
    "print(c.stats())"
   ]
  },
  {
   "cell_type": "code",
   "execution_count": 5,
   "id": "enabling-referral",
   "metadata": {},
   "outputs": [
    {
     "name": "stdout",
     "output_type": "stream",
     "text": [
      "Circuit  on 10 qubits with 468 gates.\n",
      "        56 is the T-count\n",
      "        412 Cliffords among which\n",
      "        252 2-qubit gates (239 CNOT, 13 other) and\n",
      "        50 Hadamard gates.\n"
     ]
    }
   ],
   "source": [
    "g = c.to_graph()\n",
    "g_tele = zx.simplify.teleport_reduce(g)\n",
    "g_tele.track_phases = False\n",
    "print(zx.Circuit.from_graph(g).split_phase_gates().stats())"
   ]
  },
  {
   "cell_type": "code",
   "execution_count": 6,
   "id": "ahead-lease",
   "metadata": {},
   "outputs": [
    {
     "name": "stdout",
     "output_type": "stream",
     "text": [
      "Circuit  on 10 qubits with 449 gates.\n",
      "        56 is the T-count\n",
      "        393 Cliffords among which\n",
      "        293 2-qubit gates (82 CNOT, 211 other) and\n",
      "        94 Hadamard gates.\n"
     ]
    }
   ],
   "source": [
    "g_full = g_tele.copy()\n",
    "zx.simplify.full_reduce(g_full)\n",
    "print(zx.extract_circuit(g_full.copy()).stats())"
   ]
  },
  {
   "cell_type": "code",
   "execution_count": 15,
   "id": "41857d90",
   "metadata": {},
   "outputs": [
    {
     "name": "stdout",
     "output_type": "stream",
     "text": [
      "Lookahead: 0\n",
      "Unexpected exception formatting exception. Falling back to standard exception\n"
     ]
    },
    {
     "name": "stderr",
     "output_type": "stream",
     "text": [
      "Traceback (most recent call last):\n",
      "  File \"c:\\Users\\wsajk\\Documents\\Arbeit\\MUNIQC-Atoms\\muniqc\\Lib\\site-packages\\IPython\\core\\interactiveshell.py\", line 3553, in run_code\n",
      "    exec(code_obj, self.user_global_ns, self.user_ns)\n",
      "  File \"C:\\Users\\wsajk\\AppData\\Local\\Temp\\ipykernel_42580\\92727332.py\", line 7, in <module>\n",
      "    iterations, applied_matches = zx.simplify.greedy_simp(g_greedy_la, lookahead=la)\n",
      "                                  ^^^^^^^^^^^^^^^^^^^^^^^^^^^^^^^^^^^^^^^^^^^^^^^^^^\n",
      "  File \"c:\\Users\\wsajk\\Documents\\Arbeit\\MUNIQC-Atoms\\pyzx-heuristics\\demos\\heuristic_demos\\../..\\pyzx\\simplify.py\", line 236, in greedy_simp\n",
      "    greedy_wire_reduce_count, applied_matches = greedy_wire_reduce(g, filter_flow_func=filter_flow_func, include_boundaries=include_boundaries, include_gadgets=include_gadgets, max_vertex_index=max_vertex_index, threshold=threshold, lookahead=lookahead, quiet=quiet, stats=stats)\n",
      "                                                ^^^^^^^^^^^^^^^^^^^^^^^^^^^^^^^^^^^^^^^^^^^^^^^^^^^^^^^^^^^^^^^^^^^^^^^^^^^^^^^^^^^^^^^^^^^^^^^^^^^^^^^^^^^^^^^^^^^^^^^^^^^^^^^^^^^^^^^^^^^^^^^^^^^^^^^^^^^^^^^^^^^^^^^^^^^^^^^^^^^^^^^^^^^^^^^^^^^^^^^^^^^^^^^^^^^^^^^^^^^^^^^^^^^^^^^\n",
      "  File \"c:\\Users\\wsajk\\Documents\\Arbeit\\MUNIQC-Atoms\\pyzx-heuristics\\demos\\heuristic_demos\\../..\\pyzx\\heuristics\\simplification.py\", line 1023, in greedy_wire_reduce\n",
      "    stats=stats,\n",
      "       ^^^^^^^^^^\n",
      "  File \"c:\\Users\\wsajk\\Documents\\Arbeit\\MUNIQC-Atoms\\pyzx-heuristics\\demos\\heuristic_demos\\../..\\pyzx\\heuristics\\simplification.py\", line 974, in greedy_wire_reduce\n",
      "  File \"c:\\Users\\wsajk\\Documents\\Arbeit\\MUNIQC-Atoms\\pyzx-heuristics\\demos\\heuristic_demos\\../..\\pyzx\\heuristics\\simplification.py\", line 168, in pivot_matcher\n",
      "    match = check_pivot_match(graph, edge, include_boundaries, include_gadgets, calculate_heuristic)\n",
      "            ^^^^^^^^^^^^^^^^^^^^^^^^^^^^^^^^^^^^^^^^^^^^^^^^^^^^^^^^^^^^^^^^^^^^^^^^^^^^^^^^^^^^^^^^\n",
      "  File \"c:\\Users\\wsajk\\Documents\\Arbeit\\MUNIQC-Atoms\\pyzx-heuristics\\demos\\heuristic_demos\\../..\\pyzx\\heuristics\\simplification.py\", line 79, in check_pivot_match\n",
      "    is_vertex0_not_clifford = get_phase_type(graph.phase(vertex0)) != PhaseType.CLIFFORD\n",
      "                              ^^^^^^^^^^^^^^^^^^^^^^^^^^^^^^^^^^^^\n",
      "  File \"c:\\Users\\wsajk\\Documents\\Arbeit\\MUNIQC-Atoms\\pyzx-heuristics\\demos\\heuristic_demos\\../..\\pyzx\\heuristics\\heuristics.py\", line 23, in get_phase_type\n",
      "    elif phase == Fraction(1,1) or phase == 0:\n",
      "         ^^^^^^^^^^^^^^^^^^^^^^\n",
      "  File \"C:\\Users\\wsajk\\AppData\\Local\\Programs\\Python\\Python311\\Lib\\fractions.py\", line 678, in __eq__\n",
      "    def __eq__(a, b):\n",
      "    \n",
      "KeyboardInterrupt\n",
      "\n",
      "During handling of the above exception, another exception occurred:\n",
      "\n",
      "Traceback (most recent call last):\n",
      "  File \"c:\\Users\\wsajk\\Documents\\Arbeit\\MUNIQC-Atoms\\muniqc\\Lib\\site-packages\\IPython\\core\\interactiveshell.py\", line 2144, in showtraceback\n",
      "    stb = self.InteractiveTB.structured_traceback(\n",
      "          ^^^^^^^^^^^^^^^^^^^^^^^^^^^^^^^^^^^^^^^^\n",
      "  File \"c:\\Users\\wsajk\\Documents\\Arbeit\\MUNIQC-Atoms\\muniqc\\Lib\\site-packages\\IPython\\core\\ultratb.py\", line 1435, in structured_traceback\n",
      "    return FormattedTB.structured_traceback(\n",
      "           ^^^^^^^^^^^^^^^^^^^^^^^^^^^^^^^^^\n",
      "  File \"c:\\Users\\wsajk\\Documents\\Arbeit\\MUNIQC-Atoms\\muniqc\\Lib\\site-packages\\IPython\\core\\ultratb.py\", line 1326, in structured_traceback\n",
      "    return VerboseTB.structured_traceback(\n",
      "           ^^^^^^^^^^^^^^^^^^^^^^^^^^^^^^^\n",
      "  File \"c:\\Users\\wsajk\\Documents\\Arbeit\\MUNIQC-Atoms\\muniqc\\Lib\\site-packages\\IPython\\core\\ultratb.py\", line 1173, in structured_traceback\n",
      "    formatted_exception = self.format_exception_as_a_whole(etype, evalue, etb, number_of_lines_of_context,\n",
      "                          ^^^^^^^^^^^^^^^^^^^^^^^^^^^^^^^^^^^^^^^^^^^^^^^^^^^^^^^^^^^^^^^^^^^^^^^^^^^^^^^^\n",
      "  File \"c:\\Users\\wsajk\\Documents\\Arbeit\\MUNIQC-Atoms\\muniqc\\Lib\\site-packages\\IPython\\core\\ultratb.py\", line 1088, in format_exception_as_a_whole\n",
      "    frames.append(self.format_record(record))\n",
      "                  ^^^^^^^^^^^^^^^^^^^^^^^^^^\n",
      "  File \"c:\\Users\\wsajk\\Documents\\Arbeit\\MUNIQC-Atoms\\muniqc\\Lib\\site-packages\\IPython\\core\\ultratb.py\", line 970, in format_record\n",
      "    frame_info.lines, Colors, self.has_colors, lvals\n",
      "    ^^^^^^^^^^^^^^^^\n",
      "  File \"c:\\Users\\wsajk\\Documents\\Arbeit\\MUNIQC-Atoms\\muniqc\\Lib\\site-packages\\IPython\\core\\ultratb.py\", line 792, in lines\n",
      "    return self._sd.lines\n",
      "           ^^^^^^^^^^^^^^\n",
      "  File \"c:\\Users\\wsajk\\Documents\\Arbeit\\MUNIQC-Atoms\\muniqc\\Lib\\site-packages\\stack_data\\utils.py\", line 145, in cached_property_wrapper\n",
      "    value = obj.__dict__[self.func.__name__] = self.func(obj)\n",
      "                                               ^^^^^^^^^^^^^^\n",
      "  File \"c:\\Users\\wsajk\\Documents\\Arbeit\\MUNIQC-Atoms\\muniqc\\Lib\\site-packages\\stack_data\\core.py\", line 734, in lines\n",
      "    pieces = self.included_pieces\n",
      "             ^^^^^^^^^^^^^^^^^^^^\n",
      "  File \"c:\\Users\\wsajk\\Documents\\Arbeit\\MUNIQC-Atoms\\muniqc\\Lib\\site-packages\\stack_data\\utils.py\", line 145, in cached_property_wrapper\n",
      "    value = obj.__dict__[self.func.__name__] = self.func(obj)\n",
      "                                               ^^^^^^^^^^^^^^\n",
      "  File \"c:\\Users\\wsajk\\Documents\\Arbeit\\MUNIQC-Atoms\\muniqc\\Lib\\site-packages\\stack_data\\core.py\", line 681, in included_pieces\n",
      "    pos = scope_pieces.index(self.executing_piece)\n",
      "                             ^^^^^^^^^^^^^^^^^^^^\n",
      "  File \"c:\\Users\\wsajk\\Documents\\Arbeit\\MUNIQC-Atoms\\muniqc\\Lib\\site-packages\\stack_data\\utils.py\", line 145, in cached_property_wrapper\n",
      "    value = obj.__dict__[self.func.__name__] = self.func(obj)\n",
      "                                               ^^^^^^^^^^^^^^\n",
      "  File \"c:\\Users\\wsajk\\Documents\\Arbeit\\MUNIQC-Atoms\\muniqc\\Lib\\site-packages\\stack_data\\core.py\", line 660, in executing_piece\n",
      "    return only(\n",
      "           ^^^^^\n",
      "  File \"c:\\Users\\wsajk\\Documents\\Arbeit\\MUNIQC-Atoms\\muniqc\\Lib\\site-packages\\executing\\executing.py\", line 116, in only\n",
      "    raise NotOneValueFound('Expected one value, found 0')\n",
      "executing.executing.NotOneValueFound: Expected one value, found 0\n"
     ]
    }
   ],
   "source": [
    "applied_matches_la = []\n",
    "\n",
    "for la in range(0,4):\n",
    "    print(\"Lookahead:\", la)\n",
    "    start_time = time.time()\n",
    "    g_greedy_la = g_tele.copy()\n",
    "    iterations, applied_matches = zx.simplify.greedy_simp(g_greedy_la, lookahead=la)\n",
    "    applied_matches_la.append(applied_matches)\n",
    "    print(zx.extract_circuit(g_greedy_la.copy()).stats())\n",
    "    print(\"Time:\", time.time()-start_time)\n",
    "    print(\"---------------------------------\")"
   ]
  },
  {
   "cell_type": "code",
   "execution_count": null,
   "id": "85bc0139",
   "metadata": {},
   "outputs": [],
   "source": [
    "first_item = applied_matches_la[0]\n",
    "\n",
    "for index, applied_matches in enumerate(applied_matches_la[1:], start=1):\n",
    "    differences = [i for i in range(min(len(first_item), len(applied_matches))) if first_item[i] != applied_matches[i]]\n",
    "    # differences = [i for i, element in enumerate(first_item) if element not in applied_matches] + [i for i, element in enumerate(applied_matches) if element not in first_item]\n",
    "    if differences:\n",
    "        first_diff_index = differences[0]\n",
    "        print(\"Items in list 0 beginning at \" + str(first_diff_index) + \" :\", first_item[first_diff_index:first_diff_index+index+1])\n",
    "        print(\"Items in list \" + str(index) + \" beginning at \" + str(first_diff_index) + \" :\", applied_matches[first_diff_index:first_diff_index+index+1])\n",
    "        print(\"\")"
   ]
  },
  {
   "cell_type": "code",
   "execution_count": 7,
   "id": "2d5e1708",
   "metadata": {},
   "outputs": [
    {
     "name": "stdout",
     "output_type": "stream",
     "text": [
      "Causal Flow\n",
      "Circuit  on 10 qubits with 693 gates.\n",
      "        56 is the T-count\n",
      "        637 Cliffords among which\n",
      "        227 2-qubit gates (0 CNOT, 227 other) and\n",
      "        322 Hadamard gates.\n",
      "Time: 2.020843505859375\n",
      "---------------------------------\n"
     ]
    }
   ],
   "source": [
    "print(\"Causal Flow\")\n",
    "start_time = time.time()\n",
    "g_greedy_cflow = g_tele.copy()\n",
    "iterations, applied_matches = zx.simplify.greedy_simp(g_greedy_cflow, lookahead=1, filter_flow_func=zx.heuristics.flow_calculation.identify_causal_flow)\n",
    "print(zx.extract_circuit(g_greedy_cflow.copy()).stats())\n",
    "print(\"Time:\", time.time()-start_time)\n",
    "print(\"---------------------------------\")"
   ]
  },
  {
   "cell_type": "code",
   "execution_count": null,
   "id": "9e6e4f64",
   "metadata": {},
   "outputs": [],
   "source": [
    "flow = zx.heuristics.flow_calculation.identify_causal_flow(g_greedy_cflow)\n",
    "print(flow)"
   ]
  },
  {
   "cell_type": "code",
   "execution_count": null,
   "id": "associate-toyota",
   "metadata": {},
   "outputs": [],
   "source": [
    "g_nu = g_tele.copy()\n",
    "zx.simplify.greedy_simp_neighbors(g_nu)\n",
    "print(zx.extract_circuit(g_nu.copy()).stats())"
   ]
  },
  {
   "cell_type": "code",
   "execution_count": null,
   "id": "dense-sharp",
   "metadata": {},
   "outputs": [],
   "source": [
    "g_sim_n = g_tele.copy()\n",
    "zx.simplify.sim_anneal_simp_neighbors(g_sim_n)\n",
    "print(zx.extract_circuit(g_sim_n.copy()).stats())"
   ]
  },
  {
   "cell_type": "code",
   "execution_count": null,
   "id": "0bcabf4c",
   "metadata": {},
   "outputs": [],
   "source": [
    "g_sim = g_tele.copy()\n",
    "zx.simplify.sim_anneal_simp(g_sim)\n",
    "print(zx.extract_circuit(g_sim.copy()).stats())"
   ]
  }
 ],
 "metadata": {
  "kernelspec": {
   "display_name": "Python 3",
   "language": "python",
   "name": "python3"
  },
  "language_info": {
   "codemirror_mode": {
    "name": "ipython",
    "version": 3
   },
   "file_extension": ".py",
   "mimetype": "text/x-python",
   "name": "python",
   "nbconvert_exporter": "python",
   "pygments_lexer": "ipython3",
   "version": "3.11.6"
  }
 },
 "nbformat": 4,
 "nbformat_minor": 5
}
