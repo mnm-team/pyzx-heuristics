{
 "cells": [
  {
   "cell_type": "code",
   "execution_count": 1,
   "id": "guilty-owner",
   "metadata": {},
   "outputs": [],
   "source": [
    "import sys; sys.path.append('../..')\n",
    "import random\n",
    "import pyzx as zx\n",
    "import os\n",
    "import pickle\n",
    "import time"
   ]
  },
  {
   "cell_type": "code",
   "execution_count": 2,
   "id": "9ac2d8b4",
   "metadata": {},
   "outputs": [],
   "source": [
    "import logging\n",
    "\n",
    "logger = logging.getLogger()\n",
    "logger.setLevel(logging.DEBUG)"
   ]
  },
  {
   "cell_type": "code",
   "execution_count": 3,
   "id": "2600c747",
   "metadata": {},
   "outputs": [],
   "source": [
    "def sliding_window(elements, window_size):\n",
    "    if len(elements) < window_size:\n",
    "        return [elements]\n",
    "    \n",
    "    for i in range(len(elements) - window_size + 1):\n",
    "        yield elements[i:i+window_size]"
   ]
  },
  {
   "cell_type": "markdown",
   "id": "banner-vegetable",
   "metadata": {},
   "source": [
    "### Heuristic simplification\n",
    "- When simplifying ZX-diagrams with T-spiders, simplification routines like full_reduce lead to a very high two-qubit gate count.\n",
    "- When using heuristic-based approaches we can circumvent the problem to some extent leading to better overall circuit cost after optimization"
   ]
  },
  {
   "cell_type": "code",
   "execution_count": 4,
   "id": "light-emphasis",
   "metadata": {},
   "outputs": [
    {
     "name": "stdout",
     "output_type": "stream",
     "text": [
      "Circuit  on 10 qubits with 500 gates.\n",
      "        132 is the T-count\n",
      "        368 Cliffords among which\n",
      "        260 2-qubit gates (260 CNOT, 0 other) and\n",
      "        0 Hadamard gates.\n"
     ]
    }
   ],
   "source": [
    "random.seed(1342)\n",
    "g = zx.generate.cliffordT(qubits=10, depth=500, p_t=0.3, p_cnot=0.5)\n",
    "c = zx.Circuit.from_graph(g)\n",
    "print(c.stats())"
   ]
  },
  {
   "cell_type": "code",
   "execution_count": 5,
   "id": "3ba1c8f2",
   "metadata": {},
   "outputs": [
    {
     "name": "stdout",
     "output_type": "stream",
     "text": [
      "Time copy: 0.0024988999939523637\n",
      "Time clone: 0.00020929999300278723\n"
     ]
    }
   ],
   "source": [
    "time_copy = time.perf_counter()\n",
    "g_copy = g.copy()\n",
    "print(f\"Time copy: {time.perf_counter() - time_copy}\")\n",
    "\n",
    "time_clone = time.perf_counter()\n",
    "g_clone = g.clone()\n",
    "print(f\"Time clone: {time.perf_counter() - time_clone}\")"
   ]
  },
  {
   "cell_type": "code",
   "execution_count": 6,
   "id": "enabling-referral",
   "metadata": {},
   "outputs": [
    {
     "name": "stdout",
     "output_type": "stream",
     "text": [
      "Circuit  on 10 qubits with 464 gates.\n",
      "        56 is the T-count\n",
      "        408 Cliffords among which\n",
      "        252 2-qubit gates (248 CNOT, 4 other) and\n",
      "        46 Hadamard gates.\n"
     ]
    }
   ],
   "source": [
    "c = zx.optimize.basic_optimization(c.split_phase_gates())\n",
    "g = c.to_graph()\n",
    "g_tele = zx.simplify.teleport_reduce(g)\n",
    "g_tele.track_phases = False\n",
    "print(zx.Circuit.from_graph(g).split_phase_gates().stats())"
   ]
  },
  {
   "cell_type": "code",
   "execution_count": 7,
   "id": "ahead-lease",
   "metadata": {},
   "outputs": [
    {
     "name": "stdout",
     "output_type": "stream",
     "text": [
      "Circuit  on 10 qubits with 439 gates.\n",
      "        56 is the T-count\n",
      "        383 Cliffords among which\n",
      "        287 2-qubit gates (67 CNOT, 220 other) and\n",
      "        90 Hadamard gates.\n"
     ]
    }
   ],
   "source": [
    "g_full = g_tele.copy()\n",
    "zx.simplify.full_reduce(g_full)\n",
    "print(zx.extract_circuit(g_full.copy()).stats())"
   ]
  },
  {
   "cell_type": "code",
   "execution_count": 9,
   "id": "41857d90",
   "metadata": {},
   "outputs": [
    {
     "name": "stdout",
     "output_type": "stream",
     "text": [
      "Lookahead: 0\n"
     ]
    },
    {
     "name": "stderr",
     "output_type": "stream",
     "text": [
      "INFO:root:greedy_wire_reduce_count: 93\n"
     ]
    },
    {
     "name": "stdout",
     "output_type": "stream",
     "text": [
      "Circuit  on 10 qubits with 594 gates.\n",
      "        56 is the T-count\n",
      "        538 Cliffords among which\n",
      "        240 2-qubit gates (4 CNOT, 236 other) and\n",
      "        223 Hadamard gates.\n",
      "Time: 0.5891807079315186\n",
      "---------------------------------\n",
      "Lookahead: 1\n"
     ]
    },
    {
     "name": "stderr",
     "output_type": "stream",
     "text": [
      "INFO:root:greedy_wire_reduce_count: 92\n"
     ]
    },
    {
     "name": "stdout",
     "output_type": "stream",
     "text": [
      "Circuit  on 10 qubits with 591 gates.\n",
      "        56 is the T-count\n",
      "        535 Cliffords among which\n",
      "        235 2-qubit gates (4 CNOT, 231 other) and\n",
      "        224 Hadamard gates.\n",
      "Time: 8.804667472839355\n",
      "---------------------------------\n",
      "Lookahead: 2\n"
     ]
    },
    {
     "name": "stderr",
     "output_type": "stream",
     "text": [
      "INFO:root:greedy_wire_reduce_count: 97\n"
     ]
    },
    {
     "name": "stdout",
     "output_type": "stream",
     "text": [
      "Circuit  on 10 qubits with 583 gates.\n",
      "        56 is the T-count\n",
      "        527 Cliffords among which\n",
      "        235 2-qubit gates (3 CNOT, 232 other) and\n",
      "        217 Hadamard gates.\n",
      "Time: 54.03707146644592\n",
      "---------------------------------\n",
      "Lookahead: 3\n"
     ]
    },
    {
     "name": "stderr",
     "output_type": "stream",
     "text": [
      "INFO:root:greedy_wire_reduce_count: 114\n"
     ]
    },
    {
     "name": "stdout",
     "output_type": "stream",
     "text": [
      "Circuit  on 10 qubits with 563 gates.\n",
      "        56 is the T-count\n",
      "        507 Cliffords among which\n",
      "        246 2-qubit gates (5 CNOT, 241 other) and\n",
      "        191 Hadamard gates.\n",
      "Time: 226.05865716934204\n",
      "---------------------------------\n"
     ]
    }
   ],
   "source": [
    "applied_matches_la = []\n",
    "\n",
    "for la in range(0,4):\n",
    "    print(\"Lookahead:\", la)\n",
    "    start_time = time.time()\n",
    "    g_greedy_la = g_tele.copy()\n",
    "    iterations, applied_matches = zx.simplify.greedy_simp(g_greedy_la, lookahead=la)\n",
    "    applied_matches_la.append(applied_matches)\n",
    "    print(zx.extract_circuit(g_greedy_la.copy()).stats())\n",
    "    print(\"Time:\", time.time()-start_time)\n",
    "    print(\"---------------------------------\")"
   ]
  },
  {
   "cell_type": "code",
   "execution_count": null,
   "id": "85bc0139",
   "metadata": {},
   "outputs": [
    {
     "name": "stdout",
     "output_type": "stream",
     "text": [
      "Items in list 0 beginning at 26 : [{'match': (2, (393, 397), -2), 'match type': 'pivot'}, {'match': (1, (444, 445), -2), 'match type': 'pivot'}]\n",
      "Items in list 1 beginning at 26 : [{'match': (1, (574, 601), -2), 'match type': 'pivot'}, {'match': (3, (578, 587), -2), 'match type': 'pivot'}]\n",
      "\n"
     ]
    }
   ],
   "source": [
    "first_item = applied_matches_la[0]\n",
    "\n",
    "for index, applied_matches in enumerate(applied_matches_la[1:], start=1):\n",
    "    differences = [i for i in range(min(len(first_item), len(applied_matches))) if first_item[i] != applied_matches[i]]\n",
    "    # differences = [i for i, element in enumerate(first_item) if element not in applied_matches] + [i for i, element in enumerate(applied_matches) if element not in first_item]\n",
    "    if differences:\n",
    "        first_diff_index = differences[0]\n",
    "        print(\"Items in list 0 beginning at \" + str(first_diff_index) + \" :\", first_item[first_diff_index:first_diff_index+index+1])\n",
    "        print(\"Items in list \" + str(index) + \" beginning at \" + str(first_diff_index) + \" :\", applied_matches[first_diff_index:first_diff_index+index+1])\n",
    "        print(\"\")"
   ]
  },
  {
   "cell_type": "code",
   "execution_count": null,
   "id": "associate-toyota",
   "metadata": {},
   "outputs": [
    {
     "ename": "KeyboardInterrupt",
     "evalue": "",
     "output_type": "error",
     "traceback": [
      "\u001b[1;31m---------------------------------------------------------------------------\u001b[0m",
      "\u001b[1;31mKeyboardInterrupt\u001b[0m                         Traceback (most recent call last)",
      "Cell \u001b[1;32mIn[10], line 2\u001b[0m\n\u001b[0;32m      1\u001b[0m g_nu \u001b[38;5;241m=\u001b[39m g_tele\u001b[38;5;241m.\u001b[39mcopy()\n\u001b[1;32m----> 2\u001b[0m \u001b[43mzx\u001b[49m\u001b[38;5;241;43m.\u001b[39;49m\u001b[43msimplify\u001b[49m\u001b[38;5;241;43m.\u001b[39;49m\u001b[43mgreedy_simp_neighbors\u001b[49m\u001b[43m(\u001b[49m\u001b[43mg_nu\u001b[49m\u001b[43m)\u001b[49m\n\u001b[0;32m      3\u001b[0m \u001b[38;5;28mprint\u001b[39m(zx\u001b[38;5;241m.\u001b[39mextract_circuit(g_nu\u001b[38;5;241m.\u001b[39mcopy())\u001b[38;5;241m.\u001b[39mstats())\n",
      "File \u001b[1;32mc:\\Users\\wsajk\\Documents\\Arbeit\\MUNIQC-Atoms\\pyzx-heuristics\\demos\\heuristic_demos\\../..\\pyzx\\simplify.py:255\u001b[0m, in \u001b[0;36mgreedy_simp_neighbors\u001b[1;34m(g, max_vertex_index, threshold, quiet, stats)\u001b[0m\n\u001b[0;32m    253\u001b[0m id_simp_count \u001b[38;5;241m=\u001b[39m id_simp(g, quiet\u001b[38;5;241m=\u001b[39mquiet, stats\u001b[38;5;241m=\u001b[39mstats)\n\u001b[0;32m    254\u001b[0m spider_simp_count \u001b[38;5;241m=\u001b[39m spider_simp(g, quiet\u001b[38;5;241m=\u001b[39mquiet, stats\u001b[38;5;241m=\u001b[39mstats) \n\u001b[1;32m--> 255\u001b[0m greedy_wire_reduce_neighbor_count \u001b[38;5;241m=\u001b[39m \u001b[43mgreedy_wire_reduce_neighbor\u001b[49m\u001b[43m(\u001b[49m\u001b[43mg\u001b[49m\u001b[43m,\u001b[49m\u001b[43mmax_vertex_index\u001b[49m\u001b[38;5;241;43m=\u001b[39;49m\u001b[43mmax_vertex_index\u001b[49m\u001b[43m,\u001b[49m\u001b[43m \u001b[49m\u001b[43mthreshold\u001b[49m\u001b[38;5;241;43m=\u001b[39;49m\u001b[43mthreshold\u001b[49m\u001b[43m,\u001b[49m\u001b[43m \u001b[49m\u001b[43mquiet\u001b[49m\u001b[38;5;241;43m=\u001b[39;49m\u001b[43mquiet\u001b[49m\u001b[43m,\u001b[49m\u001b[43m \u001b[49m\u001b[43mstats\u001b[49m\u001b[38;5;241;43m=\u001b[39;49m\u001b[43mstats\u001b[49m\u001b[43m)\u001b[49m\n\u001b[0;32m    257\u001b[0m \u001b[38;5;28;01mif\u001b[39;00m id_simp_count \u001b[38;5;241m+\u001b[39m spider_simp_count \u001b[38;5;241m+\u001b[39m greedy_wire_reduce_neighbor_count \u001b[38;5;241m==\u001b[39m \u001b[38;5;241m0\u001b[39m: \u001b[38;5;28;01mbreak\u001b[39;00m\n\u001b[0;32m    258\u001b[0m iteration_count \u001b[38;5;241m+\u001b[39m\u001b[38;5;241m=\u001b[39m \u001b[38;5;241m1\u001b[39m\n",
      "File \u001b[1;32mc:\\Users\\wsajk\\Documents\\Arbeit\\MUNIQC-Atoms\\pyzx-heuristics\\demos\\heuristic_demos\\../..\\pyzx\\heuristics\\neighbor_unfusion_simplification.py:387\u001b[0m, in \u001b[0;36mgreedy_wire_reduce_neighbor\u001b[1;34m(graph, max_vertex_index, threshold, quiet, stats)\u001b[0m\n\u001b[0;32m    385\u001b[0m         iteration_count \u001b[38;5;241m+\u001b[39m\u001b[38;5;241m=\u001b[39m \u001b[38;5;241m1\u001b[39m\n\u001b[0;32m    386\u001b[0m         changes_made \u001b[38;5;241m=\u001b[39m \u001b[38;5;28;01mTrue\u001b[39;00m\n\u001b[1;32m--> 387\u001b[0m         flow \u001b[38;5;241m=\u001b[39m \u001b[43mgflow\u001b[49m\u001b[43m(\u001b[49m\u001b[43mgraph\u001b[49m\u001b[43m)\u001b[49m[\u001b[38;5;241m1\u001b[39m]\n\u001b[0;32m    389\u001b[0m \u001b[38;5;28;01mreturn\u001b[39;00m iteration_count\n",
      "File \u001b[1;32mc:\\Users\\wsajk\\Documents\\Arbeit\\MUNIQC-Atoms\\pyzx-heuristics\\demos\\heuristic_demos\\../..\\pyzx\\gflow.py:111\u001b[0m, in \u001b[0;36mgflow\u001b[1;34m(g)\u001b[0m\n\u001b[0;32m    109\u001b[0m vu \u001b[38;5;241m=\u001b[39m zerovec\u001b[38;5;241m.\u001b[39mcopy()\n\u001b[0;32m    110\u001b[0m vu\u001b[38;5;241m.\u001b[39mdata[candidates\u001b[38;5;241m.\u001b[39mindex(u)] \u001b[38;5;241m=\u001b[39m [\u001b[38;5;241m1\u001b[39m]\n\u001b[1;32m--> 111\u001b[0m x \u001b[38;5;241m=\u001b[39m \u001b[43mm\u001b[49m\u001b[38;5;241;43m.\u001b[39;49m\u001b[43msolve\u001b[49m\u001b[43m(\u001b[49m\u001b[43mvu\u001b[49m\u001b[43m)\u001b[49m\n\u001b[0;32m    112\u001b[0m \u001b[38;5;28;01mif\u001b[39;00m x:\n\u001b[0;32m    113\u001b[0m     correct\u001b[38;5;241m.\u001b[39madd(u)\n",
      "File \u001b[1;32mc:\\Users\\wsajk\\Documents\\Arbeit\\MUNIQC-Atoms\\pyzx-heuristics\\demos\\heuristic_demos\\../..\\pyzx\\linalg.py:288\u001b[0m, in \u001b[0;36mMat2.solve\u001b[1;34m(self, b)\u001b[0m\n\u001b[0;32m    286\u001b[0m m \u001b[38;5;241m=\u001b[39m \u001b[38;5;28mself\u001b[39m\u001b[38;5;241m.\u001b[39mcopy()\n\u001b[0;32m    287\u001b[0m b1 \u001b[38;5;241m=\u001b[39m b\u001b[38;5;241m.\u001b[39mcopy()\n\u001b[1;32m--> 288\u001b[0m rank \u001b[38;5;241m=\u001b[39m \u001b[43mm\u001b[49m\u001b[38;5;241;43m.\u001b[39;49m\u001b[43mgauss\u001b[49m\u001b[43m(\u001b[49m\u001b[43mx\u001b[49m\u001b[38;5;241;43m=\u001b[39;49m\u001b[43mb1\u001b[49m\u001b[43m,\u001b[49m\u001b[43m \u001b[49m\u001b[43mfull_reduce\u001b[49m\u001b[38;5;241;43m=\u001b[39;49m\u001b[38;5;28;43;01mTrue\u001b[39;49;00m\u001b[43m)\u001b[49m\n\u001b[0;32m    290\u001b[0m \u001b[38;5;66;03m# check for inconsistencies and set x to a\u001b[39;00m\n\u001b[0;32m    291\u001b[0m \u001b[38;5;66;03m#  particular solution\u001b[39;00m\n\u001b[0;32m    292\u001b[0m x \u001b[38;5;241m=\u001b[39m Mat2\u001b[38;5;241m.\u001b[39mzeros(m\u001b[38;5;241m.\u001b[39mcols(),\u001b[38;5;241m1\u001b[39m)\n",
      "File \u001b[1;32mc:\\Users\\wsajk\\Documents\\Arbeit\\MUNIQC-Atoms\\pyzx-heuristics\\demos\\heuristic_demos\\../..\\pyzx\\linalg.py:222\u001b[0m, in \u001b[0;36mMat2.gauss\u001b[1;34m(self, full_reduce, x, y, blocksize, pivot_cols)\u001b[0m\n\u001b[0;32m    219\u001b[0m pivot_row \u001b[38;5;241m-\u001b[39m\u001b[38;5;241m=\u001b[39m \u001b[38;5;241m1\u001b[39m\n\u001b[0;32m    220\u001b[0m pivot_cols1 \u001b[38;5;241m=\u001b[39m pivot_cols\u001b[38;5;241m.\u001b[39mcopy()\n\u001b[1;32m--> 222\u001b[0m \u001b[38;5;28;01mfor\u001b[39;00m sec \u001b[38;5;129;01min\u001b[39;00m \u001b[38;5;28mrange\u001b[39m(math\u001b[38;5;241m.\u001b[39mceil(cols \u001b[38;5;241m/\u001b[39m blocksize) \u001b[38;5;241m-\u001b[39m \u001b[38;5;241m1\u001b[39m, \u001b[38;5;241m-\u001b[39m\u001b[38;5;241m1\u001b[39m, \u001b[38;5;241m-\u001b[39m\u001b[38;5;241m1\u001b[39m):\n\u001b[0;32m    223\u001b[0m     i0 \u001b[38;5;241m=\u001b[39m sec \u001b[38;5;241m*\u001b[39m blocksize\n\u001b[0;32m    224\u001b[0m     i1 \u001b[38;5;241m=\u001b[39m \u001b[38;5;28mmin\u001b[39m(cols, (sec\u001b[38;5;241m+\u001b[39m\u001b[38;5;241m1\u001b[39m) \u001b[38;5;241m*\u001b[39m blocksize)\n",
      "\u001b[1;31mKeyboardInterrupt\u001b[0m: "
     ]
    }
   ],
   "source": [
    "g_nu = g_tele.copy()\n",
    "zx.simplify.greedy_simp_neighbors(g_nu)\n",
    "print(zx.extract_circuit(g_nu.copy()).stats())"
   ]
  },
  {
   "cell_type": "code",
   "execution_count": null,
   "id": "dense-sharp",
   "metadata": {},
   "outputs": [
    {
     "name": "stdout",
     "output_type": "stream",
     "text": [
      "final num edges:  480\n",
      "Circuit  on 10 qubits with 610 gates.\n",
      "        56 is the T-count\n",
      "        554 Cliffords among which\n",
      "        230 2-qubit gates (2 CNOT, 228 other) and\n",
      "        245 Hadamard gates.\n"
     ]
    }
   ],
   "source": [
    "g_sim_n = g_tele.copy()\n",
    "zx.simplify.sim_anneal_simp_neighbors(g_sim_n)\n",
    "print(zx.extract_circuit(g_sim_n.copy()).stats())"
   ]
  },
  {
   "cell_type": "code",
   "execution_count": null,
   "id": "0bcabf4c",
   "metadata": {},
   "outputs": [
    {
     "name": "stdout",
     "output_type": "stream",
     "text": [
      "Circuit  on 10 qubits with 600 gates.\n",
      "        56 is the T-count\n",
      "        544 Cliffords among which\n",
      "        248 2-qubit gates (8 CNOT, 240 other) and\n",
      "        214 Hadamard gates.\n"
     ]
    }
   ],
   "source": [
    "g_sim = g_tele.copy()\n",
    "zx.simplify.sim_anneal_simp(g_sim)\n",
    "print(zx.extract_circuit(g_sim.copy()).stats())"
   ]
  }
 ],
 "metadata": {
  "kernelspec": {
   "display_name": "Python 3",
   "language": "python",
   "name": "python3"
  },
  "language_info": {
   "codemirror_mode": {
    "name": "ipython",
    "version": 3
   },
   "file_extension": ".py",
   "mimetype": "text/x-python",
   "name": "python",
   "nbconvert_exporter": "python",
   "pygments_lexer": "ipython3",
   "version": "3.11.6"
  }
 },
 "nbformat": 4,
 "nbformat_minor": 5
}
