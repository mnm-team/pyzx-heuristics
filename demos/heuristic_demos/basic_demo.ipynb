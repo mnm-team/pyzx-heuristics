{
 "cells": [
  {
   "cell_type": "code",
   "execution_count": 1,
   "id": "guilty-owner",
   "metadata": {},
   "outputs": [],
   "source": [
    "import sys; sys.path.append('../..')\n",
    "import random\n",
    "import pyzx as zx\n",
    "import os\n",
    "import pickle\n",
    "import time"
   ]
  },
  {
   "cell_type": "markdown",
   "id": "banner-vegetable",
   "metadata": {},
   "source": [
    "### Heuristic simplification\n",
    "- When simplifying ZX-diagrams with T-spiders, simplification routines like full_reduce lead to a very high two-qubit gate count.\n",
    "- When using heuristic-based approaches we can circumvent the problem to some extent leading to better overall circuit cost after optimization"
   ]
  },
  {
   "cell_type": "code",
   "execution_count": 17,
   "id": "light-emphasis",
   "metadata": {},
   "outputs": [
    {
     "name": "stdout",
     "output_type": "stream",
     "text": [
      "Circuit  on 8 qubits with 500 gates.\n",
      "        155 is the T-count\n",
      "        345 Cliffords among which \n",
      "        114 2-qubit gates (114 CNOT, 0 other) and\n",
      "        0 Hadamard gates.\n"
     ]
    }
   ],
   "source": [
    "random.seed(1344)\n",
    "g = zx.generate.cliffordT(qubits=8, depth=500, p_t=0.3)\n",
    "c = zx.Circuit.from_graph(g)\n",
    "print(c.stats())"
   ]
  },
  {
   "cell_type": "code",
   "execution_count": 18,
   "id": "enabling-referral",
   "metadata": {},
   "outputs": [
    {
     "data": {
      "text/plain": [
       "'Circuit  on 8 qubits with 349 gates.\\n        69 is the T-count\\n        280 Cliffords among which \\n        114 2-qubit gates (107 CNOT, 7 other) and\\n        73 Hadamard gates.'"
      ]
     },
     "execution_count": 18,
     "metadata": {},
     "output_type": "execute_result"
    }
   ],
   "source": [
    "c = zx.optimize.basic_optimization(c.split_phase_gates())\n",
    "g = c.to_graph()\n",
    "g_tele = zx.simplify.teleport_reduce(g)\n",
    "g_tele.track_phases = False\n",
    "zx.Circuit.from_graph(g).split_phase_gates().stats()"
   ]
  },
  {
   "cell_type": "code",
   "execution_count": 19,
   "id": "ahead-lease",
   "metadata": {},
   "outputs": [
    {
     "data": {
      "text/plain": [
       "'Circuit  on 8 qubits with 381 gates.\\n        69 is the T-count\\n        312 Cliffords among which \\n        214 2-qubit gates (34 CNOT, 180 other) and\\n        93 Hadamard gates.'"
      ]
     },
     "execution_count": 19,
     "metadata": {},
     "output_type": "execute_result"
    }
   ],
   "source": [
    "g_full = g_tele.copy()\n",
    "zx.simplify.full_reduce(g_full)\n",
    "zx.extract_circuit(g_full.copy()).stats()"
   ]
  },
  {
   "cell_type": "code",
   "execution_count": 24,
   "id": "multiple-curtis",
   "metadata": {},
   "outputs": [
    {
     "name": "stdout",
     "output_type": "stream",
     "text": [
      "spider_simp: 81. 47. 22. 13. 5. 1.  6 iterations\n",
      "spider_simp: 5. 1.  2 iterations\n",
      "id_simp: 6. 3.  2 iterations\n"
     ]
    },
    {
     "data": {
      "text/plain": [
       "'Circuit  on 8 qubits with 368 gates.\\n        69 is the T-count\\n        299 Cliffords among which \\n        106 2-qubit gates (2 CNOT, 104 other) and\\n        153 Hadamard gates.'"
      ]
     },
     "execution_count": 24,
     "metadata": {},
     "output_type": "execute_result"
    }
   ],
   "source": [
    "g_greedy = g_tele.copy()\n",
    "zx.simplify.greedy_simp(g_greedy)\n",
    "zx.extract_circuit(g_greedy.copy()).stats()"
   ]
  },
  {
   "cell_type": "code",
   "execution_count": 20,
   "id": "associate-toyota",
   "metadata": {},
   "outputs": [
    {
     "name": "stdout",
     "output_type": "stream",
     "text": [
      "spider_simp: 81. 47. 22. 13. 5. 1.  6 iterations\n",
      "spider_simp: 5. 1.  2 iterations\n",
      "id_simp: 6. 3.  2 iterations\n"
     ]
    },
    {
     "data": {
      "text/plain": [
       "'Circuit  on 8 qubits with 369 gates.\\n        69 is the T-count\\n        300 Cliffords among which \\n        105 2-qubit gates (2 CNOT, 103 other) and\\n        155 Hadamard gates.'"
      ]
     },
     "execution_count": 20,
     "metadata": {},
     "output_type": "execute_result"
    }
   ],
   "source": [
    "g_nu = g_tele.copy()\n",
    "zx.simplify.greedy_simp_neighbors(g_nu)\n",
    "zx.extract_circuit(g_nu.copy()).stats()"
   ]
  },
  {
   "cell_type": "code",
   "execution_count": null,
   "id": "dense-sharp",
   "metadata": {},
   "outputs": [],
   "source": []
  }
 ],
 "metadata": {
  "kernelspec": {
   "display_name": "Python 3",
   "language": "python",
   "name": "python3"
  },
  "language_info": {
   "codemirror_mode": {
    "name": "ipython",
    "version": 3
   },
   "file_extension": ".py",
   "mimetype": "text/x-python",
   "name": "python",
   "nbconvert_exporter": "python",
   "pygments_lexer": "ipython3",
   "version": "3.9.1"
  }
 },
 "nbformat": 4,
 "nbformat_minor": 5
}

