{
 "cells": [
  {
   "cell_type": "code",
   "execution_count": 1,
   "id": "guilty-owner",
   "metadata": {},
   "outputs": [],
   "source": [
    "import sys; sys.path.append('../..')\n",
    "import random\n",
    "import pyzx as zx\n",
    "import os\n",
    "import pickle\n",
    "import time"
   ]
  },
  {
   "cell_type": "code",
   "execution_count": 2,
   "id": "9ac2d8b4",
   "metadata": {},
   "outputs": [],
   "source": [
    "import logging\n",
    "\n",
    "logger = logging.getLogger()\n",
    "logger.setLevel(logging.DEBUG)"
   ]
  },
  {
   "cell_type": "code",
   "execution_count": 3,
   "id": "2600c747",
   "metadata": {},
   "outputs": [],
   "source": [
    "def sliding_window(elements, window_size):\n",
    "    if len(elements) < window_size:\n",
    "        return [elements]\n",
    "    \n",
    "    for i in range(len(elements) - window_size + 1):\n",
    "        yield elements[i:i+window_size]"
   ]
  },
  {
   "cell_type": "markdown",
   "id": "banner-vegetable",
   "metadata": {},
   "source": [
    "### Heuristic simplification\n",
    "- When simplifying ZX-diagrams with T-spiders, simplification routines like full_reduce lead to a very high two-qubit gate count.\n",
    "- When using heuristic-based approaches we can circumvent the problem to some extent leading to better overall circuit cost after optimization"
   ]
  },
  {
   "cell_type": "code",
   "execution_count": 4,
   "id": "light-emphasis",
   "metadata": {},
   "outputs": [
    {
     "name": "stdout",
     "output_type": "stream",
     "text": [
      "Circuit  on 10 qubits with 500 gates.\n",
      "        132 is the T-count\n",
      "        368 Cliffords among which\n",
      "        260 2-qubit gates (260 CNOT, 0 other) and\n",
      "        0 Hadamard gates.\n"
     ]
    }
   ],
   "source": [
    "random.seed(1342)\n",
    "g = zx.generate.cliffordT(qubits=10, depth=500, p_t=0.3, p_cnot=0.5)\n",
    "c = zx.Circuit.from_graph(g)\n",
    "print(c.stats())"
   ]
  },
  {
   "cell_type": "code",
   "execution_count": 5,
   "id": "3ba1c8f2",
   "metadata": {},
   "outputs": [
    {
     "name": "stdout",
     "output_type": "stream",
     "text": [
      "Time copy: 0.002775599976303056\n",
      "Time clone: 0.0002696999872568995\n"
     ]
    }
   ],
   "source": [
    "time_copy = time.perf_counter()\n",
    "g_copy = g.copy()\n",
    "print(f\"Time copy: {time.perf_counter() - time_copy}\")\n",
    "\n",
    "time_clone = time.perf_counter()\n",
    "g_clone = g.clone()\n",
    "print(f\"Time clone: {time.perf_counter() - time_clone}\")"
   ]
  },
  {
   "cell_type": "code",
   "execution_count": 6,
   "id": "enabling-referral",
   "metadata": {},
   "outputs": [
    {
     "name": "stdout",
     "output_type": "stream",
     "text": [
      "Circuit  on 10 qubits with 464 gates.\n",
      "        56 is the T-count\n",
      "        408 Cliffords among which\n",
      "        252 2-qubit gates (248 CNOT, 4 other) and\n",
      "        46 Hadamard gates.\n"
     ]
    }
   ],
   "source": [
    "c = zx.optimize.basic_optimization(c.split_phase_gates())\n",
    "g = c.to_graph()\n",
    "g_tele = zx.simplify.teleport_reduce(g)\n",
    "g_tele.track_phases = False\n",
    "print(zx.Circuit.from_graph(g).split_phase_gates().stats())"
   ]
  },
  {
   "cell_type": "code",
   "execution_count": 7,
   "id": "ahead-lease",
   "metadata": {},
   "outputs": [
    {
     "name": "stdout",
     "output_type": "stream",
     "text": [
      "Circuit  on 10 qubits with 439 gates.\n",
      "        56 is the T-count\n",
      "        383 Cliffords among which\n",
      "        287 2-qubit gates (67 CNOT, 220 other) and\n",
      "        90 Hadamard gates.\n"
     ]
    }
   ],
   "source": [
    "g_full = g_tele.copy()\n",
    "zx.simplify.full_reduce(g_full)\n",
    "print(zx.extract_circuit(g_full.copy()).stats())"
   ]
  },
  {
   "cell_type": "code",
   "execution_count": 8,
   "id": "41857d90",
   "metadata": {},
   "outputs": [
    {
     "name": "stderr",
     "output_type": "stream",
     "text": [
      "INFO:root:greedy_wire_reduce_count: 95\n"
     ]
    },
    {
     "name": "stdout",
     "output_type": "stream",
     "text": [
      "Lookahead: 0\n",
      "Circuit  on 10 qubits with 593 gates.\n",
      "        56 is the T-count\n",
      "        537 Cliffords among which\n",
      "        232 2-qubit gates (3 CNOT, 229 other) and\n",
      "        226 Hadamard gates.\n",
      "Time: 0.09786558151245117\n",
      "---------------------------------\n",
      "Lookahead: 1\n"
     ]
    },
    {
     "name": "stderr",
     "output_type": "stream",
     "text": [
      "INFO:root:greedy_wire_reduce_count: 93\n"
     ]
    },
    {
     "name": "stdout",
     "output_type": "stream",
     "text": [
      "Circuit  on 10 qubits with 583 gates.\n",
      "        56 is the T-count\n",
      "        527 Cliffords among which\n",
      "        222 2-qubit gates (2 CNOT, 220 other) and\n",
      "        227 Hadamard gates.\n",
      "Time: 2.1193220615386963\n",
      "---------------------------------\n",
      "Lookahead: 2\n"
     ]
    },
    {
     "name": "stderr",
     "output_type": "stream",
     "text": [
      "INFO:root:greedy_wire_reduce_count: 116\n",
      "INFO:root:greedy_wire_reduce_count: 5\n",
      "INFO:root:greedy_wire_reduce_count: 6\n"
     ]
    },
    {
     "name": "stdout",
     "output_type": "stream",
     "text": [
      "Circuit  on 10 qubits with 531 gates.\n",
      "        56 is the T-count\n",
      "        475 Cliffords among which\n",
      "        233 2-qubit gates (5 CNOT, 228 other) and\n",
      "        183 Hadamard gates.\n",
      "Time: 21.167829513549805\n",
      "---------------------------------\n",
      "Lookahead: 3\n"
     ]
    },
    {
     "name": "stderr",
     "output_type": "stream",
     "text": [
      "INFO:root:greedy_wire_reduce_count: 143\n"
     ]
    },
    {
     "name": "stdout",
     "output_type": "stream",
     "text": [
      "Circuit  on 10 qubits with 516 gates.\n",
      "        56 is the T-count\n",
      "        460 Cliffords among which\n",
      "        247 2-qubit gates (6 CNOT, 241 other) and\n",
      "        164 Hadamard gates.\n",
      "Time: 96.2125186920166\n",
      "---------------------------------\n"
     ]
    }
   ],
   "source": [
    "applied_matches_la = []\n",
    "\n",
    "for la in range(0,4):\n",
    "    print(\"Lookahead:\", la)\n",
    "    start_time = time.time()\n",
    "    g_greedy_la = g_tele.copy()\n",
    "    iterations, applied_matches = zx.simplify.greedy_simp(g_greedy_la, lookahead=la)\n",
    "    applied_matches_la.append(applied_matches)\n",
    "    print(zx.extract_circuit(g_greedy_la.copy()).stats())\n",
    "    print(\"Time:\", time.time()-start_time)\n",
    "    print(\"---------------------------------\")"
   ]
  },
  {
   "cell_type": "code",
   "execution_count": 9,
   "id": "85bc0139",
   "metadata": {},
   "outputs": [
    {
     "name": "stdout",
     "output_type": "stream",
     "text": [
      "Items in list 0 beginning at 26 : [((393, 397), (2, -2)), ((12,), (1.0, [11, 34], -1))]\n",
      "Items in list 1 beginning at 26 : [((78,), (1.0, [79, 52], -1)), ((79, 90), (3, -2))]\n",
      "\n",
      "Items in list 0 beginning at 0 : [((694, 695), (5, -2)), ((700, 701), (5, -2)), ((682, 683), (5, -2))]\n",
      "Items in list 2 beginning at 0 : [((482,), (-5.0, [486, 495, 398, 433, 444], -1)), ((486,), (6.0, [518, 454, 344, 495, 398, 433, 444], -1)), ((337,), (-6.0, [314, 276, 354, 362, 336, 344, 353], -1))]\n",
      "\n",
      "Items in list 0 beginning at 13 : [((644, 652), (3, -2)), ((457, 473), (2, -2)), ((690, 693), (2, -2)), ((678, 687), (2, -2))]\n",
      "Items in list 3 beginning at 13 : [((231, 244), (1, -2)), ((204, 255), (3, -2)), ((256,), (1.0, [257, 220], -1)), ((257, 259), (4, -2))]\n",
      "\n"
     ]
    }
   ],
   "source": [
    "first_item = applied_matches_la[0]\n",
    "\n",
    "for index, applied_matches in enumerate(applied_matches_la[1:], start=1):\n",
    "    differences = [i for i in range(min(len(first_item), len(applied_matches))) if first_item[i] != applied_matches[i]]\n",
    "    # differences = [i for i, element in enumerate(first_item) if element not in applied_matches] + [i for i, element in enumerate(applied_matches) if element not in first_item]\n",
    "    if differences:\n",
    "        first_diff_index = differences[0]\n",
    "        print(\"Items in list 0 beginning at \" + str(first_diff_index) + \" :\", first_item[first_diff_index:first_diff_index+index+1])\n",
    "        print(\"Items in list \" + str(index) + \" beginning at \" + str(first_diff_index) + \" :\", applied_matches[first_diff_index:first_diff_index+index+1])\n",
    "        print(\"\")"
   ]
  },
  {
   "cell_type": "code",
   "execution_count": 10,
   "id": "associate-toyota",
   "metadata": {},
   "outputs": [
    {
     "name": "stdout",
     "output_type": "stream",
     "text": [
      "Circuit  on 10 qubits with 586 gates.\n",
      "        56 is the T-count\n",
      "        530 Cliffords among which\n",
      "        228 2-qubit gates (2 CNOT, 226 other) and\n",
      "        221 Hadamard gates.\n"
     ]
    }
   ],
   "source": [
    "g_nu = g_tele.copy()\n",
    "zx.simplify.greedy_simp_neighbors(g_nu)\n",
    "print(zx.extract_circuit(g_nu.copy()).stats())"
   ]
  },
  {
   "cell_type": "code",
   "execution_count": 11,
   "id": "dense-sharp",
   "metadata": {},
   "outputs": [
    {
     "name": "stdout",
     "output_type": "stream",
     "text": [
      "final num edges:  480\n",
      "Circuit  on 10 qubits with 610 gates.\n",
      "        56 is the T-count\n",
      "        554 Cliffords among which\n",
      "        230 2-qubit gates (2 CNOT, 228 other) and\n",
      "        245 Hadamard gates.\n"
     ]
    }
   ],
   "source": [
    "g_sim_n = g_tele.copy()\n",
    "zx.simplify.sim_anneal_simp_neighbors(g_sim_n)\n",
    "print(zx.extract_circuit(g_sim_n.copy()).stats())"
   ]
  },
  {
   "cell_type": "code",
   "execution_count": 12,
   "id": "0bcabf4c",
   "metadata": {},
   "outputs": [
    {
     "ename": "TypeError",
     "evalue": "'int' object is not subscriptable",
     "output_type": "error",
     "traceback": [
      "\u001b[1;31m---------------------------------------------------------------------------\u001b[0m",
      "\u001b[1;31mTypeError\u001b[0m                                 Traceback (most recent call last)",
      "Cell \u001b[1;32mIn[12], line 2\u001b[0m\n\u001b[0;32m      1\u001b[0m g_sim \u001b[38;5;241m=\u001b[39m g_tele\u001b[38;5;241m.\u001b[39mcopy()\n\u001b[1;32m----> 2\u001b[0m \u001b[43mzx\u001b[49m\u001b[38;5;241;43m.\u001b[39;49m\u001b[43msimplify\u001b[49m\u001b[38;5;241;43m.\u001b[39;49m\u001b[43msim_anneal_simp\u001b[49m\u001b[43m(\u001b[49m\u001b[43mg_sim\u001b[49m\u001b[43m)\u001b[49m\n\u001b[0;32m      3\u001b[0m \u001b[38;5;28mprint\u001b[39m(zx\u001b[38;5;241m.\u001b[39mextract_circuit(g_sim\u001b[38;5;241m.\u001b[39mcopy())\u001b[38;5;241m.\u001b[39mstats())\n",
      "File \u001b[1;32mc:\\Users\\wsajk\\Documents\\Arbeit\\MUNIQC-Atoms\\pyzx-heuristics\\demos\\heuristic_demos\\../..\\pyzx\\simplify.py:306\u001b[0m, in \u001b[0;36msim_anneal_simp\u001b[1;34m(g, initial_temperature, cooling_factor, threshold, quiet, stats)\u001b[0m\n\u001b[0;32m    304\u001b[0m id_simp_count \u001b[38;5;241m=\u001b[39m id_simp(g, quiet\u001b[38;5;241m=\u001b[39mquiet, stats\u001b[38;5;241m=\u001b[39mstats)\n\u001b[0;32m    305\u001b[0m spider_simp_count \u001b[38;5;241m=\u001b[39m spider_simp(g, quiet\u001b[38;5;241m=\u001b[39mquiet, stats\u001b[38;5;241m=\u001b[39mstats) \n\u001b[1;32m--> 306\u001b[0m simulated_annealing_reduce_count \u001b[38;5;241m=\u001b[39m \u001b[43msimulated_annealing_reduce\u001b[49m\u001b[43m(\u001b[49m\u001b[43mg\u001b[49m\u001b[43m,\u001b[49m\u001b[43m \u001b[49m\u001b[43minitial_temperature\u001b[49m\u001b[38;5;241;43m=\u001b[39;49m\u001b[43minitial_temperature\u001b[49m\u001b[43m,\u001b[49m\u001b[43m \u001b[49m\u001b[43mcooling_factor\u001b[49m\u001b[38;5;241;43m=\u001b[39;49m\u001b[43mcooling_factor\u001b[49m\u001b[43m \u001b[49m\u001b[43m,\u001b[49m\u001b[43m \u001b[49m\u001b[43mthreshold\u001b[49m\u001b[38;5;241;43m=\u001b[39;49m\u001b[43mthreshold\u001b[49m\u001b[43m,\u001b[49m\u001b[43m \u001b[49m\u001b[43mquiet\u001b[49m\u001b[38;5;241;43m=\u001b[39;49m\u001b[43mquiet\u001b[49m\u001b[43m,\u001b[49m\u001b[43m \u001b[49m\u001b[43mstats\u001b[49m\u001b[38;5;241;43m=\u001b[39;49m\u001b[43mstats\u001b[49m\u001b[43m)\u001b[49m\n\u001b[0;32m    307\u001b[0m \u001b[38;5;28;01mreturn\u001b[39;00m id_simp_count \u001b[38;5;241m+\u001b[39m spider_simp_count \u001b[38;5;241m+\u001b[39m simulated_annealing_reduce_count\n",
      "File \u001b[1;32mc:\\Users\\wsajk\\Documents\\Arbeit\\MUNIQC-Atoms\\pyzx-heuristics\\demos\\heuristic_demos\\../..\\pyzx\\heuristics\\simplification.py:961\u001b[0m, in \u001b[0;36msimulated_annealing_reduce\u001b[1;34m(graph, initial_temperature, cooling_factor, threshold, quiet, stats)\u001b[0m\n\u001b[0;32m    959\u001b[0m         apply_pivot(graph, selected_match[\u001b[38;5;241m1\u001b[39m])\n\u001b[0;32m    960\u001b[0m     \u001b[38;5;28;01melse\u001b[39;00m:\n\u001b[1;32m--> 961\u001b[0m         \u001b[43mapply_lcomp\u001b[49m\u001b[43m(\u001b[49m\u001b[43mgraph\u001b[49m\u001b[43m,\u001b[49m\u001b[43m \u001b[49m\u001b[43mselected_match\u001b[49m\u001b[43m[\u001b[49m\u001b[38;5;241;43m1\u001b[39;49m\u001b[43m]\u001b[49m\u001b[43m)\u001b[49m\n\u001b[0;32m    963\u001b[0m     temperature \u001b[38;5;241m*\u001b[39m\u001b[38;5;241m=\u001b[39m cooling_factor\n\u001b[0;32m    965\u001b[0m \u001b[38;5;28;01mreturn\u001b[39;00m \u001b[38;5;241m0\u001b[39m\n",
      "File \u001b[1;32mc:\\Users\\wsajk\\Documents\\Arbeit\\MUNIQC-Atoms\\pyzx-heuristics\\demos\\heuristic_demos\\../..\\pyzx\\heuristics\\simplification.py:570\u001b[0m, in \u001b[0;36mapply_lcomp\u001b[1;34m(graph, match)\u001b[0m\n\u001b[0;32m    554\u001b[0m \u001b[38;5;250m\u001b[39m\u001b[38;5;124;03m\"\"\"\u001b[39;00m\n\u001b[0;32m    555\u001b[0m \u001b[38;5;124;03mApplies local complementation on a vertex depending on its phase and whether it is a boundary vertex or not.\u001b[39;00m\n\u001b[0;32m    556\u001b[0m \n\u001b[1;32m   (...)\u001b[0m\n\u001b[0;32m    567\u001b[0m \u001b[38;5;124;03mNothing\u001b[39;00m\n\u001b[0;32m    568\u001b[0m \u001b[38;5;124;03m\"\"\"\u001b[39;00m\n\u001b[0;32m    569\u001b[0m vertex, neighbors \u001b[38;5;241m=\u001b[39m match\n\u001b[1;32m--> 570\u001b[0m neighbors_copy \u001b[38;5;241m=\u001b[39m \u001b[43mneighbors\u001b[49m\u001b[43m[\u001b[49m\u001b[43m:\u001b[49m\u001b[43m]\u001b[49m\n\u001b[0;32m    572\u001b[0m identity_inserted \u001b[38;5;241m=\u001b[39m \u001b[38;5;28;01mTrue\u001b[39;00m\n\u001b[0;32m    573\u001b[0m \u001b[38;5;28;01mwhile\u001b[39;00m identity_inserted:\n",
      "\u001b[1;31mTypeError\u001b[0m: 'int' object is not subscriptable"
     ]
    }
   ],
   "source": [
    "g_sim = g_tele.copy()\n",
    "zx.simplify.sim_anneal_simp(g_sim)\n",
    "print(zx.extract_circuit(g_sim.copy()).stats())"
   ]
  }
 ],
 "metadata": {
  "kernelspec": {
   "display_name": "Python 3",
   "language": "python",
   "name": "python3"
  },
  "language_info": {
   "codemirror_mode": {
    "name": "ipython",
    "version": 3
   },
   "file_extension": ".py",
   "mimetype": "text/x-python",
   "name": "python",
   "nbconvert_exporter": "python",
   "pygments_lexer": "ipython3",
   "version": "3.11.6"
  }
 },
 "nbformat": 4,
 "nbformat_minor": 5
}
