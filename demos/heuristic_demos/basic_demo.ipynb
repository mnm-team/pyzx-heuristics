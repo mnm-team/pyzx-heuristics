{
 "cells": [
  {
   "cell_type": "code",
   "execution_count": 1,
   "id": "guilty-owner",
   "metadata": {},
   "outputs": [],
   "source": [
    "import sys; sys.path.append('../..')\n",
    "import random\n",
    "import pyzx as zx\n",
    "import os\n",
    "import pickle\n",
    "import time"
   ]
  },
  {
   "cell_type": "code",
   "execution_count": 2,
   "id": "9ac2d8b4",
   "metadata": {},
   "outputs": [],
   "source": [
    "import logging\n",
    "\n",
    "logger = logging.getLogger()\n",
    "logger.setLevel(logging.DEBUG)"
   ]
  },
  {
   "cell_type": "code",
   "execution_count": 3,
   "id": "2600c747",
   "metadata": {},
   "outputs": [],
   "source": [
    "def sliding_window(elements, window_size):\n",
    "    if len(elements) < window_size:\n",
    "        return [elements]\n",
    "    \n",
    "    for i in range(len(elements) - window_size + 1):\n",
    "        yield elements[i:i+window_size]"
   ]
  },
  {
   "cell_type": "markdown",
   "id": "banner-vegetable",
   "metadata": {},
   "source": [
    "### Heuristic simplification\n",
    "- When simplifying ZX-diagrams with T-spiders, simplification routines like full_reduce lead to a very high two-qubit gate count.\n",
    "- When using heuristic-based approaches we can circumvent the problem to some extent leading to better overall circuit cost after optimization"
   ]
  },
  {
   "cell_type": "code",
   "execution_count": 4,
   "id": "light-emphasis",
   "metadata": {},
   "outputs": [
    {
     "name": "stdout",
     "output_type": "stream",
     "text": [
      "Circuit  on 10 qubits with 468 gates.\n",
      "        56 is the T-count\n",
      "        412 Cliffords among which\n",
      "        252 2-qubit gates (239 CNOT, 13 other) and\n",
      "        50 Hadamard gates.\n"
     ]
    }
   ],
   "source": [
    "random.seed(1342)\n",
    "g = zx.generate.cliffordT(qubits=10, depth=500, p_t=0.3, p_cnot=0.5)\n",
    "c = zx.Circuit.from_graph(g)\n",
    "c = zx.optimize.basic_optimization(c.split_phase_gates()).split_phase_gates()\n",
    "print(c.stats())"
   ]
  },
  {
   "cell_type": "code",
   "execution_count": 5,
   "id": "enabling-referral",
   "metadata": {},
   "outputs": [
    {
     "name": "stdout",
     "output_type": "stream",
     "text": [
      "Circuit  on 10 qubits with 468 gates.\n",
      "        56 is the T-count\n",
      "        412 Cliffords among which\n",
      "        252 2-qubit gates (239 CNOT, 13 other) and\n",
      "        50 Hadamard gates.\n"
     ]
    }
   ],
   "source": [
    "g = c.to_graph()\n",
    "g_tele = zx.simplify.teleport_reduce(g)\n",
    "g_tele.track_phases = False\n",
    "print(zx.Circuit.from_graph(g).split_phase_gates().stats())"
   ]
  },
  {
   "cell_type": "code",
   "execution_count": 6,
   "id": "ahead-lease",
   "metadata": {},
   "outputs": [
    {
     "name": "stdout",
     "output_type": "stream",
     "text": [
      "Circuit  on 10 qubits with 449 gates.\n",
      "        56 is the T-count\n",
      "        393 Cliffords among which\n",
      "        293 2-qubit gates (82 CNOT, 211 other) and\n",
      "        94 Hadamard gates.\n"
     ]
    }
   ],
   "source": [
    "g_full = g_tele.copy()\n",
    "zx.simplify.full_reduce(g_full)\n",
    "print(zx.extract_circuit(g_full.copy()).stats())"
   ]
  },
  {
   "cell_type": "code",
   "execution_count": 7,
   "id": "associate-toyota",
   "metadata": {},
   "outputs": [
    {
     "name": "stderr",
     "output_type": "stream",
     "text": [
      "c:\\Users\\wsajk\\Documents\\Arbeit\\MUNIQC-Atoms\\pyzx-heuristics\\demos\\heuristic_demos\\../..\\pyzx\\heuristics\\neighbor_unfusion_simplification.py:682: UserWarning: Neighbor unfusion requires a flow function. Using G-flow preserving function.\n",
      "  warnings.warn(\"Neighbor unfusion requires a flow function. Using G-flow preserving function.\")\n",
      "DEBUG:root:Time for flow update: 0.0037525000516325235\n",
      "DEBUG:root:Time for flow function: 0.036295400001108646\n"
     ]
    },
    {
     "ename": "Exception",
     "evalue": "The graph is not flow-preserving after applying the match. Difference: {624: {682}, 676: {722}, 718: {725}}",
     "output_type": "error",
     "traceback": [
      "\u001b[1;31m---------------------------------------------------------------------------\u001b[0m",
      "\u001b[1;31mException\u001b[0m                                 Traceback (most recent call last)",
      "Cell \u001b[1;32mIn[7], line 2\u001b[0m\n\u001b[0;32m      1\u001b[0m g_nu \u001b[38;5;241m=\u001b[39m g_tele\u001b[38;5;241m.\u001b[39mcopy()\n\u001b[1;32m----> 2\u001b[0m \u001b[43mzx\u001b[49m\u001b[38;5;241;43m.\u001b[39;49m\u001b[43msimplify\u001b[49m\u001b[38;5;241;43m.\u001b[39;49m\u001b[43mgreedy_simp\u001b[49m\u001b[43m(\u001b[49m\u001b[43mg_nu\u001b[49m\u001b[43m,\u001b[49m\u001b[43m \u001b[49m\u001b[43muse_neighbor_unfusion\u001b[49m\u001b[38;5;241;43m=\u001b[39;49m\u001b[38;5;28;43;01mTrue\u001b[39;49;00m\u001b[43m,\u001b[49m\u001b[43m \u001b[49m\u001b[43mlookahead\u001b[49m\u001b[38;5;241;43m=\u001b[39;49m\u001b[38;5;241;43m1\u001b[39;49m\u001b[43m)\u001b[49m\n\u001b[0;32m      3\u001b[0m \u001b[38;5;28mprint\u001b[39m(zx\u001b[38;5;241m.\u001b[39mextract_circuit(g_nu\u001b[38;5;241m.\u001b[39mcopy())\u001b[38;5;241m.\u001b[39mstats())\n",
      "File \u001b[1;32mc:\\Users\\wsajk\\Documents\\Arbeit\\MUNIQC-Atoms\\pyzx-heuristics\\demos\\heuristic_demos\\../..\\pyzx\\simplify.py:236\u001b[0m, in \u001b[0;36mgreedy_simp\u001b[1;34m(g, use_neighbor_unfusion, include_boundaries, include_gadgets, max_vertex_index, threshold, lookahead, flow_function, quiet, stats)\u001b[0m\n\u001b[0;32m    233\u001b[0m id_simp_count \u001b[38;5;241m=\u001b[39m id_simp(g, quiet\u001b[38;5;241m=\u001b[39mquiet, stats\u001b[38;5;241m=\u001b[39mstats)\n\u001b[0;32m    234\u001b[0m spider_simp_count \u001b[38;5;241m=\u001b[39m spider_simp(g, quiet\u001b[38;5;241m=\u001b[39mquiet, stats\u001b[38;5;241m=\u001b[39mstats) \n\u001b[1;32m--> 236\u001b[0m greedy_wire_reduce_count, applied_matches \u001b[38;5;241m=\u001b[39m \u001b[43mgreedy_wire_reduce_neighbor\u001b[49m\u001b[43m(\u001b[49m\u001b[43mg\u001b[49m\u001b[43m,\u001b[49m\u001b[43m \u001b[49m\u001b[43muse_neighbor_unfusion\u001b[49m\u001b[38;5;241;43m=\u001b[39;49m\u001b[43muse_neighbor_unfusion\u001b[49m\u001b[43m,\u001b[49m\u001b[43m \u001b[49m\u001b[43mflow_function\u001b[49m\u001b[38;5;241;43m=\u001b[39;49m\u001b[43mflow_function\u001b[49m\u001b[43m,\u001b[49m\u001b[43m \u001b[49m\u001b[43minclude_boundaries\u001b[49m\u001b[38;5;241;43m=\u001b[39;49m\u001b[43minclude_boundaries\u001b[49m\u001b[43m,\u001b[49m\u001b[43m \u001b[49m\u001b[43minclude_gadgets\u001b[49m\u001b[38;5;241;43m=\u001b[39;49m\u001b[43minclude_gadgets\u001b[49m\u001b[43m,\u001b[49m\u001b[43m \u001b[49m\u001b[43mmax_vertex_index\u001b[49m\u001b[38;5;241;43m=\u001b[39;49m\u001b[43mmax_vertex_index\u001b[49m\u001b[43m,\u001b[49m\u001b[43m \u001b[49m\u001b[43mthreshold\u001b[49m\u001b[38;5;241;43m=\u001b[39;49m\u001b[43mthreshold\u001b[49m\u001b[43m,\u001b[49m\u001b[43m \u001b[49m\u001b[43mlookahead\u001b[49m\u001b[38;5;241;43m=\u001b[39;49m\u001b[43mlookahead\u001b[49m\u001b[43m,\u001b[49m\u001b[43m \u001b[49m\u001b[43mquiet\u001b[49m\u001b[38;5;241;43m=\u001b[39;49m\u001b[43mquiet\u001b[49m\u001b[43m,\u001b[49m\u001b[43m \u001b[49m\u001b[43mstats\u001b[49m\u001b[38;5;241;43m=\u001b[39;49m\u001b[43mstats\u001b[49m\u001b[43m)\u001b[49m\n\u001b[0;32m    237\u001b[0m \u001b[38;5;28;01mif\u001b[39;00m \u001b[38;5;28mlen\u001b[39m(applied_matches) \u001b[38;5;241m>\u001b[39m \u001b[38;5;241m0\u001b[39m: \n\u001b[0;32m    238\u001b[0m     final_matches \u001b[38;5;241m=\u001b[39m applied_matches\n",
      "File \u001b[1;32mc:\\Users\\wsajk\\Documents\\Arbeit\\MUNIQC-Atoms\\pyzx-heuristics\\demos\\heuristic_demos\\../..\\pyzx\\heuristics\\neighbor_unfusion_simplification.py:1078\u001b[0m, in \u001b[0;36mgreedy_wire_reduce_neighbor\u001b[1;34m(graph, include_boundaries, include_gadgets, max_vertex_index, threshold, lookahead, use_neighbor_unfusion, flow_function, quiet, stats)\u001b[0m\n\u001b[0;32m   1048\u001b[0m \u001b[38;5;250m\u001b[39m\u001b[38;5;124;03m\"\"\"\u001b[39;00m\n\u001b[0;32m   1049\u001b[0m \u001b[38;5;124;03mPerform a greedy Hadamard wire reduction on the given graph.\u001b[39;00m\n\u001b[0;32m   1050\u001b[0m \n\u001b[1;32m   (...)\u001b[0m\n\u001b[0;32m   1064\u001b[0m \u001b[38;5;124;03mint: The number of rule applications, i.e., the number of iterations the function went through to simplify the graph.\u001b[39;00m\n\u001b[0;32m   1065\u001b[0m \u001b[38;5;124;03m\"\"\"\u001b[39;00m\n\u001b[0;32m   1066\u001b[0m reducer \u001b[38;5;241m=\u001b[39m WireReducer(\n\u001b[0;32m   1067\u001b[0m     graph\u001b[38;5;241m=\u001b[39mgraph,\n\u001b[0;32m   1068\u001b[0m     include_boundaries\u001b[38;5;241m=\u001b[39minclude_boundaries,\n\u001b[1;32m   (...)\u001b[0m\n\u001b[0;32m   1076\u001b[0m     stats\u001b[38;5;241m=\u001b[39mstats,\n\u001b[0;32m   1077\u001b[0m )\n\u001b[1;32m-> 1078\u001b[0m \u001b[38;5;28;01mreturn\u001b[39;00m \u001b[43mreducer\u001b[49m\u001b[38;5;241;43m.\u001b[39;49m\u001b[43mgreedy_wire_reduce\u001b[49m\u001b[43m(\u001b[49m\u001b[43m)\u001b[49m\n",
      "File \u001b[1;32mc:\\Users\\wsajk\\Documents\\Arbeit\\MUNIQC-Atoms\\pyzx-heuristics\\demos\\heuristic_demos\\../..\\pyzx\\heuristics\\neighbor_unfusion_simplification.py:699\u001b[0m, in \u001b[0;36mWireReducer.greedy_wire_reduce\u001b[1;34m(self)\u001b[0m\n\u001b[0;32m    697\u001b[0m \u001b[38;5;28;01mwhile\u001b[39;00m \u001b[38;5;28mself\u001b[39m\u001b[38;5;241m.\u001b[39mhas_changes_occurred:\n\u001b[0;32m    698\u001b[0m     \u001b[38;5;28mself\u001b[39m\u001b[38;5;241m.\u001b[39mhas_changes_occurred \u001b[38;5;241m=\u001b[39m \u001b[38;5;28;01mFalse\u001b[39;00m\n\u001b[1;32m--> 699\u001b[0m     local_complement_matches, pivot_matches, flow \u001b[38;5;241m=\u001b[39m \u001b[38;5;28;43mself\u001b[39;49m\u001b[38;5;241;43m.\u001b[39;49m\u001b[43m_apply_and_find_new_matches\u001b[49m\u001b[43m(\u001b[49m\u001b[43mlocal_complement_matches\u001b[49m\u001b[38;5;241;43m=\u001b[39;49m\u001b[43mlocal_complement_matches\u001b[49m\u001b[43m,\u001b[49m\u001b[43m \u001b[49m\u001b[43mpivot_matches\u001b[49m\u001b[38;5;241;43m=\u001b[39;49m\u001b[43mpivot_matches\u001b[49m\u001b[43m,\u001b[49m\u001b[43m \u001b[49m\u001b[43mflow\u001b[49m\u001b[38;5;241;43m=\u001b[39;49m\u001b[43mflow\u001b[49m\u001b[43m)\u001b[49m\n\u001b[0;32m    701\u001b[0m \u001b[38;5;28;01mreturn\u001b[39;00m \u001b[38;5;28mself\u001b[39m\u001b[38;5;241m.\u001b[39m_rule_application_count, \u001b[38;5;28mself\u001b[39m\u001b[38;5;241m.\u001b[39m_applied_matches\n",
      "File \u001b[1;32mc:\\Users\\wsajk\\Documents\\Arbeit\\MUNIQC-Atoms\\pyzx-heuristics\\demos\\heuristic_demos\\../..\\pyzx\\heuristics\\neighbor_unfusion_simplification.py:1003\u001b[0m, in \u001b[0;36mWireReducer._apply_and_find_new_matches\u001b[1;34m(self, local_complement_matches, pivot_matches, flow)\u001b[0m\n\u001b[0;32m    996\u001b[0m \u001b[38;5;28;01mdef\u001b[39;00m \u001b[38;5;21m_apply_and_find_new_matches\u001b[39m(\u001b[38;5;28mself\u001b[39m, local_complement_matches: Dict[Tuple[VT], MatchLcompHeuristicType], pivot_matches: Dict[Tuple[VT, VT], MatchPivotHeuristicType], flow: Dict[VT, Set[VT]] \u001b[38;5;241m=\u001b[39m \u001b[38;5;28;01mNone\u001b[39;00m) \u001b[38;5;241m-\u001b[39m\u001b[38;5;241m>\u001b[39m Tuple[Dict[Tuple[VT], MatchLcompHeuristicType], Dict[Tuple[VT, VT], MatchPivotHeuristicType]]:\n\u001b[0;32m    997\u001b[0m \u001b[38;5;250m    \u001b[39m\u001b[38;5;124;03m\"\"\"\u001b[39;00m\n\u001b[0;32m    998\u001b[0m \u001b[38;5;124;03m    Apply the best match found by searching for the best result at a specific depth.\u001b[39;00m\n\u001b[0;32m    999\u001b[0m \n\u001b[0;32m   1000\u001b[0m \u001b[38;5;124;03m    This function searches for the best result at a specific depth using depth-first search.\u001b[39;00m\n\u001b[0;32m   1001\u001b[0m \u001b[38;5;124;03m    It applies the best match (either a local complement or a pivot) to the graph and updates the best result found so far.\u001b[39;00m\n\u001b[0;32m   1002\u001b[0m \u001b[38;5;124;03m    \"\"\"\u001b[39;00m\n\u001b[1;32m-> 1003\u001b[0m     best_match_dict \u001b[38;5;241m=\u001b[39m \u001b[38;5;28;43mself\u001b[39;49m\u001b[38;5;241;43m.\u001b[39;49m\u001b[43m_search_match_with_best_result_at_depth\u001b[49m\u001b[43m(\u001b[49m\u001b[43mlcomp_matches\u001b[49m\u001b[38;5;241;43m=\u001b[39;49m\u001b[43mlocal_complement_matches\u001b[49m\u001b[43m,\u001b[49m\u001b[43m \u001b[49m\u001b[43mpivot_matches\u001b[49m\u001b[38;5;241;43m=\u001b[39;49m\u001b[43mpivot_matches\u001b[49m\u001b[43m,\u001b[49m\u001b[43m \u001b[49m\u001b[43mflow\u001b[49m\u001b[38;5;241;43m=\u001b[39;49m\u001b[43mflow\u001b[49m\u001b[43m)\u001b[49m\n\u001b[0;32m   1005\u001b[0m     \u001b[38;5;28;01mif\u001b[39;00m best_match_dict \u001b[38;5;129;01mis\u001b[39;00m \u001b[38;5;129;01mnot\u001b[39;00m \u001b[38;5;28;01mNone\u001b[39;00m:\n\u001b[0;32m   1006\u001b[0m         best_key, (best_result, new_flow) \u001b[38;5;241m=\u001b[39m \u001b[38;5;28mnext\u001b[39m(\u001b[38;5;28miter\u001b[39m(best_match_dict\u001b[38;5;241m.\u001b[39mitems()))\n",
      "File \u001b[1;32mc:\\Users\\wsajk\\Documents\\Arbeit\\MUNIQC-Atoms\\pyzx-heuristics\\demos\\heuristic_demos\\../..\\pyzx\\heuristics\\neighbor_unfusion_simplification.py:994\u001b[0m, in \u001b[0;36mWireReducer._search_match_with_best_result_at_depth\u001b[1;34m(self, lcomp_matches, pivot_matches, flow)\u001b[0m\n\u001b[0;32m    983\u001b[0m \u001b[38;5;28;01mdef\u001b[39;00m \u001b[38;5;21m_search_match_with_best_result_at_depth\u001b[39m(\u001b[38;5;28mself\u001b[39m, lcomp_matches: Dict[Tuple[VT], MatchLcompHeuristicType], pivot_matches: Dict[Tuple[VT, VT], MatchPivotHeuristicType], flow) \u001b[38;5;241m-\u001b[39m\u001b[38;5;241m>\u001b[39m Dict[Tuple, Tuple[MatchLcompHeuristicType \u001b[38;5;241m|\u001b[39m MatchPivotHeuristicType, Dict[VT, Set[VT]]]] \u001b[38;5;241m|\u001b[39m \u001b[38;5;28;01mNone\u001b[39;00m:\n\u001b[0;32m    984\u001b[0m \u001b[38;5;250m    \u001b[39m\u001b[38;5;124;03m\"\"\"\u001b[39;00m\n\u001b[0;32m    985\u001b[0m \u001b[38;5;124;03m    Perform a depth-first search on the graph to find the best result at a specific depth.\u001b[39;00m\n\u001b[0;32m    986\u001b[0m \n\u001b[1;32m   (...)\u001b[0m\n\u001b[0;32m    992\u001b[0m \u001b[38;5;124;03m    The best result found at the lookahead depth and the match that led to it.\u001b[39;00m\n\u001b[0;32m    993\u001b[0m \u001b[38;5;124;03m    \"\"\"\u001b[39;00m\n\u001b[1;32m--> 994\u001b[0m     \u001b[38;5;28;01mreturn\u001b[39;00m \u001b[38;5;28;43mself\u001b[39;49m\u001b[38;5;241;43m.\u001b[39;49m\u001b[43m_depth_search_for_best_result\u001b[49m\u001b[43m(\u001b[49m\u001b[43mgraph\u001b[49m\u001b[38;5;241;43m=\u001b[39;49m\u001b[38;5;28;43mself\u001b[39;49m\u001b[38;5;241;43m.\u001b[39;49m\u001b[43mgraph\u001b[49m\u001b[43m,\u001b[49m\u001b[43m \u001b[49m\u001b[43mlcomp_matches\u001b[49m\u001b[38;5;241;43m=\u001b[39;49m\u001b[43mlcomp_matches\u001b[49m\u001b[43m,\u001b[49m\u001b[43m \u001b[49m\u001b[43mpivot_matches\u001b[49m\u001b[38;5;241;43m=\u001b[39;49m\u001b[43mpivot_matches\u001b[49m\u001b[43m,\u001b[49m\u001b[43m \u001b[49m\u001b[43mflow\u001b[49m\u001b[38;5;241;43m=\u001b[39;49m\u001b[43mflow\u001b[49m\u001b[43m,\u001b[49m\u001b[43m \u001b[49m\u001b[43mfull_subgraphs\u001b[49m\u001b[38;5;241;43m=\u001b[39;49m\u001b[38;5;28;43;01mFalse\u001b[39;49;00m\u001b[43m)\u001b[49m\n",
      "File \u001b[1;32mc:\\Users\\wsajk\\Documents\\Arbeit\\MUNIQC-Atoms\\pyzx-heuristics\\demos\\heuristic_demos\\../..\\pyzx\\heuristics\\neighbor_unfusion_simplification.py:940\u001b[0m, in \u001b[0;36mWireReducer._depth_search_for_best_result\u001b[1;34m(self, graph, lcomp_matches, pivot_matches, flow, depth, best_result, current_match_dict, full_subgraphs)\u001b[0m\n\u001b[0;32m    938\u001b[0m     \u001b[38;5;66;03m# remove all empty sets\u001b[39;00m\n\u001b[0;32m    939\u001b[0m     symmetric_differnce \u001b[38;5;241m=\u001b[39m {key: value \u001b[38;5;28;01mfor\u001b[39;00m key, value \u001b[38;5;129;01min\u001b[39;00m symmetric_differnce\u001b[38;5;241m.\u001b[39mitems() \u001b[38;5;28;01mif\u001b[39;00m value}\n\u001b[1;32m--> 940\u001b[0m     \u001b[38;5;28;01mraise\u001b[39;00m \u001b[38;5;167;01mException\u001b[39;00m(\u001b[38;5;124mf\u001b[39m\u001b[38;5;124m\"\u001b[39m\u001b[38;5;124mThe graph is not flow-preserving after applying the match. Difference: \u001b[39m\u001b[38;5;132;01m{\u001b[39;00msymmetric_differnce\u001b[38;5;132;01m}\u001b[39;00m\u001b[38;5;124m\"\u001b[39m)\n\u001b[0;32m    942\u001b[0m lookahead_lcomp_matches, lookahead_pivot_matches \u001b[38;5;241m=\u001b[39m update_matches(graph\u001b[38;5;241m=\u001b[39mlookahead_graph, vertex_neighbors\u001b[38;5;241m=\u001b[39mvertex_neighbors, removed_vertices\u001b[38;5;241m=\u001b[39mremoved_vertices, lcomp_matches\u001b[38;5;241m=\u001b[39mlcomp_matches, pivot_matches\u001b[38;5;241m=\u001b[39mpivot_matches, flow\u001b[38;5;241m=\u001b[39mlookahead_flow, include_boundaries\u001b[38;5;241m=\u001b[39m\u001b[38;5;28mself\u001b[39m\u001b[38;5;241m.\u001b[39minclude_boundaries, include_gadgets\u001b[38;5;241m=\u001b[39m\u001b[38;5;28mself\u001b[39m\u001b[38;5;241m.\u001b[39minclude_gadgets)\n\u001b[0;32m    944\u001b[0m lookahead_current_match_dict \u001b[38;5;241m=\u001b[39m current_match_dict\u001b[38;5;241m.\u001b[39mcopy()\n",
      "\u001b[1;31mException\u001b[0m: The graph is not flow-preserving after applying the match. Difference: {624: {682}, 676: {722}, 718: {725}}"
     ]
    }
   ],
   "source": [
    "g_nu = g_tele.copy()\n",
    "zx.simplify.greedy_simp(g_nu, use_neighbor_unfusion=True, lookahead=1)\n",
    "print(zx.extract_circuit(g_nu.copy()).stats())"
   ]
  },
  {
   "cell_type": "code",
   "execution_count": null,
   "id": "41857d90",
   "metadata": {},
   "outputs": [],
   "source": [
    "applied_matches_la = []\n",
    "\n",
    "for la in range(0,4):\n",
    "    print(\"Lookahead:\", la)\n",
    "    start_time = time.time()\n",
    "    g_greedy_la = g_tele.copy()\n",
    "    iterations, applied_matches = zx.simplify.greedy_simp(g_greedy_la, lookahead=la)\n",
    "    applied_matches_la.append(applied_matches)\n",
    "    print(zx.extract_circuit(g_greedy_la.copy()).stats())\n",
    "    print(\"Time:\", time.time()-start_time)\n",
    "    print(\"---------------------------------\")"
   ]
  },
  {
   "cell_type": "code",
   "execution_count": null,
   "id": "85bc0139",
   "metadata": {},
   "outputs": [],
   "source": [
    "first_item = applied_matches_la[0]\n",
    "\n",
    "for index, applied_matches in enumerate(applied_matches_la[1:], start=1):\n",
    "    differences = [i for i in range(min(len(first_item), len(applied_matches))) if first_item[i] != applied_matches[i]]\n",
    "    # differences = [i for i, element in enumerate(first_item) if element not in applied_matches] + [i for i, element in enumerate(applied_matches) if element not in first_item]\n",
    "    if differences:\n",
    "        first_diff_index = differences[0]\n",
    "        print(\"Items in list 0 beginning at \" + str(first_diff_index) + \" :\", first_item[first_diff_index:first_diff_index+index+1])\n",
    "        print(\"Items in list \" + str(index) + \" beginning at \" + str(first_diff_index) + \" :\", applied_matches[first_diff_index:first_diff_index+index+1])\n",
    "        print(\"\")"
   ]
  },
  {
   "cell_type": "code",
   "execution_count": null,
   "id": "2d5e1708",
   "metadata": {},
   "outputs": [],
   "source": [
    "print(\"Causal Flow\")\n",
    "start_time = time.time()\n",
    "g_greedy_cflow = g_tele.copy()\n",
    "iterations, applied_matches = zx.simplify.greedy_simp(g_greedy_cflow, lookahead=1, filter_flow_func=zx.heuristics.flow_calculation.identify_causal_flow)\n",
    "print(zx.extract_circuit(g_greedy_cflow.copy()).stats())\n",
    "print(\"Time:\", time.time()-start_time)\n",
    "print(\"---------------------------------\")"
   ]
  },
  {
   "cell_type": "code",
   "execution_count": null,
   "id": "9e6e4f64",
   "metadata": {},
   "outputs": [],
   "source": [
    "flow = zx.heuristics.flow_calculation.identify_causal_flow(g_greedy_cflow)\n",
    "print(flow)"
   ]
  },
  {
   "cell_type": "code",
   "execution_count": null,
   "id": "dense-sharp",
   "metadata": {},
   "outputs": [],
   "source": [
    "g_sim_n = g_tele.copy()\n",
    "zx.simplify.sim_anneal_simp_neighbors(g_sim_n)\n",
    "print(zx.extract_circuit(g_sim_n.copy()).stats())"
   ]
  },
  {
   "cell_type": "code",
   "execution_count": null,
   "id": "0bcabf4c",
   "metadata": {},
   "outputs": [],
   "source": [
    "g_sim = g_tele.copy()\n",
    "zx.simplify.sim_anneal_simp(g_sim)\n",
    "print(zx.extract_circuit(g_sim.copy()).stats())"
   ]
  }
 ],
 "metadata": {
  "kernelspec": {
   "display_name": "Python 3",
   "language": "python",
   "name": "python3"
  },
  "language_info": {
   "codemirror_mode": {
    "name": "ipython",
    "version": 3
   },
   "file_extension": ".py",
   "mimetype": "text/x-python",
   "name": "python",
   "nbconvert_exporter": "python",
   "pygments_lexer": "ipython3",
   "version": "3.11.6"
  }
 },
 "nbformat": 4,
 "nbformat_minor": 5
}
