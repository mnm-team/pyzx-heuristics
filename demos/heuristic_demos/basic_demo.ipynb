{
 "cells": [
  {
   "cell_type": "code",
   "execution_count": 1,
   "id": "guilty-owner",
   "metadata": {},
   "outputs": [],
   "source": [
    "import sys; sys.path.append('../..')\n",
    "import random\n",
    "import pyzx as zx\n",
    "import os\n",
    "import pickle\n",
    "import time"
   ]
  },
  {
   "cell_type": "markdown",
   "id": "banner-vegetable",
   "metadata": {},
   "source": [
    "### Heuristic simplification\n",
    "- When simplifying ZX-diagrams with T-spiders, simplification routines like full_reduce lead to a very high two-qubit gate count.\n",
    "- When using heuristic-based approaches we can circumvent the problem to some extent leading to better overall circuit cost after optimization"
   ]
  },
  {
   "cell_type": "code",
   "execution_count": 2,
   "id": "light-emphasis",
   "metadata": {},
   "outputs": [
    {
     "name": "stdout",
     "output_type": "stream",
     "text": [
      "Circuit  on 12 qubits with 1000 gates.\n",
      "        271 is the T-count\n",
      "        729 Cliffords among which\n",
      "        217 2-qubit gates (217 CNOT, 0 other) and\n",
      "        0 Hadamard gates.\n"
     ]
    }
   ],
   "source": [
    "random.seed(1344)\n",
    "g = zx.generate.cliffordT(qubits=12, depth=1000, p_t=0.3)\n",
    "c = zx.Circuit.from_graph(g)\n",
    "print(c.stats())"
   ]
  },
  {
   "cell_type": "code",
   "execution_count": 3,
   "id": "enabling-referral",
   "metadata": {},
   "outputs": [
    {
     "data": {
      "text/plain": [
       "'Circuit  on 12 qubits with 667 gates.\\n        131 is the T-count\\n        536 Cliffords among which\\n        215 2-qubit gates (209 CNOT, 6 other) and\\n        139 Hadamard gates.'"
      ]
     },
     "execution_count": 3,
     "metadata": {},
     "output_type": "execute_result"
    }
   ],
   "source": [
    "c = zx.optimize.basic_optimization(c.split_phase_gates())\n",
    "g = c.to_graph()\n",
    "g_tele = zx.simplify.teleport_reduce(g)\n",
    "g_tele.track_phases = False\n",
    "print(zx.Circuit.from_graph(g).split_phase_gates().stats())"
   ]
  },
  {
   "cell_type": "code",
   "execution_count": 4,
   "id": "ahead-lease",
   "metadata": {},
   "outputs": [
    {
     "data": {
      "text/plain": [
       "'Circuit  on 12 qubits with 941 gates.\\n        131 is the T-count\\n        810 Cliffords among which\\n        630 2-qubit gates (133 CNOT, 497 other) and\\n        171 Hadamard gates.'"
      ]
     },
     "execution_count": 4,
     "metadata": {},
     "output_type": "execute_result"
    }
   ],
   "source": [
    "g_full = g_tele.copy()\n",
    "zx.simplify.full_reduce(g_full)\n",
    "print(zx.extract_circuit(g_full.copy()).stats())"
   ]
  },
  {
   "cell_type": "code",
   "execution_count": 5,
   "id": "41857d90",
   "metadata": {},
   "outputs": [
    {
     "name": "stdout",
     "output_type": "stream",
     "text": [
      "Lookahead: 0\n",
      "Circuit  on 12 qubits with 811 gates.\n",
      "        131 is the T-count\n",
      "        680 Cliffords among which\n",
      "        225 2-qubit gates (3 CNOT, 222 other) and\n",
      "        333 Hadamard gates.\n",
      "Time: 0.5796630382537842\n",
      "---------------------------------\n",
      "Lookahead: 1\n",
      "Circuit  on 12 qubits with 827 gates.\n",
      "        131 is the T-count\n",
      "        696 Cliffords among which\n",
      "        232 2-qubit gates (3 CNOT, 229 other) and\n",
      "        335 Hadamard gates.\n",
      "Time: 41.815192222595215\n",
      "---------------------------------\n",
      "Lookahead: 2\n"
     ]
    }
   ],
   "source": [
    "for la in range(0,3):\n",
    "    print(\"Lookahead:\", la)\n",
    "    start_time = time.time()\n",
    "    g_greedy_la = g_tele.copy()\n",
    "    zx.simplify.greedy_simp(g_greedy_la, lookahead=la)\n",
    "    print(zx.extract_circuit(g_greedy_la.copy()).stats())\n",
    "    print(\"Time:\", time.time()-start_time)\n",
    "    print(\"---------------------------------\")"
   ]
  },
  {
   "cell_type": "code",
   "execution_count": 7,
   "id": "associate-toyota",
   "metadata": {},
   "outputs": [
    {
     "data": {
      "text/plain": [
       "'Circuit  on 8 qubits with 369 gates.\\n        69 is the T-count\\n        300 Cliffords among which\\n        105 2-qubit gates (2 CNOT, 103 other) and\\n        155 Hadamard gates.'"
      ]
     },
     "execution_count": 7,
     "metadata": {},
     "output_type": "execute_result"
    }
   ],
   "source": [
    "g_nu = g_tele.copy()\n",
    "zx.simplify.greedy_simp_neighbors(g_nu)\n",
    "print(zx.extract_circuit(g_nu.copy()).stats())"
   ]
  },
  {
   "cell_type": "code",
   "execution_count": 8,
   "id": "dense-sharp",
   "metadata": {},
   "outputs": [
    {
     "name": "stdout",
     "output_type": "stream",
     "text": [
      "final num edges:  268\n"
     ]
    },
    {
     "data": {
      "text/plain": [
       "'Circuit  on 8 qubits with 377 gates.\\n        69 is the T-count\\n        308 Cliffords among which\\n        105 2-qubit gates (2 CNOT, 103 other) and\\n        163 Hadamard gates.'"
      ]
     },
     "execution_count": 8,
     "metadata": {},
     "output_type": "execute_result"
    }
   ],
   "source": [
    "g_sim_n = g_tele.copy()\n",
    "zx.simplify.sim_anneal_simp_neighbors(g_sim_n)\n",
    "print(zx.extract_circuit(g_sim_n.copy()).stats())"
   ]
  },
  {
   "cell_type": "code",
   "execution_count": 9,
   "id": "0bcabf4c",
   "metadata": {},
   "outputs": [
    {
     "data": {
      "text/plain": [
       "'Circuit  on 8 qubits with 384 gates.\\n        69 is the T-count\\n        315 Cliffords among which\\n        110 2-qubit gates (0 CNOT, 110 other) and\\n        163 Hadamard gates.'"
      ]
     },
     "execution_count": 9,
     "metadata": {},
     "output_type": "execute_result"
    }
   ],
   "source": [
    "g_sim = g_tele.copy()\n",
    "zx.simplify.sim_anneal_simp(g_sim)\n",
    "print(zx.extract_circuit(g_sim.copy()).stats())"
   ]
  }
 ],
 "metadata": {
  "kernelspec": {
   "display_name": "Python 3",
   "language": "python",
   "name": "python3"
  },
  "language_info": {
   "codemirror_mode": {
    "name": "ipython",
    "version": 3
   },
   "file_extension": ".py",
   "mimetype": "text/x-python",
   "name": "python",
   "nbconvert_exporter": "python",
   "pygments_lexer": "ipython3",
   "version": "3.11.6"
  }
 },
 "nbformat": 4,
 "nbformat_minor": 5
}
