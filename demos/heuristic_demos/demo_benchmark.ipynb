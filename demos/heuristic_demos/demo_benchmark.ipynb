{
 "cells": [
  {
   "cell_type": "code",
   "execution_count": 1,
   "id": "guilty-owner",
   "metadata": {},
   "outputs": [],
   "source": [
    "import sys; sys.path.append('../..')\n",
    "import random\n",
    "import pyzx as zx\n",
    "import os\n",
    "import pickle\n",
    "import time\n",
    "from pathlib import Path\n",
    "import pandas as pd\n",
    "import re"
   ]
  },
  {
   "cell_type": "code",
   "execution_count": 2,
   "id": "9ac2d8b4",
   "metadata": {},
   "outputs": [],
   "source": [
    "import logging\n",
    "\n",
    "logger = logging.getLogger()\n",
    "logger.setLevel(logging.DEBUG)"
   ]
  },
  {
   "cell_type": "code",
   "execution_count": 3,
   "id": "light-emphasis",
   "metadata": {},
   "outputs": [],
   "source": [
    "path_to_circuits = '../../circuits/qasm/'\n",
    "input_data = {\"Name\": [], \"circuit\": [], \"graph\": []}\n",
    "\n",
    "for file in Path(path_to_circuits).glob('*.qasm'):\n",
    "    circuit = zx.Circuit.load(file)\n",
    "    if circuit.qubits <= 20 and circuit.qubits >= 8 and len(circuit.gates) <= 5000 and len(circuit.gates) >= 100:\n",
    "        try:\n",
    "            circuit = zx.optimize.basic_optimization(circuit.split_phase_gates())\n",
    "        except Exception as e:\n",
    "            pass\n",
    "        graph = circuit.to_graph()\n",
    "\n",
    "        input_data[\"Name\"].append(file.stem)\n",
    "        input_data[\"circuit\"].append(circuit)\n",
    "        input_data[\"graph\"].append(circuit.to_graph())"
   ]
  },
  {
   "cell_type": "code",
   "execution_count": 4,
   "id": "10d8af06",
   "metadata": {},
   "outputs": [
    {
     "name": "stdout",
     "output_type": "stream",
     "text": [
      "7\n"
     ]
    }
   ],
   "source": [
    "print(len(input_data[\"Name\"]))"
   ]
  },
  {
   "cell_type": "code",
   "execution_count": 5,
   "id": "133fee1b",
   "metadata": {},
   "outputs": [],
   "source": [
    "# Define the column names\n",
    "columns = input_data[\"Name\"]\n",
    "\n",
    "# Define the row labels\n",
    "rows = [\"Gates\", \"T-Count\", \"Cliffords\", \"CNOTS\", \"Other 2 Qubit Gates\", \"Hadamard\", \"Time\"]\n",
    "\n",
    "#Define the algorithm\n",
    "algorithm = [\"TR\", \"FR\", \"G0\", \"G1\", \"G2\", \"G3\", \"GN\"]\n",
    "# algorithm = [\"TR\", \"FR\", \"G0\", \"G1\", \"G2\", \"G3\", \"GN\", \"GSA\", \"GSAN\"]\n",
    "\n",
    "dataframes = []"
   ]
  },
  {
   "cell_type": "code",
   "execution_count": 6,
   "id": "33e2c581",
   "metadata": {},
   "outputs": [],
   "source": [
    "def run_algorithm(algorithm, input_data, dataframes):\n",
    "    \n",
    "    gates = []\n",
    "    t_count = []\n",
    "    cliffords = []\n",
    "    cnot = []\n",
    "    other = []\n",
    "    hadamard = []\n",
    "    times = []\n",
    "\n",
    "    for name, circuit, graph in zip(input_data[\"Name\"], input_data[\"circuit\"], input_data[\"graph\"]):\n",
    "\n",
    "        # if name == \"ham15-high\":\n",
    "\n",
    "        start = time.perf_counter()\n",
    "        graph_simplified = graph.clone()\n",
    "        algorithm(graph_simplified)\n",
    "        end = time.perf_counter() - start\n",
    "\n",
    "        stats = zx.extract_circuit(graph_simplified.copy()).stats()\n",
    "        # Extract the numbers\n",
    "        numbers = re.findall(r'\\d+', stats)\n",
    "\n",
    "        # Assign the numbers to variables\n",
    "        gates.append(int(numbers[1]))\n",
    "        t_count.append(int(numbers[2]))\n",
    "        cliffords.append(int(numbers[3]))\n",
    "        cnot.append(int(numbers[6]))\n",
    "        other.append(int(numbers[7]))\n",
    "        hadamard.append(int(numbers[8]))\n",
    "        times.append(int(end))\n",
    "\n",
    "    data = [gates, t_count, cliffords, cnot, other, hadamard, times]\n",
    "    dataframes.append(pd.DataFrame(data, columns=columns, index=rows))"
   ]
  },
  {
   "cell_type": "code",
   "execution_count": 7,
   "id": "enabling-referral",
   "metadata": {},
   "outputs": [],
   "source": [
    "run_algorithm(zx.simplify.teleport_reduce, input_data, dataframes)"
   ]
  },
  {
   "cell_type": "code",
   "execution_count": 8,
   "id": "6bee765b",
   "metadata": {},
   "outputs": [],
   "source": [
    "run_algorithm(zx.simplify.full_reduce, input_data, dataframes)"
   ]
  },
  {
   "cell_type": "code",
   "execution_count": 9,
   "id": "940f5d54",
   "metadata": {},
   "outputs": [
    {
     "name": "stderr",
     "output_type": "stream",
     "text": [
      "INFO:root:greedy_wire_reduce_count: 16\n"
     ]
    },
    {
     "name": "stderr",
     "output_type": "stream",
     "text": [
      "INFO:root:greedy_wire_reduce_count: 3\n",
      "INFO:root:greedy_wire_reduce_count: 38\n",
      "INFO:root:greedy_wire_reduce_count: 29\n",
      "INFO:root:greedy_wire_reduce_count: 14\n",
      "INFO:root:greedy_wire_reduce_count: 15\n",
      "INFO:root:greedy_wire_reduce_count: 9\n",
      "INFO:root:greedy_wire_reduce_count: 15\n",
      "INFO:root:greedy_wire_reduce_count: 3\n",
      "INFO:root:greedy_wire_reduce_count: 37\n",
      "INFO:root:greedy_wire_reduce_count: 29\n",
      "INFO:root:greedy_wire_reduce_count: 14\n",
      "INFO:root:greedy_wire_reduce_count: 15\n",
      "INFO:root:greedy_wire_reduce_count: 8\n",
      "INFO:root:greedy_wire_reduce_count: 14\n",
      "INFO:root:greedy_wire_reduce_count: 2\n",
      "INFO:root:greedy_wire_reduce_count: 36\n",
      "INFO:root:greedy_wire_reduce_count: 29\n",
      "INFO:root:greedy_wire_reduce_count: 17\n",
      "INFO:root:greedy_wire_reduce_count: 15\n",
      "INFO:root:greedy_wire_reduce_count: 7\n",
      "INFO:root:greedy_wire_reduce_count: 4\n",
      "INFO:root:greedy_wire_reduce_count: 13\n",
      "INFO:root:greedy_wire_reduce_count: 1\n",
      "INFO:root:greedy_wire_reduce_count: 35\n",
      "INFO:root:greedy_wire_reduce_count: 31\n",
      "INFO:root:greedy_wire_reduce_count: 20\n",
      "INFO:root:greedy_wire_reduce_count: 15\n",
      "INFO:root:greedy_wire_reduce_count: 10\n"
     ]
    }
   ],
   "source": [
    "from functools import partial\n",
    "\n",
    "for la in range(4):\n",
    "    partial_la = partial(zx.simplify.greedy_simp, lookahead=la)\n",
    "    run_algorithm(partial_la, input_data, dataframes)"
   ]
  },
  {
   "cell_type": "code",
   "execution_count": 10,
   "id": "c88e7a36",
   "metadata": {},
   "outputs": [
    {
     "ename": "KeyboardInterrupt",
     "evalue": "",
     "output_type": "error",
     "traceback": [
      "\u001b[1;31m---------------------------------------------------------------------------\u001b[0m",
      "\u001b[1;31mKeyboardInterrupt\u001b[0m                         Traceback (most recent call last)",
      "Cell \u001b[1;32mIn[10], line 1\u001b[0m\n\u001b[1;32m----> 1\u001b[0m \u001b[43mrun_algorithm\u001b[49m\u001b[43m(\u001b[49m\u001b[43mzx\u001b[49m\u001b[38;5;241;43m.\u001b[39;49m\u001b[43msimplify\u001b[49m\u001b[38;5;241;43m.\u001b[39;49m\u001b[43mgreedy_simp_neighbors\u001b[49m\u001b[43m,\u001b[49m\u001b[43m \u001b[49m\u001b[43minput_data\u001b[49m\u001b[43m,\u001b[49m\u001b[43m \u001b[49m\u001b[43mdataframes\u001b[49m\u001b[43m)\u001b[49m\n",
      "Cell \u001b[1;32mIn[6], line 17\u001b[0m, in \u001b[0;36mrun_algorithm\u001b[1;34m(algorithm, input_data, dataframes)\u001b[0m\n\u001b[0;32m     15\u001b[0m start \u001b[38;5;241m=\u001b[39m time\u001b[38;5;241m.\u001b[39mperf_counter()\n\u001b[0;32m     16\u001b[0m graph_simplified \u001b[38;5;241m=\u001b[39m graph\u001b[38;5;241m.\u001b[39mclone()\n\u001b[1;32m---> 17\u001b[0m \u001b[43malgorithm\u001b[49m\u001b[43m(\u001b[49m\u001b[43mgraph_simplified\u001b[49m\u001b[43m)\u001b[49m\n\u001b[0;32m     18\u001b[0m end \u001b[38;5;241m=\u001b[39m time\u001b[38;5;241m.\u001b[39mperf_counter() \u001b[38;5;241m-\u001b[39m start\n\u001b[0;32m     20\u001b[0m stats \u001b[38;5;241m=\u001b[39m zx\u001b[38;5;241m.\u001b[39mextract_circuit(graph_simplified\u001b[38;5;241m.\u001b[39mcopy())\u001b[38;5;241m.\u001b[39mstats()\n",
      "File \u001b[1;32mc:\\Users\\wsajk\\Documents\\Arbeit\\MUNIQC-Atoms\\pyzx-heuristics\\demos\\heuristic_demos\\../..\\pyzx\\simplify.py:255\u001b[0m, in \u001b[0;36mgreedy_simp_neighbors\u001b[1;34m(g, max_vertex_index, threshold, quiet, stats)\u001b[0m\n\u001b[0;32m    253\u001b[0m id_simp_count \u001b[38;5;241m=\u001b[39m id_simp(g, quiet\u001b[38;5;241m=\u001b[39mquiet, stats\u001b[38;5;241m=\u001b[39mstats)\n\u001b[0;32m    254\u001b[0m spider_simp_count \u001b[38;5;241m=\u001b[39m spider_simp(g, quiet\u001b[38;5;241m=\u001b[39mquiet, stats\u001b[38;5;241m=\u001b[39mstats) \n\u001b[1;32m--> 255\u001b[0m greedy_wire_reduce_neighbor_count \u001b[38;5;241m=\u001b[39m \u001b[43mgreedy_wire_reduce_neighbor\u001b[49m\u001b[43m(\u001b[49m\u001b[43mg\u001b[49m\u001b[43m,\u001b[49m\u001b[43mmax_vertex_index\u001b[49m\u001b[38;5;241;43m=\u001b[39;49m\u001b[43mmax_vertex_index\u001b[49m\u001b[43m,\u001b[49m\u001b[43m \u001b[49m\u001b[43mthreshold\u001b[49m\u001b[38;5;241;43m=\u001b[39;49m\u001b[43mthreshold\u001b[49m\u001b[43m,\u001b[49m\u001b[43m \u001b[49m\u001b[43mquiet\u001b[49m\u001b[38;5;241;43m=\u001b[39;49m\u001b[43mquiet\u001b[49m\u001b[43m,\u001b[49m\u001b[43m \u001b[49m\u001b[43mstats\u001b[49m\u001b[38;5;241;43m=\u001b[39;49m\u001b[43mstats\u001b[49m\u001b[43m)\u001b[49m\n\u001b[0;32m    257\u001b[0m \u001b[38;5;28;01mif\u001b[39;00m id_simp_count \u001b[38;5;241m+\u001b[39m spider_simp_count \u001b[38;5;241m+\u001b[39m greedy_wire_reduce_neighbor_count \u001b[38;5;241m==\u001b[39m \u001b[38;5;241m0\u001b[39m: \u001b[38;5;28;01mbreak\u001b[39;00m\n\u001b[0;32m    258\u001b[0m iteration_count \u001b[38;5;241m+\u001b[39m\u001b[38;5;241m=\u001b[39m \u001b[38;5;241m1\u001b[39m\n",
      "File \u001b[1;32mc:\\Users\\wsajk\\Documents\\Arbeit\\MUNIQC-Atoms\\pyzx-heuristics\\demos\\heuristic_demos\\../..\\pyzx\\heuristics\\neighbor_unfusion_simplification.py:387\u001b[0m, in \u001b[0;36mgreedy_wire_reduce_neighbor\u001b[1;34m(graph, max_vertex_index, threshold, quiet, stats)\u001b[0m\n\u001b[0;32m    385\u001b[0m         iteration_count \u001b[38;5;241m+\u001b[39m\u001b[38;5;241m=\u001b[39m \u001b[38;5;241m1\u001b[39m\n\u001b[0;32m    386\u001b[0m         changes_made \u001b[38;5;241m=\u001b[39m \u001b[38;5;28;01mTrue\u001b[39;00m\n\u001b[1;32m--> 387\u001b[0m         flow \u001b[38;5;241m=\u001b[39m \u001b[43mgflow\u001b[49m\u001b[43m(\u001b[49m\u001b[43mgraph\u001b[49m\u001b[43m)\u001b[49m[\u001b[38;5;241m1\u001b[39m]\n\u001b[0;32m    389\u001b[0m \u001b[38;5;28;01mreturn\u001b[39;00m iteration_count\n",
      "File \u001b[1;32mc:\\Users\\wsajk\\Documents\\Arbeit\\MUNIQC-Atoms\\pyzx-heuristics\\demos\\heuristic_demos\\../..\\pyzx\\gflow.py:111\u001b[0m, in \u001b[0;36mgflow\u001b[1;34m(g)\u001b[0m\n\u001b[0;32m    109\u001b[0m vu \u001b[38;5;241m=\u001b[39m zerovec\u001b[38;5;241m.\u001b[39mcopy()\n\u001b[0;32m    110\u001b[0m vu\u001b[38;5;241m.\u001b[39mdata[candidates\u001b[38;5;241m.\u001b[39mindex(u)] \u001b[38;5;241m=\u001b[39m [\u001b[38;5;241m1\u001b[39m]\n\u001b[1;32m--> 111\u001b[0m x \u001b[38;5;241m=\u001b[39m \u001b[43mm\u001b[49m\u001b[38;5;241;43m.\u001b[39;49m\u001b[43msolve\u001b[49m\u001b[43m(\u001b[49m\u001b[43mvu\u001b[49m\u001b[43m)\u001b[49m\n\u001b[0;32m    112\u001b[0m \u001b[38;5;28;01mif\u001b[39;00m x:\n\u001b[0;32m    113\u001b[0m     correct\u001b[38;5;241m.\u001b[39madd(u)\n",
      "File \u001b[1;32mc:\\Users\\wsajk\\Documents\\Arbeit\\MUNIQC-Atoms\\pyzx-heuristics\\demos\\heuristic_demos\\../..\\pyzx\\linalg.py:288\u001b[0m, in \u001b[0;36mMat2.solve\u001b[1;34m(self, b)\u001b[0m\n\u001b[0;32m    286\u001b[0m m \u001b[38;5;241m=\u001b[39m \u001b[38;5;28mself\u001b[39m\u001b[38;5;241m.\u001b[39mcopy()\n\u001b[0;32m    287\u001b[0m b1 \u001b[38;5;241m=\u001b[39m b\u001b[38;5;241m.\u001b[39mcopy()\n\u001b[1;32m--> 288\u001b[0m rank \u001b[38;5;241m=\u001b[39m \u001b[43mm\u001b[49m\u001b[38;5;241;43m.\u001b[39;49m\u001b[43mgauss\u001b[49m\u001b[43m(\u001b[49m\u001b[43mx\u001b[49m\u001b[38;5;241;43m=\u001b[39;49m\u001b[43mb1\u001b[49m\u001b[43m,\u001b[49m\u001b[43m \u001b[49m\u001b[43mfull_reduce\u001b[49m\u001b[38;5;241;43m=\u001b[39;49m\u001b[38;5;28;43;01mTrue\u001b[39;49;00m\u001b[43m)\u001b[49m\n\u001b[0;32m    290\u001b[0m \u001b[38;5;66;03m# check for inconsistencies and set x to a\u001b[39;00m\n\u001b[0;32m    291\u001b[0m \u001b[38;5;66;03m#  particular solution\u001b[39;00m\n\u001b[0;32m    292\u001b[0m x \u001b[38;5;241m=\u001b[39m Mat2\u001b[38;5;241m.\u001b[39mzeros(m\u001b[38;5;241m.\u001b[39mcols(),\u001b[38;5;241m1\u001b[39m)\n",
      "File \u001b[1;32mc:\\Users\\wsajk\\Documents\\Arbeit\\MUNIQC-Atoms\\pyzx-heuristics\\demos\\heuristic_demos\\../..\\pyzx\\linalg.py:222\u001b[0m, in \u001b[0;36mMat2.gauss\u001b[1;34m(self, full_reduce, x, y, blocksize, pivot_cols)\u001b[0m\n\u001b[0;32m    219\u001b[0m pivot_row \u001b[38;5;241m-\u001b[39m\u001b[38;5;241m=\u001b[39m \u001b[38;5;241m1\u001b[39m\n\u001b[0;32m    220\u001b[0m pivot_cols1 \u001b[38;5;241m=\u001b[39m pivot_cols\u001b[38;5;241m.\u001b[39mcopy()\n\u001b[1;32m--> 222\u001b[0m \u001b[38;5;28;01mfor\u001b[39;00m sec \u001b[38;5;129;01min\u001b[39;00m \u001b[38;5;28mrange\u001b[39m(math\u001b[38;5;241m.\u001b[39mceil(cols \u001b[38;5;241m/\u001b[39m blocksize) \u001b[38;5;241m-\u001b[39m \u001b[38;5;241m1\u001b[39m, \u001b[38;5;241m-\u001b[39m\u001b[38;5;241m1\u001b[39m, \u001b[38;5;241m-\u001b[39m\u001b[38;5;241m1\u001b[39m):\n\u001b[0;32m    223\u001b[0m     i0 \u001b[38;5;241m=\u001b[39m sec \u001b[38;5;241m*\u001b[39m blocksize\n\u001b[0;32m    224\u001b[0m     i1 \u001b[38;5;241m=\u001b[39m \u001b[38;5;28mmin\u001b[39m(cols, (sec\u001b[38;5;241m+\u001b[39m\u001b[38;5;241m1\u001b[39m) \u001b[38;5;241m*\u001b[39m blocksize)\n",
      "\u001b[1;31mKeyboardInterrupt\u001b[0m: "
     ]
    }
   ],
   "source": [
    "run_algorithm(zx.simplify.greedy_simp_neighbors, input_data, dataframes)"
   ]
  },
  {
   "cell_type": "code",
   "execution_count": null,
   "id": "435e348c",
   "metadata": {},
   "outputs": [],
   "source": [
    "# run_algorithm(zx.simplify.sim_anneal_simp, input_data, dataframes)"
   ]
  },
  {
   "cell_type": "code",
   "execution_count": null,
   "id": "c30c4d39",
   "metadata": {},
   "outputs": [],
   "source": [
    "# run_algorithm(zx.simplify.sim_anneal_simp_neighbors, input_data, dataframes)"
   ]
  },
  {
   "cell_type": "code",
   "execution_count": 11,
   "id": "09932ef5",
   "metadata": {},
   "outputs": [
    {
     "name": "stderr",
     "output_type": "stream",
     "text": [
      "C:\\Users\\wsajk\\AppData\\Local\\Temp\\ipykernel_139704\\2286571105.py:1: FutureWarning: The behavior of pd.concat with len(keys) != len(objs) is deprecated. In a future version this will raise instead of truncating to the smaller of the two sequences\n",
      "  df = pd.concat(dataframes, axis=0, keys=algorithm)\n"
     ]
    }
   ],
   "source": [
    "df = pd.concat(dataframes, axis=0, keys=algorithm)\n",
    "df.to_csv('benchmark_greedy_la.csv')"
   ]
  }
 ],
 "metadata": {
  "kernelspec": {
   "display_name": "Python 3",
   "language": "python",
   "name": "python3"
  },
  "language_info": {
   "codemirror_mode": {
    "name": "ipython",
    "version": 3
   },
   "file_extension": ".py",
   "mimetype": "text/x-python",
   "name": "python",
   "nbconvert_exporter": "python",
   "pygments_lexer": "ipython3",
   "version": "3.11.6"
  }
 },
 "nbformat": 4,
 "nbformat_minor": 5
}
