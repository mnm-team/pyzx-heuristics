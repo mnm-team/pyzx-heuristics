{
 "cells": [
  {
   "cell_type": "code",
   "execution_count": 3,
   "id": "marine-cyprus",
   "metadata": {},
   "outputs": [],
   "source": [
    "import pickle\n",
    "import os"
   ]
  },
  {
   "cell_type": "code",
   "execution_count": 4,
   "id": "irish-sunglasses",
   "metadata": {},
   "outputs": [],
   "source": [
    "def load_circuit_stats(name):\n",
    "    with open('../../evaluation/feyn_bench/stats/' + name + '.pkl', 'rb') as f:\n",
    "        return pickle.load(f)\n",
    "\n",
    "def get_best_heuristic_circuit(circuit_data):\n",
    "    best_entry = {'idx': 0, '2-qubit': circuit_data[0]}\n",
    "    for idx,entry in enumerate(circuit_data[2:]): #skip original and pyzx\n",
    "        if entry['2-qubit'] < best_entry['2-qubit']:\n",
    "            best_entry = {'idx': idx, '2-qubit': entry['2-qubit']}\n",
    "    return circuit_data[best_entry['idx']]\n",
    "    \n",
    "def get_circuit_data(name, todd=False):\n",
    "    if todd:\n",
    "        data = load_circuit_stats(name+'_t')\n",
    "    else:\n",
    "        data = load_circuit_stats(name)\n",
    "    return (data[0],data[1],get_best_heuristic_circuit(data))\n",
    "\n",
    "def merge_circuit_data(name, todd=False, cols=['1-qubit','2-qubit','T-gates']):\n",
    "    merged_data = []\n",
    "    orig, pyzx, heur = get_circuit_data(name, todd)\n",
    "    merged_data = [name]\n",
    "    for routine in [orig, pyzx, heur]:\n",
    "        for col in cols:\n",
    "            merged_data.append(routine[col])\n",
    "    merged_data.append(heur['strategy'])\n",
    "    return merged_data\n",
    "\n",
    "def print_results(output_format):\n",
    "    circuit_table = []\n",
    "    for file in os.listdir('../../evaluation/feyn_bench/before/'):\n",
    "        if os.path.isfile('../../evaluation/feyn_bench/stats/' + file + '.pkl'):\n",
    "            cirucit_table.append(merge_circuit_data(file))\n",
    "    return circuit_table\n",
    "    "
   ]
  },
  {
   "cell_type": "code",
   "execution_count": null,
   "id": "favorite-worthy",
   "metadata": {},
   "outputs": [],
   "source": []
  }
 ],
 "metadata": {
  "kernelspec": {
   "display_name": "Python 3",
   "language": "python",
   "name": "python3"
  },
  "language_info": {
   "codemirror_mode": {
    "name": "ipython",
    "version": 3
   },
   "file_extension": ".py",
   "mimetype": "text/x-python",
   "name": "python",
   "nbconvert_exporter": "python",
   "pygments_lexer": "ipython3",
   "version": "3.9.1"
  }
 },
 "nbformat": 4,
 "nbformat_minor": 5
}
