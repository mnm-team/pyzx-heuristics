{
 "cells": [
  {
   "cell_type": "markdown",
   "metadata": {},
   "source": [
    "# Benchmark\n",
    "\n",
    "This notebook provides a straightforward way to compare the PyZX optimization routines against other approaches on a standard set of benchmark circuits."
   ]
  },
  {
   "cell_type": "markdown",
   "metadata": {},
   "source": [
    "First we execute the standard set of imports:"
   ]
  },
  {
   "cell_type": "code",
   "execution_count": 1,
   "metadata": {},
   "outputs": [],
   "source": [
    "import random, math, os, time\n",
    "import sys; sys.path.append('..')\n",
    "import pyzx as zx\n",
    "%config InlineBackend.figure_format = 'svg'"
   ]
  },
  {
   "cell_type": "markdown",
   "metadata": {},
   "source": [
    "The following class is some boilerplate around the simplification routines so that we can more easily print the relevant metrics"
   ]
  },
  {
   "cell_type": "code",
   "execution_count": 2,
   "metadata": {},
   "outputs": [],
   "source": [
    "class CircuitComparer:\n",
    "    def __init__(self, dirname, before, after):\n",
    "        self.fname_before = os.path.join(dirname, before)\n",
    "        if after:\n",
    "            self.fname_after = os.path.join(dirname, after)\n",
    "        else:\n",
    "            self.fname_after = \"\"\n",
    "        self.fname_tpar = \"\"\n",
    "        if before.find('before') != -1:\n",
    "            self.name = before[:-7]\n",
    "        else:\n",
    "            self.name = before\n",
    "        self.has_run = False\n",
    "    def __str__(self):\n",
    "        return \"CircuitComparer({}, {})\".format(self.name, str(self.has_run))\n",
    "    def __repr__(self):\n",
    "        return str(self)\n",
    "    \n",
    "    def run(self):\n",
    "        if self.has_run: return True\n",
    "        if self.fname_after:\n",
    "            c = zx.Circuit.from_quipper_file(self.fname_after).to_basic_gates()\n",
    "            self.nrscm2 = c.twoqubitcount()\n",
    "            self.nrscmtotal = len(c.gates)\n",
    "        else:\n",
    "            self.nrscm2 = '-'\n",
    "            self.nrscmtotal = '-'\n",
    "        if self.fname_tpar:\n",
    "            c2 = zx.Circuit.load(self.fname_tpar).to_basic_gates()\n",
    "            self.tpar2 = c2.twoqubitcount()\n",
    "            self.tpartotal = len(c2.gates)\n",
    "        else: \n",
    "            self.tpar2 = \"-\"\n",
    "            self.tpartotal = '-'\n",
    "        \n",
    "        c = zx.Circuit.load(self.fname_before).to_basic_gates()\n",
    "        self.qubits = c.qubits\n",
    "        self.gatecount = len(c.gates)\n",
    "        self.cnotcount = c.twoqubitcount()\n",
    "        g = c.to_graph()\n",
    "        t = time.time()\n",
    "        g = zx.simplify.teleport_reduce(g)\n",
    "        self.time_simpl = time.time() - t\n",
    "        t = time.time()\n",
    "        c = zx.Circuit.from_graph(g).split_phase_gates()\n",
    "        c = zx.optimize.basic_optimization(c).to_basic_gates().split_phase_gates()\n",
    "        self.circuit_opt = c\n",
    "        self.pyzx2 = c.twoqubitcount()\n",
    "        self.pyzxtotal = len(c.gates)\n",
    "        self.time_opt = time.time() - t\n",
    "        self.has_run = True\n",
    "        return True\n",
    "    \n",
    "    def get_output(self):\n",
    "        if not self.has_run:\n",
    "            self.run()\n",
    "        s = self.name.ljust(20) + str(self.qubits).rjust(7)\n",
    "        s += \" | \" + str(self.gatecount).rjust(5) + str(self.cnotcount).rjust(6) + \" | \"\n",
    "        s += str(self.nrscmtotal).rjust(6) + str(self.nrscm2).rjust(8) \n",
    "        s += \" | \" + str(self.tpartotal).rjust(6) + str(self.tpar2).rjust(6) + \" | \"\n",
    "        s += str(self.pyzxtotal).rjust(6) + str(self.pyzx2).rjust(6)\n",
    "        s += \"{:.2f}\".format(self.time_simpl).rjust(9)\n",
    "        s += \"{:.2f}\".format(self.time_opt).rjust(10)\n",
    "        return s"
   ]
  },
  {
   "cell_type": "markdown",
   "metadata": {},
   "source": [
    "Next we define a function that loads in a directory of circuit files. Note that the directory we target has up to 3 versions of each circuit:\n",
    "\n",
    "* circuit_before   - This is the original circuit with any modifications, taken from the [Github page](https://github.com/njross/optimizer) of [[1]](#NRSCM)\n",
    "* circuit_after    - This is the circuit produced by the optimization routines of [[1]](#NRSCM).\n",
    "* circuit_tpar.qc  - This is the circuit produced by the Tpar algorithm [[2]](#Tpar).\n",
    "  \n",
    "<a id=\"NRSCM\"></a>\n",
    "[1] [Nam, Ross, Su, Childs, Maslov - Automated optimization of large quantum circuits with continuous parameters](https://www.nature.com/articles/s41534-018-0072-4)\n",
    "\n",
    "<a id=\"Tpar\"></a>\n",
    "[2] [Amy, Maslov, Mosca - Polynomial-time T-depth Optimization of Clifford+T circuits via Matroid Partitioning](https://arxiv.org/abs/1303.2042)"
   ]
  },
  {
   "cell_type": "code",
   "execution_count": 3,
   "metadata": {},
   "outputs": [],
   "source": [
    "def load_circuits(directory):\n",
    "    d = directory\n",
    "    beforefiles = []\n",
    "    afterfiles = []\n",
    "    tparfiles = []\n",
    "    for f in os.listdir(d):\n",
    "        if not os.path.isfile(os.path.join(d,f)): continue\n",
    "        if f.find('before') != -1:\n",
    "            beforefiles.append((f,d))\n",
    "        elif f.find('tpar') != -1:\n",
    "            tparfiles.append((f,d))\n",
    "        elif f.find('.qc') != -1 or f.find('.tfc') != -1:\n",
    "            beforefiles.append((f,d))\n",
    "        else: afterfiles.append((f,d))\n",
    "    \n",
    "    circuits = []\n",
    "    for f, d in beforefiles:\n",
    "        if f.find('before') == -1:\n",
    "            n = os.path.splitext(f)[0]\n",
    "        else: n = f[:-7]\n",
    "        for f2,d2 in afterfiles:\n",
    "            if d!=d2: continue\n",
    "            if f2.startswith(n):\n",
    "                c = CircuitComparer(d, f, f2)\n",
    "                circuits.append(c)\n",
    "                break\n",
    "        else:\n",
    "            c = CircuitComparer(d, f, '')\n",
    "            circuits.append(c)\n",
    "        for f2,d2 in tparfiles:\n",
    "            if d!=d2: continue\n",
    "            if f2.startswith(n):\n",
    "                circuits[-1].fname_tpar = os.path.join(d2,f2)\n",
    "    \n",
    "    return circuits\n",
    "\n",
    "dir_fast_circuits = os.path.join('..', 'circuits', 'Fast')\n",
    "fast_circuits = load_circuits(dir_fast_circuits)"
   ]
  },
  {
   "cell_type": "markdown",
   "metadata": {},
   "source": [
    "The directory we target contains a subset of all benchmark circuits, chosen for given quick results. The following cell giving benchmark results of these circuits should therefore only take a few seconds to run. For the benchmarks of slower circuits see [below](#slowbench).\n",
    "The columns have the following meaning:\n",
    "\n",
    "* `Circuit     ` - The name of the circuit\n",
    "* `qubits      ` - Amount of qubits in the circuit\n",
    "* `G-count     ` - Gate count of original circuit\n",
    "* `2-count     ` - Amount of 2-qubit gates in original circuit\n",
    "* `G/2-NRSCM   ` - Total amount and 2-qubit gate amount from optimized circuit of [[1]](#NRSCM)\n",
    "* `G/2-Tpar    ` - Total amount and 2-qubit gate amount from optimized circuit of [[2]](#Tpar)\n",
    "* `G/2-PyZX    ` - Total amount and 2-qubit gate amount from optimized circuit made by PyZX\n",
    "* `Time-Simp   ` - The time taken for running the simplification routine on the circuit\n",
    "* `Time-Extract` - The time taken for extracting the circuit after the simplification\n",
    "\n",
    "Note that not all circuits were present in the papers [[1]](#NRSCM) and [[2]](#Tpar) in which case the relevant columns are empty."
   ]
  },
  {
   "cell_type": "code",
   "execution_count": 4,
   "metadata": {
    "scrolled": false
   },
   "outputs": [
    {
     "name": "stdout",
     "output_type": "stream",
     "text": [
      "Circuit              qubits G-count 2-count G-NRSCM 2-NRSCM  G-Tpar 2-Tpar G-PyZX 2-PyZX Time-Simp Time-Opt\n",
      "Adder8                   23 |   637   243 |    190      94 |      -     - |    362   195     0.35      0.06\n",
      "adder_8                  24 |  1014   409 |    606     291 |   1280   885 |    690   351     0.77      0.11\n",
      "barenco_tof_10           19 |   514   192 |    264     130 |    517   328 |    365   176     0.25      0.06\n",
      "barenco_tof_3             5 |    66    24 |     40      18 |     82    54 |     50    22     0.03      0.01\n",
      "barenco_tof_4             7 |   130    48 |     72      34 |    141    90 |     95    44     0.04      0.01\n",
      "barenco_tof_5             9 |   194    72 |    104      50 |    206   132 |    140    66     0.09      0.02\n",
      "csla_mux_3_original      15 |   190    80 |    155      70 |      -     - |    156    75     0.08      0.03\n",
      "csum_mux_9_corrected     30 |   448   168 |    266     140 |      -     - |    308   168     0.19      0.06\n",
      "gf2^10_mult              30 |  1709   609 |   1070     609 |   2655  2176 |   1144   609     1.21      0.19\n",
      "gf2^4_mult               12 |   275    99 |    187      99 |    419   324 |    193    99     0.11      0.03\n",
      "gf2^5_mult               15 |   429   154 |    296     154 |    682   535 |    304   154     0.14      0.06\n",
      "gf2^6_mult               18 |   617   221 |    403     221 |    842   649 |    422   221     0.32      0.08\n",
      "gf2^7_mult               21 |   839   300 |    555     300 |   1245   992 |    573   300     0.49      0.06\n",
      "gf2^8_mult               24 |  1109   405 |    712     405 |   1560  1256 |    745   405     0.83      0.09\n",
      "gf2^9_mult               27 |  1385   494 |    891     494 |   2096  1701 |    935   494     0.90      0.17\n",
      "grover_5.qc               9 |   927   288 |      -       - |    448   317 |    584   248     0.59      0.08\n",
      "ham15-low.qc             17 |   489   236 |      -       - |      -     - |    406   238     0.44      0.09\n",
      "hwb6.qc                   7 |   289   116 |      -       - |      -     - |    225   105     0.17      0.05\n",
      "mod5_4                    5 |    71    28 |     51      28 |     77    48 |     46    27     0.02      0.00\n",
      "mod_mult_55               9 |   133    48 |     91      40 |    231   161 |     91    42     0.06      0.02\n",
      "mod_red_21               11 |   312   105 |    180      77 |    433   290 |    217    93     0.17      0.02\n",
      "nth_prime6.tfc            9 |  1241   502 |      -       - |      -     - |    902   413     1.21      0.25\n",
      "qcla_adder_10            36 |   589   233 |    399     183 |    972   737 |    437   201     0.30      0.08\n",
      "qcla_com_7               24 |   501   186 |    284     132 |    699   496 |    316   146     0.32      0.04\n",
      "qcla_mod_7               26 |  1002   382 |    624     292 |   1619  1150 |    717   324     0.68      0.13\n",
      "QFT16                    16 |   586   228 |    388     228 |      -     - |    388   228     0.21      0.06\n",
      "QFT8                      8 |   148    56 |    106      56 |      -     - |    106    56     0.04      0.01\n",
      "QFTAdd8                  16 |   476   184 |    322     184 |      -     - |    334   184     0.22      0.05\n",
      "qft_4.qc                  5 |   183    46 |      -       - |      -     - |    175    45     0.04      0.03\n",
      "rc_adder_6               14 |   222    93 |    140      71 |    334   230 |    155    71     0.11      0.02\n",
      "tof_10                   19 |   289   102 |    175      70 |    361   232 |    215    86     0.12      0.03\n",
      "tof_3                     5 |    51    18 |     35      14 |     59    35 |     40    16     0.02      0.00\n",
      "tof_4                     7 |    85    30 |     55      22 |    102    63 |     65    26     0.04      0.00\n",
      "tof_5                     9 |   119    42 |     75      30 |    148    94 |     90    36     0.03      0.00\n",
      "vbe_adder_3              10 |   170    70 |     89      50 |    161   114 |    101    54     0.08      0.01\n"
     ]
    }
   ],
   "source": [
    "print(\"Circuit\".ljust(20), \"qubits\", \"G-count\", \"2-count\", \"G-NRSCM\", \"2-NRSCM\", \" G-Tpar\", \"2-Tpar\", \"G-PyZX\", \"2-PyZX\", \"Time-Simp\", \"Time-Opt\")\n",
    "for c in fast_circuits:\n",
    "    print(c.get_output())"
   ]
  },
  {
   "cell_type": "markdown",
   "metadata": {},
   "source": [
    "<a id=\"slowbench\"></a>\n",
    "And now we do the benchmark on the slower circuits. Note that this can take a while to complete"
   ]
  },
  {
   "cell_type": "code",
   "execution_count": 5,
   "metadata": {},
   "outputs": [
    {
     "name": "stdout",
     "output_type": "stream",
     "text": [
      "Circuit              qubits G-count 2-count G-NRSCM 2-NRSCM  G-Tpar 2-Tpar G-PyZX 2-PyZX Time-Simp Time-Opt\n",
      "Adder16                  47 |  1437   547 |    414     206 |      -     - |    786   435     0.79      0.15\n",
      "Adder32                  95 |  3037  1155 |    862     430 |      -     - |   1618   883     2.04      0.37\n",
      "Adder64                 191 |  6237  2371 |   1758     878 |      -     - |   3338  1835     5.43      1.24\n",
      "gf2^16_mult              48 |  4397  1581 |   2707    1581 |   7714  6592 |   2686  1581     5.33      0.42\n",
      "ham15-high.qc            20 |  6010  2149 |      -       - |      -     - |   3651  1795     9.12      0.95\n",
      "ham15-med.qc             17 |  1436   534 |      -       - |      -     - |    869   430     1.50      0.19\n",
      "mod_adder_1024           28 |  4855  1720 |   2736    1278 |   5183  3540 |   3035  1392     3.71      0.64\n",
      "QFT32                    32 |  1562   612 |   1012     612 |      -     - |   1012   612     0.51      0.12\n",
      "QFTAdd16                 32 |  1822   716 |   1168     716 |      -     - |   1185   716     0.75      0.16\n",
      "QFTAdd32                 64 |  4814  1900 |   3040    1900 |      -     - |   3073  1900     2.92      0.53\n"
     ]
    }
   ],
   "source": [
    "dir_slow_circuits = os.path.join('..', 'circuits', 'Slow')\n",
    "slow_circuits = load_circuits(dir_slow_circuits)\n",
    "print(\"Circuit\".ljust(20), \"qubits\", \"G-count\", \"2-count\", \"G-NRSCM\", \"2-NRSCM\", \" G-Tpar\", \"2-Tpar\", \"G-PyZX\", \"2-PyZX\", \"Time-Simp\", \"Time-Opt\")\n",
    "for c in slow_circuits:\n",
    "    print(c.get_output())"
   ]
  }
 ],
 "metadata": {
  "kernelspec": {
   "display_name": "Python 3",
   "language": "python",
   "name": "python3"
  },
  "language_info": {
   "codemirror_mode": {
    "name": "ipython",
    "version": 3
   },
   "file_extension": ".py",
   "mimetype": "text/x-python",
   "name": "python",
   "nbconvert_exporter": "python",
   "pygments_lexer": "ipython3",
   "version": "3.9.1"
  }
 },
 "nbformat": 4,
 "nbformat_minor": 2
}
