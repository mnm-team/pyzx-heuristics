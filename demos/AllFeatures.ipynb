{
 "cells": [
  {
   "cell_type": "markdown",
   "metadata": {},
   "source": [
    "# All PyZX Features\n",
    "\n",
    "## Contents:\n",
    "* [Loading and saving circuits](#circuits)\n",
    "* [Interacting with Quantomatic](#quantomatic)\n",
    "* [Optimizing ZX-diagrams](#optimization-zx)\n",
    "* [Extracting and optimizing circuits](#optimization-circuits)\n",
    "* [Phase Teleportation](#phase-teleportation)"
   ]
  },
  {
   "cell_type": "code",
   "execution_count": null,
   "metadata": {},
   "outputs": [],
   "source": [
    "import sys; sys.path.insert(0,'..')\n",
    "import random, math, os\n",
    "import pyzx as zx\n",
    "from fractions import Fraction"
   ]
  },
  {
   "cell_type": "markdown",
   "metadata": {},
   "source": [
    "<a id=\"circuits\"></a>\n",
    "# Loading and saving circuits\n",
    "The most straightforward way to load a circuit is to use ``zx.Circuit.load`` which tries to figure out in which file format the circuit is given. The supported file formats are QASM, QC and the Quipper ASCII format. The corresponding loading functions are:\n",
    "* ``zx.Circuit.from_qasm_file``\n",
    "* ``zx.Circuit.from_quipper_file``\n",
    "* ``zx.Circuit.from_qc_file``"
   ]
  },
  {
   "cell_type": "code",
   "execution_count": null,
   "metadata": {},
   "outputs": [],
   "source": [
    "fname = os.path.join('..','circuits','Fast', 'mod5_4_before')\n",
    "circ = zx.Circuit.load(fname)\n",
    "# Alternatively we could have done:\n",
    "# circ = zx.Circuit.from_quipper_file(fname)\n",
    "circ.gates"
   ]
  },
  {
   "cell_type": "markdown",
   "metadata": {},
   "source": [
    "As you can see, a circuit is essentially a list of gates (objects of type zx.circuit.Gate). We can draw the circuit using zx.draw():"
   ]
  },
  {
   "cell_type": "code",
   "execution_count": null,
   "metadata": {},
   "outputs": [],
   "source": [
    "zx.draw_matplotlib(circ, figsize=(10,2), h_edge_draw='box')"
   ]
  },
  {
   "cell_type": "markdown",
   "metadata": {},
   "source": [
    "The CCZ gates are drawn in [ZH](https://arxiv.org/abs/1805.02175) notation by default. We can get a pure ZX-diagram if we first convert the circuit to basic (i.e. Clifford+T) gates:"
   ]
  },
  {
   "cell_type": "code",
   "execution_count": null,
   "metadata": {},
   "outputs": [],
   "source": [
    "zx.draw_matplotlib(circ.to_basic_gates(), figsize=(10,2), h_edge_draw='box')"
   ]
  },
  {
   "cell_type": "markdown",
   "metadata": {},
   "source": [
    "Here we've drawn the circuit using the Matplotlib backend, but we can also use the D3 Javascript library to generate a more interactive representation:"
   ]
  },
  {
   "cell_type": "code",
   "execution_count": null,
   "metadata": {},
   "outputs": [],
   "source": [
    "zx.draw(circ)"
   ]
  },
  {
   "cell_type": "markdown",
   "metadata": {},
   "source": [
    "We can ask for simple statistics for this circuit:"
   ]
  },
  {
   "cell_type": "code",
   "execution_count": null,
   "metadata": {},
   "outputs": [],
   "source": [
    "print(circ.stats())"
   ]
  },
  {
   "cell_type": "markdown",
   "metadata": {},
   "source": [
    "Note that a lot of the circuit is hidden in the mysterious \"4 gates of a different type\" (which are the CCZ gates). We can write the circuit in terms of basic gates to get more accurate Clifford+T statistics:"
   ]
  },
  {
   "cell_type": "code",
   "execution_count": null,
   "metadata": {},
   "outputs": [],
   "source": [
    "print(circ.to_basic_gates().stats())"
   ]
  },
  {
   "cell_type": "markdown",
   "metadata": {},
   "source": [
    "A Circuit can be exported into the supported file formats using\n",
    "    * ``circ.to_qasm``\n",
    "    * ``circ.to_quipper``\n",
    "    * ``circ.to_qc``"
   ]
  },
  {
   "cell_type": "code",
   "execution_count": null,
   "metadata": {},
   "outputs": [],
   "source": [
    "print(circ.to_qasm())"
   ]
  },
  {
   "cell_type": "code",
   "execution_count": null,
   "metadata": {},
   "outputs": [],
   "source": [
    "print(circ.to_quipper())"
   ]
  },
  {
   "cell_type": "code",
   "execution_count": null,
   "metadata": {},
   "outputs": [],
   "source": [
    "print(circ.to_qc())"
   ]
  },
  {
   "cell_type": "markdown",
   "metadata": {},
   "source": [
    "<a id=\"quantomatic\"></a>\n",
    "# Interacting with Quantomatic\n",
    "PyZX allows easy integration with quantomatic.\n",
    "\n",
    "First of all, Quantomatic graph files can be imported into PyZX:"
   ]
  },
  {
   "cell_type": "code",
   "execution_count": null,
   "metadata": {},
   "outputs": [],
   "source": [
    "fname = os.path.join('..','circuits','2-qubit-unitary.qgraph')\n",
    "with open(fname, 'r') as f:\n",
    "    g = zx.Graph.from_json(f.read())\n",
    "zx.draw(g, labels=True)"
   ]
  },
  {
   "cell_type": "markdown",
   "metadata": {},
   "source": [
    "PyZX saves the names of the vertices:"
   ]
  },
  {
   "cell_type": "code",
   "execution_count": null,
   "metadata": {},
   "outputs": [],
   "source": [
    "print(g.vdata(12,'name'))\n",
    "print(g.vdata(1,'name'))"
   ]
  },
  {
   "cell_type": "markdown",
   "metadata": {},
   "source": [
    "Because this graph was originally exported from PyZX, it has automatically remembered what its inputs and outputs are:"
   ]
  },
  {
   "cell_type": "code",
   "execution_count": null,
   "metadata": {},
   "outputs": [],
   "source": [
    "g.inputs(), g.outputs()"
   ]
  },
  {
   "cell_type": "markdown",
   "metadata": {},
   "source": [
    "For a graph that originated from Quantomatic we need to tell it what its inputs and outputs are.\n",
    "\n",
    "This can be done either manually:\n",
    "\n",
    "    g.set_inputs(tuple_of_inputs); g.set_outputs(tuple_of_outputs)\n",
    "    \n",
    "or by PyZX through calling ``g.auto_detect_io()``. This function makes all boundaries pointing to the right inputs, and those pointing to the left inputs. For example:"
   ]
  },
  {
   "cell_type": "code",
   "execution_count": null,
   "metadata": {},
   "outputs": [],
   "source": [
    "g.set_inputs(())\n",
    "g.set_outputs(())\n",
    "g.auto_detect_io()\n",
    "print(g.inputs(), g.outputs())"
   ]
  },
  {
   "cell_type": "markdown",
   "metadata": {},
   "source": [
    "We can also call Quantomatic from PyZX. To do this we first need to tell PyZX where the Quantomatic executable can be found:"
   ]
  },
  {
   "cell_type": "code",
   "execution_count": null,
   "metadata": {},
   "outputs": [],
   "source": [
    "zx.quantomatic.quantomatic_location = os.path.join('path', 'to', 'Quantomatic.jar')"
   ]
  },
  {
   "cell_type": "markdown",
   "metadata": {},
   "source": [
    "Now, we can load a PyZX graph into Quantomatic using the following line:"
   ]
  },
  {
   "cell_type": "code",
   "execution_count": null,
   "metadata": {},
   "outputs": [],
   "source": [
    "result = zx.quantomatic.edit_graph(g)"
   ]
  },
  {
   "cell_type": "markdown",
   "metadata": {},
   "source": [
    "This starts Quantomatic with the graph ``g`` loaded. When you are done editing the graph, you simply save the file in Quantomatic, and close it. The result is then loaded and returned.\n",
    "\n",
    "NOTE1: The Notebook will be blocked until the Quantomatic executable is closed.\n",
    "\n",
    "NOTE2: Currently this only works with a recent build of Quantomatic that is as of yet only available via the repository, so make sure you are working with an up-to-date branch of Quantomatic."
   ]
  },
  {
   "cell_type": "markdown",
   "metadata": {},
   "source": [
    "<a id=\"optimization-zx\"></a>\n",
    "# Optimizing ZX-diagrams\n",
    "PyZX contains many functions for optimizing circuits and ZX-diagrams. In this section we will show how these methods work and can be called.\n",
    "\n",
    "First, let us load a small circuit:"
   ]
  },
  {
   "cell_type": "code",
   "execution_count": null,
   "metadata": {},
   "outputs": [],
   "source": [
    "fname = os.path.join('..','circuits','Fast', 'mod5_4_before')\n",
    "circ = zx.Circuit.load(fname).to_basic_gates()\n",
    "print(\"original T-count:\", zx.tcount(circ))\n",
    "zx.draw(circ)"
   ]
  },
  {
   "cell_type": "markdown",
   "metadata": {},
   "source": [
    "The most basic simplification routine for ZX-graphs is ``interior_clifford_simp``. This uses the simplification rules based on spider-fusion, identity removal, pivoting and local complementation until they cannot be applied anymore."
   ]
  },
  {
   "cell_type": "code",
   "execution_count": null,
   "metadata": {},
   "outputs": [],
   "source": [
    "g = circ.to_graph() # We first have to convert the circuit into a ZX-graph\n",
    "zx.simplify.interior_clifford_simp(g,quiet=False) # if it is not quiet then the amount of reductions in each step is printed\n",
    "# The following function makes the representation of the graph more compact. \n",
    "# It only moves vertices around, and may introduce some identities\n",
    "# It is recommended to call this function before trying to draw a graph, as otherwise the graph might not be very readable.\n",
    "g.normalize() \n",
    "zx.draw(g)\n",
    "print(\"Optimized T-count:\", zx.tcount(g))"
   ]
  },
  {
   "cell_type": "markdown",
   "metadata": {},
   "source": [
    "As you can see this routine has decreased the T-count by a bit, but not by a lot.\n",
    "\n",
    "\n",
    "Part of the reason is that in this circuit there are still a few phaseless nodes 'trapped' in the middle of the circuit. These nodes are however connected to the boundary, so if we unfuse those boundary nodes we can get rid of the interior nodes. This can be done by calling ``zx.simplify.pivot_boundary_simp``. As this function changes the graph, we call ``interior_clifford_simp`` afterwards to do whatever new simplifications have become available."
   ]
  },
  {
   "cell_type": "code",
   "execution_count": null,
   "metadata": {},
   "outputs": [],
   "source": [
    "zx.simplify.pivot_boundary_simp(g, quiet=False)\n",
    "zx.draw(g)\n",
    "zx.simplify.interior_clifford_simp(g,quiet=False)\n",
    "g.normalize()\n",
    "zx.draw(g)\n",
    "print(\"Optimized T-count:\", zx.tcount(g))"
   ]
  },
  {
   "cell_type": "markdown",
   "metadata": {},
   "source": [
    "Though the graph is smaller now, it hasn't decreased the T-count any further in this case.\n",
    "\n",
    "The method ``clifford_simp`` is a convenience function that calls ``interior_clifford_simp`` and ``pivot_boundary_simp`` until no further simplifications are found. It is recommended that you call ``clifford_simp`` instead of the other functions.\n",
    "In order to further reduce the T-count we have to start using more advanced techniques. Namely the process of *gadgetization*:"
   ]
  },
  {
   "cell_type": "code",
   "execution_count": null,
   "metadata": {},
   "outputs": [],
   "source": [
    "zx.simplify.pivot_gadget_simp(g, quiet=False)\n",
    "zx.draw(g)\n",
    "print(\"T-count:\", zx.tcount(g))"
   ]
  },
  {
   "cell_type": "markdown",
   "metadata": {},
   "source": [
    "This method combines all T-like phases with a phaseless spider to turn it into a *phase gadget*. In the previous diagram those are the spider pairs floating above the rest of the diagram, which we refer to as its *skeleton*. As you can see, the T-count has not actually been reduced by doing just these pivots, but now the graph has a completely different structure then before, so lets see what happens if we apply ``clifford_simp`` again:"
   ]
  },
  {
   "cell_type": "code",
   "execution_count": null,
   "metadata": {},
   "outputs": [],
   "source": [
    "zx.simplify.clifford_simp(g, quiet=False)\n",
    "g.normalize()\n",
    "zx.draw(g)\n",
    "print(\"Optimized T-count:\", zx.tcount(g))"
   ]
  },
  {
   "cell_type": "markdown",
   "metadata": {},
   "source": [
    "That has reduced the T-count from 22 down to 18!\n",
    "\n",
    "But we are in fact not done yet. If you look closely at the graph above you will see that a few of the gadgets have exactly the same set of neighbors. Whenever this happens, these phase gadgets can be fused into a single phase gadget by adding the phases together. This procedure is done by ``gadget_simp``:"
   ]
  },
  {
   "cell_type": "code",
   "execution_count": null,
   "metadata": {},
   "outputs": [],
   "source": [
    "zx.simplify.gadget_simp(g, quiet=False)\n",
    "g.normalize()\n",
    "zx.draw(g)\n",
    "print(\"Optimized T-count:\", zx.tcount(g))"
   ]
  },
  {
   "cell_type": "markdown",
   "metadata": {},
   "source": [
    "The T-count has now more than halved! Note that the previous best-known T-count for this circuit was 16, so this is a big improvement.\n",
    "\n",
    "There is not much we can do now. We do one final round of ``clifford_simp`` to make the graph a bit smaller."
   ]
  },
  {
   "cell_type": "code",
   "execution_count": null,
   "metadata": {},
   "outputs": [],
   "source": [
    "zx.simplify.clifford_simp(g, quiet=False)\n",
    "g.normalize()\n",
    "zx.draw(g)"
   ]
  },
  {
   "cell_type": "markdown",
   "metadata": {},
   "source": [
    "Since it is quite a bit of effort to do all these steps manually, they have been combined into the function ``full_reduce``. This procedure does the following steps:\n",
    "\n",
    " 1. Run ``clifford_simp``.\n",
    " 2. Gadgetize the diagram using ``pivot_gadget_simp``.\n",
    " 4. Run ``clifford_simp``.\n",
    " 5. Run ``gadget_simp``. If it finds simplifications go back to step 1, otherwise halt.\n",
    " \n",
    "To demonstrate:"
   ]
  },
  {
   "cell_type": "code",
   "execution_count": null,
   "metadata": {},
   "outputs": [],
   "source": [
    "g = circ.to_basic_gates().to_graph()\n",
    "zx.simplify.full_reduce(g,quiet=False)\n",
    "g.normalize()\n",
    "zx.draw(g)"
   ]
  },
  {
   "cell_type": "markdown",
   "metadata": {},
   "source": [
    "The next step is to turn this graph back into a circuit"
   ]
  },
  {
   "cell_type": "markdown",
   "metadata": {},
   "source": [
    "<a id=\"optimization-circuits\"></a>\n",
    "# Extracting and optimizing circuits"
   ]
  },
  {
   "cell_type": "markdown",
   "metadata": {},
   "source": [
    "For extracting circuits out of ZX-graphs there is only a single method in PyZX that you have to call: ``zx.extract_circuit``. This method should always work *when dealing with graphs produced by ``full_reduce``.* There is no guarantee that it can extract circuits from arbitrary ZX-diagrams.\n",
    "\n",
    "Let's see what this method does when applied to the circuit from the previous section:"
   ]
  },
  {
   "cell_type": "code",
   "execution_count": null,
   "metadata": {},
   "outputs": [],
   "source": [
    "fname = os.path.join('..','circuits','Fast', 'mod5_4_before')\n",
    "circ = zx.Circuit.load(fname).to_basic_gates()\n",
    "print(\"The original circuit:\")\n",
    "zx.draw(circ)\n",
    "\n",
    "g = circ.to_graph()\n",
    "zx.simplify.full_reduce(g,quiet=True)\n",
    "g.normalize()\n",
    "print(\"The optimized ZX-diagram:\")\n",
    "zx.draw(g)\n",
    "\n",
    "new_circ = zx.extract_circuit(g)\n",
    "print(\"The extracted circuit:\")\n",
    "zx.draw(new_circ)"
   ]
  },
  {
   "cell_type": "markdown",
   "metadata": {},
   "source": [
    "Explaining how ``extract_circuit`` works is out of scope for this notebook for now. If you want to know more you can check out the paper [Graph-theoretic Simplification of Quantum Circuits with the ZX-calculus](https://arxiv.org/abs/1902.03178) or the more recent (but more involved) [There and back again: A circuit extraction tale](https://arxiv.org/abs/2003.01664).\n",
    "\n",
    "As you can see, the extracted circuit looks quite different from the original circuit, so how can we be sure that they actually represent the same unitary? PyZX allows you to convert ZX-diagrams into the tensors they represent using numpy. In this way we can directly compare the unitaries and see that they are equal:"
   ]
  },
  {
   "cell_type": "code",
   "execution_count": null,
   "metadata": {},
   "outputs": [],
   "source": [
    "# This method checks whether the two given ZX-graphs or circuits have the same tensor representation up to some nonzero scalar\n",
    "zx.compare_tensors(circ, new_circ)"
   ]
  },
  {
   "cell_type": "markdown",
   "metadata": {},
   "source": [
    "This method uses ``zx.tensorfy`` under the hood to turn the circuits into tensors. This method is not optimized for memory usage, so it will run out of memory quite quickly (sometimes even for circuits with 9 or 10 qubits). It is only usable for testing small circuits and ZX-diagrams.\n",
    "\n",
    "For larger circuits PyZX also offers a different method to check whether two circuits are equal:"
   ]
  },
  {
   "cell_type": "code",
   "execution_count": null,
   "metadata": {},
   "outputs": [],
   "source": [
    "circ.verify_equality(new_circ)"
   ]
  },
  {
   "cell_type": "markdown",
   "metadata": {},
   "source": [
    "This method takes the composition of the first circuit with the adjoint of the second and simplifies the resulting circuit with ``full_reduce``. If it succeeds, it returns ``True``, if it does not it returns ``False``. This means that if this method succeeds, that is very likely that the 2 circuits are equal (it would be very unlikely that some bug in the rewriting engine would cancel out in exactly the right way to be able to reduce the circuit to the identity). However, if it returns ``False`` it might simply mean that the rewrite engine is not powerful enough to verify the equality of the two circuits."
   ]
  },
  {
   "cell_type": "markdown",
   "metadata": {},
   "source": [
    "``extract_circuit`` often produces circuits that are clearly not optimal as can be seen in the series of Hadamard gates at the end of the above extracted circuit. PyZX offers a circuit optimization method that takes care of this obvious kind of suboptimality:"
   ]
  },
  {
   "cell_type": "code",
   "execution_count": null,
   "metadata": {},
   "outputs": [],
   "source": [
    "print(new_circ.to_basic_gates().stats())\n",
    "optimized_circ = zx.optimize.basic_optimization(new_circ.to_basic_gates(),do_swaps=False).to_basic_gates()\n",
    "print(optimized_circ.stats())\n",
    "zx.draw(optimized_circ)"
   ]
  },
  {
   "cell_type": "markdown",
   "metadata": {},
   "source": [
    "``basic_optimization`` commutes gates past Hadamards in order to find matching CNOT, CZ and Hadamard gates that can be cancelled. Depending on the circuit it can find significant reductions in the amount of Hadamard gates, which is useful for the next optimization routine. Note that we gave it the argument `do_swaps=False`. When this is instead set to True, it employs more powerful optimization techniques involving transforming adjacent CNOT gates into SWAPs. While for larger circuits this often leads to better results, for the above circuit it actually increases the 2-qubit gate-count (from 25 to 27).\n",
    "\n",
    "As you can see, the optimized circuit only contains 2 Hadamard gates, and in fact the leftmost Hadamard gate could be commuted past the CNOTs and CZs to its left so that the entire interior of the circuit is free of Hadamards. Such a Hadamard-free circuit is called a *phase polynomial* circuit, and there are specific techniques for optimizing these types of circuits. PyZX offers a method that finds phase polynomial sub-circuits and runs an optimization routine on them:"
   ]
  },
  {
   "cell_type": "code",
   "execution_count": null,
   "metadata": {},
   "outputs": [],
   "source": [
    "final_circ = zx.optimize.phase_block_optimize(optimized_circ).to_basic_gates()\n",
    "final_circ = zx.optimize.basic_optimization(final_circ) # We call this again, as it does some extra processing\n",
    "print(final_circ.stats())\n",
    "zx.draw(final_circ)"
   ]
  },
  {
   "cell_type": "markdown",
   "metadata": {},
   "source": [
    "Let's check once more that this circuit is still equal to the original circuit:"
   ]
  },
  {
   "cell_type": "code",
   "execution_count": null,
   "metadata": {},
   "outputs": [],
   "source": [
    "zx.compare_tensors(circ, final_circ)"
   ]
  },
  {
   "cell_type": "markdown",
   "metadata": {},
   "source": [
    "And finally lets output this circuit in a format that is usable in other software:"
   ]
  },
  {
   "cell_type": "code",
   "execution_count": null,
   "metadata": {},
   "outputs": [],
   "source": [
    "print(final_circ.to_qasm())"
   ]
  },
  {
   "cell_type": "markdown",
   "metadata": {},
   "source": [
    "<a id=\"phase-teleportation\"></a>\n",
    "# Phase teleportation"
   ]
  },
  {
   "cell_type": "markdown",
   "metadata": {},
   "source": [
    "The above procedure of simplifying a diagram, and extracting a new circuit directly from it worked quite well in the example given above, but unfortunately in other cases it can actually *increase* the total gate-count (although it never increases the amount of T-gates).\n",
    "\n",
    "To get around this issue PyZX offers the *phase teleportation* routine. This uses the diagrammatic simplification only as information to inform when phase gates can be combined in the original circuit, but otherwise it leaves the circuit intact. The details can be found in [Reducing T-count with the ZX-calculus](https://arxiv.org/abs/1903.10477)."
   ]
  },
  {
   "cell_type": "code",
   "execution_count": null,
   "metadata": {},
   "outputs": [],
   "source": [
    "fname = os.path.join('..','circuits','Fast', 'mod5_4_before')\n",
    "circ = zx.Circuit.load(fname).to_basic_gates()\n",
    "print(\"The original circuit:\")\n",
    "zx.draw(circ)\n",
    "g = zx.simplify.teleport_reduce(circ.to_graph(),quiet=True)\n",
    "print(\"Circuit after phase teleportation:\")\n",
    "zx.draw(g)"
   ]
  },
  {
   "cell_type": "markdown",
   "metadata": {},
   "source": [
    "As you can see the circuit is exactly the same, except that it has less phase gates. Let's verify that it is indeed still the same circuit:"
   ]
  },
  {
   "cell_type": "code",
   "execution_count": null,
   "metadata": {},
   "outputs": [],
   "source": [
    "zx.compare_tensors(circ, g)"
   ]
  },
  {
   "cell_type": "code",
   "execution_count": null,
   "metadata": {},
   "outputs": [],
   "source": []
  }
 ],
 "metadata": {
  "kernelspec": {
   "display_name": "Python 3",
   "language": "python",
   "name": "python3"
  },
  "language_info": {
   "codemirror_mode": {
    "name": "ipython",
    "version": 3
   },
   "file_extension": ".py",
   "mimetype": "text/x-python",
   "name": "python",
   "nbconvert_exporter": "python",
   "pygments_lexer": "ipython3",
   "version": "3.8.10"
  }
 },
 "nbformat": 4,
 "nbformat_minor": 2
}
