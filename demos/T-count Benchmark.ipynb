{
 "cells": [
  {
   "cell_type": "markdown",
   "metadata": {},
   "source": [
    "# Benchmark\n",
    "\n",
    "This notebook provides a straightforward way to compare the PyZX optimization routines against other approaches on a standard set of benchmark circuits."
   ]
  },
  {
   "cell_type": "markdown",
   "metadata": {},
   "source": [
    "First we execute the standard set of imports:"
   ]
  },
  {
   "cell_type": "code",
   "execution_count": 1,
   "metadata": {},
   "outputs": [],
   "source": [
    "import random, math, os, time\n",
    "import sys; sys.path.append('..')\n",
    "import pyzx as zx"
   ]
  },
  {
   "cell_type": "markdown",
   "metadata": {},
   "source": [
    "The following class is some boilerplate around the simplification routines so that we can more easily print the relevant metrics"
   ]
  },
  {
   "cell_type": "code",
   "execution_count": 2,
   "metadata": {},
   "outputs": [],
   "source": [
    "class CircuitComparer:\n",
    "    def __init__(self, dirname, before, after):\n",
    "        self.fname_before = os.path.join(dirname, before)\n",
    "        if after:\n",
    "            self.fname_after = os.path.join(dirname, after)\n",
    "        else:\n",
    "            self.fname_after = \"\"\n",
    "        self.fname_tpar = \"\"\n",
    "        if before.find('before') != -1:\n",
    "            self.name = before[:-7]\n",
    "        else:\n",
    "            self.name = before\n",
    "        self.has_run = False\n",
    "    def __str__(self):\n",
    "        return \"CircuitComparer({}, {})\".format(self.name, str(self.has_run))\n",
    "    def __repr__(self):\n",
    "        return str(self)\n",
    "    \n",
    "    def run(self, validate=True):\n",
    "        if self.has_run: return True\n",
    "        c = zx.Circuit.load(self.fname_before).to_basic_gates()\n",
    "        if self.fname_after:\n",
    "            c_opt = zx.Circuit.load(self.fname_after).to_basic_gates()\n",
    "            self.t_opt = c_opt.tcount()\n",
    "        else:\n",
    "            self.t_opt = '-'\n",
    "        self.qubits = c.qubits\n",
    "        if self.fname_tpar:\n",
    "            c2 = zx.Circuit.load(self.fname_tpar)\n",
    "            self.tpar = c2.tcount()\n",
    "        else: self.tpar = \"-\"\n",
    "        self.gatecount = len(c.gates)\n",
    "        self.t_before = c.tcount()\n",
    "        g = c.to_graph()\n",
    "        t = time.time()\n",
    "        g = zx.simplify.teleport_reduce(g)\n",
    "        self.t_after = zx.tcount(g)\n",
    "        self.time_simpl = time.time() - t\n",
    "        t = time.time()\n",
    "        c_opt = zx.Circuit.from_graph(g).split_phase_gates().to_basic_gates()\n",
    "        #c_opt = zx.extract_circuit(g).to_basic_gates()\n",
    "        c_opt = zx.optimize.basic_optimization(c_opt).to_basic_gates()\n",
    "        self.c_opt = c_opt\n",
    "        if validate:\n",
    "            c_id = c.adjoint()\n",
    "            c_id.add_circuit(c_opt)\n",
    "            g = c_id.to_graph()\n",
    "            zx.simplify.full_reduce(g)\n",
    "            if g.num_vertices() == 2*len(g.inputs):\n",
    "                self.verified = \"Y\"\n",
    "            else: self.verified = \"N\"\n",
    "        else: self.verified = \"-\"\n",
    "        \n",
    "        self.extracts = True\n",
    "        self.time_extr = 0.0\n",
    "#         try: \n",
    "#             c2 = zx.extract_circuit(g,quiet=True)\n",
    "#             self.time_extr = time.time() - t\n",
    "#         except Exception:\n",
    "#             self.extracts = False\n",
    "#             self.time_extr = -1\n",
    "        self.has_run = True\n",
    "        \n",
    "        return True\n",
    "    \n",
    "    def get_output(self, validate=True):\n",
    "        if not self.has_run:\n",
    "            self.run(validate)\n",
    "        s = self.name.ljust(20) + str(self.qubits).rjust(7)\n",
    "        s += str(self.gatecount).rjust(8) + str(self.t_before).rjust(9) + str(self.t_opt).rjust(7) \n",
    "        s += str(self.tpar).rjust(8) + str(self.t_after).rjust(8)\n",
    "        s += \"{:.2f}\".format(self.time_simpl).rjust(11)\n",
    "        #s += \"{:.2f}\".format(self.time_extr).rjust(12)\n",
    "        s += \"       \" + self.verified\n",
    "        #s += str(self.hcount).rjust(8) + str(self.vcount).rjust(8)\n",
    "        return s\n",
    "    \n",
    "    def save(self):\n",
    "        if not self.has_run: self.run()\n",
    "        fname = self.name\n",
    "        if not fname.endswith('.qc'): fname = fname + \"_pyzx.qc\"\n",
    "        else: fname = fname[:-3] + \"_pyzx.qc\"\n",
    "        with open(\"../circuits/optimized/{}\".format(fname),'w') as f:\n",
    "            f.write(self.c_opt.split_phase_gates().to_qc())"
   ]
  },
  {
   "cell_type": "markdown",
   "metadata": {},
   "source": [
    "Next we define a function that loads in a directory of circuit files. Note that the directory we target has up to 3 versions of each circuit:\n",
    "\n",
    "* circuit_before   - This is the original circuit with any modifications, taken from the [Github page](https://github.com/njross/optimizer) of [[1]](#NRSCM)\n",
    "* circuit_after    - This is the circuit produced by the optimization routines of [[1]](#NRSCM).\n",
    "* circuit_tpar.qc  - This is the circuit produced by the Tpar algorithm [[2]](#Tpar).\n",
    "  \n",
    "<a id=\"NRSCM\"></a>\n",
    "[1] [Nam, Ross, Su, Childs, Maslov - Automated optimization of large quantum circuits with continuous parameters](https://www.nature.com/articles/s41534-018-0072-4)\n",
    "\n",
    "<a id=\"Tpar\"></a>\n",
    "[2] [Amy, Maslov, Mosca - Polynomial-time T-depth Optimization of Clifford+T circuits via Matroid Partitioning](https://arxiv.org/abs/1303.2042)"
   ]
  },
  {
   "cell_type": "code",
   "execution_count": 3,
   "metadata": {},
   "outputs": [],
   "source": [
    "def load_circuits(directory):\n",
    "    d = directory\n",
    "    beforefiles = []\n",
    "    afterfiles = []\n",
    "    tparfiles = []\n",
    "    for f in os.listdir(d):\n",
    "        if not os.path.isfile(os.path.join(d,f)): continue\n",
    "        if f.find('before') != -1:\n",
    "            beforefiles.append((f,d))\n",
    "        elif f.find('tpar') != -1:\n",
    "            tparfiles.append((f,d))\n",
    "        elif f.find('.qc') != -1 or f.find('.tfc') != -1:\n",
    "            beforefiles.append((f,d))\n",
    "        else: afterfiles.append((f,d))\n",
    "    \n",
    "    circuits = []\n",
    "    for f, d in beforefiles:\n",
    "        if f.find('before') == -1:\n",
    "            n = os.path.splitext(f)[0]\n",
    "        else: n = f[:-7]\n",
    "        for f2,d2 in afterfiles:\n",
    "            if d!=d2: continue\n",
    "            if f2.startswith(n):\n",
    "                c = CircuitComparer(d, f, f2)\n",
    "                circuits.append(c)\n",
    "                break\n",
    "        else:\n",
    "            c = CircuitComparer(d, f, '')\n",
    "            circuits.append(c)\n",
    "        for f2,d2 in tparfiles:\n",
    "            if d!=d2: continue\n",
    "            if f2.startswith(n):\n",
    "                circuits[-1].fname_tpar = os.path.join(d2,f2)\n",
    "    \n",
    "    return circuits\n",
    "\n",
    "dir_fast_circuits = os.path.join('..', 'circuits', 'Fast')\n",
    "fast_circuits = load_circuits(dir_fast_circuits)"
   ]
  },
  {
   "cell_type": "markdown",
   "metadata": {},
   "source": [
    "The directory we target contains a subset of all benchmark circuits, chosen for given quick results. The following cell giving benchmark results of these circuits should therefore only take a few seconds to run. For the benchmarks of slower circuits see [below](#slowbench).\n",
    "The columns have the following meaning:\n",
    "\n",
    "* `Circuit     ` - The name of the circuit\n",
    "* `qubits      ` - Amount of qubits in the circuit\n",
    "* `G-count     ` - Gate count of original circuit\n",
    "* `T-before    ` - Amount of T-gates in original circuit\n",
    "* `T-NRSCM     ` - Amount of T-gates in optimized circuit of [[1]](#NRSCM)\n",
    "* `T-par       ` - Amount of T-gates in optimized circuit of [[2]](#Tpar)\n",
    "* `T-PyZX      ` - Amount of T-gates in optimized circuit made by PyZX\n",
    "* `Time-Simp   ` - The time taken for running the simplification routine on the circuit\n",
    "* `Time-Extract` - The time taken for extracting the circuit after the simplification\n",
    "\n",
    "Note that not all circuits were present in the papers [[1]](#NRSCM) and [[2]](#Tpar) in which case the relevant columns are empty."
   ]
  },
  {
   "cell_type": "code",
   "execution_count": 4,
   "metadata": {
    "scrolled": false
   },
   "outputs": [
    {
     "name": "stdout",
     "output_type": "stream",
     "text": [
      "Circuit              qubits G-count T-before T-NRSCM  T-par  T-PyZX  Time-Simp Verified\n",
      "Adder8                   23     637      266     56       -      56       0.57       Y\n",
      "adder_8                  24     900      399    215     215     173       0.98       Y\n",
      "barenco_tof_10           19     450      224    100     100     100       0.27       Y\n",
      "barenco_tof_3             5      58       28     16      16      16       0.04       Y\n",
      "barenco_tof_4             7     114       56     28      28      28       0.06       Y\n",
      "barenco_tof_5             9     170       84     40      40      40       0.08       Y\n",
      "csla_mux_3_original      15     170       70     64       -      62       0.07       Y\n",
      "csum_mux_9_corrected     30     448      196     84       -      84       0.25       Y\n",
      "gf2^10_mult              30    1509      700    410     410     410       0.88       Y\n",
      "gf2^4_mult               12     243      112     68      68      68       0.16       Y\n",
      "gf2^5_mult               15     379      175    115     111     115       0.20       Y\n",
      "gf2^6_mult               18     545      252    150     150     150       0.30       Y\n",
      "gf2^7_mult               21     741      343    217     217     217       0.44       Y\n",
      "gf2^8_mult               24     981      448    264     264     264       0.91       Y\n",
      "gf2^9_mult               27    1223      567    351     351     351       0.94       Y\n",
      "grover_5.qc               9     831      336      -      52     166       0.59       Y\n",
      "ham15-low.qc             17     443      161      -       -      97       0.46       Y\n",
      "hwb6.qc                   7     259      105      -       -      75       0.21       Y\n",
      "mod5_4                    5      63       28     16      16       8       0.03       Y\n",
      "mod_mult_55               9     119       49     35      37      35       0.08       Y\n",
      "mod_red_21               11     278      119     73      73      73       0.22       Y\n",
      "nth_prime6.tfc            9    1241      567      -       -     279       1.30       Y\n",
      "qcla_adder_10            36     521      238    162     162     162       0.31       Y\n",
      "qcla_com_7               24     443      203     95      95      95       0.32       Y\n",
      "qcla_mod_7               26     884      413    235     249     237       0.65       Y\n",
      "QFT16                    16     586      342    144       -     144       0.24       Y\n",
      "QFT8                      8     148       84     42       -      42       0.05       Y\n",
      "QFTAdd8                  16     476      252    112       -     112       0.26       Y\n",
      "qft_4.qc                  5     179       69      -       -      67       0.05       Y\n",
      "rc_adder_6               14     200       77     47      63      47       0.13       Y\n",
      "tof_10                   19     255      119     71      71      71       0.12       Y\n",
      "tof_3                     5      45       21     15      15      15       0.02       Y\n",
      "tof_4                     7      75       35     23      23      23       0.03       Y\n",
      "tof_5                     9     105       49     31      31      31       0.04       Y\n",
      "vbe_adder_3              10     150       70     24      24      24       0.08       Y\n"
     ]
    }
   ],
   "source": [
    "print(\"Circuit\".ljust(20), \"qubits\", \"G-count\", \"T-before\", \"T-NRSCM\", \" T-par\", \" T-PyZX\", \" Time-Simp\",\"Verified\")\n",
    "for c in fast_circuits:\n",
    "    print(c.get_output())"
   ]
  },
  {
   "cell_type": "code",
   "execution_count": 15,
   "metadata": {},
   "outputs": [],
   "source": [
    "for c in fast_circuits:\n",
    "    try: c.save()\n",
    "    except TypeError: continue"
   ]
  },
  {
   "cell_type": "markdown",
   "metadata": {},
   "source": [
    "<a id=\"slowbench\"></a>\n",
    "And now we do the benchmark on the slower circuits. Note that this can take up to half an hour to complete."
   ]
  },
  {
   "cell_type": "code",
   "execution_count": 24,
   "metadata": {},
   "outputs": [
    {
     "name": "stdout",
     "output_type": "stream",
     "text": [
      "Circuit              qubits G-count T-before T-NRSCM  T-par  T-PyZX  Time-Simp Verified\n",
      "Adder16                  47    1437      602    120       -     120       0.71       -\n",
      "Adder32                  95    3037     1274    248       -     248       1.66       -\n",
      "Adder64                 191    6237     2618    504       -     504       3.68       -\n",
      "gf2^16_mult              48    4397     1792   1040    1040    1040       5.50       -\n",
      "ham15-high.qc            20    6010     2457      -       -    1019       8.82       -\n",
      "ham15-med.qc             17    1436      574      -       -     212       1.80       -\n",
      "hwb8.qc                  12   16538     5887      -       -    3517      80.89       -\n",
      "mod_adder_1024           28    4855     1995   1011    1011    1011       3.00       -\n",
      "nth_prime8.tfc           12   16968     6671      -       -    4047      48.29       -\n",
      "QFT32                    32    1562      918    368       -     368       0.34       -\n",
      "QFTAdd16                 32    1822     1026    402       -     402       0.63       -\n",
      "QFTAdd32                 64    4814     2754   1042       -    1043       1.95       -\n"
     ]
    }
   ],
   "source": [
    "dir_slow_circuits = os.path.join('..', 'circuits', 'Slow')\n",
    "slow_circuits = load_circuits(dir_slow_circuits)\n",
    "print(\"Circuit\".ljust(20), \"qubits\", \"G-count\", \"T-before\", \"T-NRSCM\", \" T-par\", \" T-PyZX\", \" Time-Simp\", \"Verified\")\n",
    "for c in slow_circuits:\n",
    "    print(c.get_output(validate=False))"
   ]
  },
  {
   "cell_type": "code",
   "execution_count": 26,
   "metadata": {},
   "outputs": [],
   "source": [
    "for c in slow_circuits:\n",
    "    try: c.save()\n",
    "    except TypeError: continue"
   ]
  }
 ],
 "metadata": {
  "kernelspec": {
   "display_name": "Python 3",
   "language": "python",
   "name": "python3"
  },
  "language_info": {
   "codemirror_mode": {
    "name": "ipython",
    "version": 3
   },
   "file_extension": ".py",
   "mimetype": "text/x-python",
   "name": "python",
   "nbconvert_exporter": "python",
   "pygments_lexer": "ipython3",
   "version": "3.7.4"
  }
 },
 "nbformat": 4,
 "nbformat_minor": 2
}
