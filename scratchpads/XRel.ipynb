{
 "cells": [
  {
   "cell_type": "code",
   "execution_count": 1,
   "metadata": {},
   "outputs": [],
   "source": [
    "import sys, os; sys.path.append('..')\n",
    "import pyzx as zx\n",
    "import random\n",
    "from fractions import Fraction\n",
    "%config InlineBackend.figure_format = 'svg'"
   ]
  },
  {
   "cell_type": "code",
   "execution_count": 17,
   "metadata": {},
   "outputs": [
    {
     "data": {
      "text/html": [
       "\n",
       "        <div style=\"overflow:auto\" id=\"graph-output-9\"></div>\n",
       "        <script type=\"text/javascript\">\n",
       "        require.config({ baseUrl: \"../js\",\n",
       "                         paths: {d3: \"d3.v4.min\"} });\n",
       "        require(['pyzx'], function(pyzx) {\n",
       "            pyzx.showGraph('#graph-output-9',\n",
       "            JSON.parse('{\"nodes\": [{\"name\": \"4\", \"x\": 50, \"y\": 300, \"t\": 0, \"phase\": \"\"}, {\"name\": \"5\", \"x\": 50, \"y\": 350, \"t\": 0, \"phase\": \"\"}, {\"name\": \"6\", \"x\": 100, \"y\": 300, \"t\": 2, \"phase\": \"\"}, {\"name\": \"7\", \"x\": 100, \"y\": 100, \"t\": 1, \"phase\": \"\"}, {\"name\": \"13\", \"x\": 150, \"y\": 200, \"t\": 1, \"phase\": \"\"}, {\"name\": \"14\", \"x\": 100, \"y\": 250, \"t\": 1, \"phase\": \"\\u03c0\"}, {\"name\": \"23\", \"x\": 200, \"y\": 300, \"t\": 0, \"phase\": \"\"}, {\"name\": \"24\", \"x\": 200, \"y\": 350, \"t\": 0, \"phase\": \"\"}], \"links\": [{\"source\": \"4\", \"target\": \"6\", \"t\": 1}, {\"source\": \"5\", \"target\": \"6\", \"t\": 1}, {\"source\": \"6\", \"target\": \"7\", \"t\": 1}, {\"source\": \"6\", \"target\": \"23\", \"t\": 1}, {\"source\": \"6\", \"target\": \"13\", \"t\": 1}, {\"source\": \"6\", \"target\": \"24\", \"t\": 1}]}'), 250, 450, 50, 10.0, true, false);\n",
       "        });\n",
       "        </script>\n",
       "        "
      ],
      "text/plain": [
       "<IPython.core.display.HTML object>"
      ]
     },
     "metadata": {},
     "output_type": "display_data"
    }
   ],
   "source": [
    "g = zx.sqasm(\"\"\"\n",
    "qreg S[4];\n",
    "qreg x[2];\n",
    "cx S[0], x[0];\n",
    "cx S[1], x[0];\n",
    "cx S[1], x[1];\n",
    "cx S[2], x[1];\n",
    "z S[3];\n",
    "cx S[3], x[0];\n",
    "cx S[3], x[1];\n",
    "\"\"\", simplify=True)\n",
    "zx.d3.draw(g)"
   ]
  },
  {
   "cell_type": "code",
   "execution_count": null,
   "metadata": {},
   "outputs": [],
   "source": []
  }
 ],
 "metadata": {
  "kernelspec": {
   "display_name": "Python 3",
   "language": "python",
   "name": "python3"
  },
  "language_info": {
   "codemirror_mode": {
    "name": "ipython",
    "version": 3
   },
   "file_extension": ".py",
   "mimetype": "text/x-python",
   "name": "python",
   "nbconvert_exporter": "python",
   "pygments_lexer": "ipython3",
   "version": "3.7.5"
  }
 },
 "nbformat": 4,
 "nbformat_minor": 2
}
