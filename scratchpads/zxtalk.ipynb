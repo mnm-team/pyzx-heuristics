{
 "cells": [
  {
   "cell_type": "code",
   "execution_count": null,
   "metadata": {},
   "outputs": [],
   "source": [
    "import sys, os, math\n",
    "import sys\n",
    "sys.path.insert(0, '..')\n",
    "sys.path.insert(0, '../../quizx/pybindings')\n",
    "import pyzx as zx\n",
    "import quizx as qzx\n",
    "import numpy as np\n",
    "from pyzx import print_matrix\n",
    "from pyzx.basicrules import *\n",
    "import time\n",
    "from fractions import Fraction\n",
    "\n",
    "Z = zx.VertexType.Z\n",
    "X = zx.VertexType.X\n",
    "B = zx.VertexType.BOUNDARY\n",
    "SE = zx.EdgeType.SIMPLE\n",
    "HE = zx.EdgeType.HADAMARD"
   ]
  },
  {
   "cell_type": "code",
   "execution_count": null,
   "metadata": {},
   "outputs": [],
   "source": [
    "c = zx.qasm(\"\"\"\n",
    "qreg q[4];\n",
    "cx q[0], q[1];\n",
    "cx q[2], q[1];\n",
    "cx q[2], q[3];\n",
    "cx q[3], q[0];\n",
    "cx q[3], q[1];\n",
    "cx q[2], q[1];\n",
    "cx q[1], q[2];\n",
    "\"\"\")\n",
    "g = c.to_graph()\n",
    "zx.draw(g, labels=True)"
   ]
  },
  {
   "cell_type": "code",
   "execution_count": null,
   "metadata": {},
   "outputs": [],
   "source": [
    "fuse(g, 7, 9)"
   ]
  },
  {
   "cell_type": "code",
   "execution_count": null,
   "metadata": {},
   "outputs": [],
   "source": [
    "zx.draw(g)"
   ]
  },
  {
   "cell_type": "code",
   "execution_count": null,
   "metadata": {},
   "outputs": [],
   "source": [
    "g = c.to_graph()\n",
    "while any(fuse(g, g.edge_s(e), g.edge_t(e)) for e in g.edges()): pass\n",
    "zx.draw(g)"
   ]
  },
  {
   "cell_type": "code",
   "execution_count": null,
   "metadata": {},
   "outputs": [],
   "source": [
    "def finished(g, v):\n",
    "    return ((g.type(v) == X) and any(w in g.outputs() for w in g.neighbors(v)) or\n",
    "            (g.type(v) == Z) and any(w in g.inputs()  for w in g.neighbors(v)))\n",
    "\n",
    "def strong_comp_safe(g, v0, v1):\n",
    "    if finished(g, v0) or finished(g, v1): return False\n",
    "    else: return strong_comp(g, v0, v1)\n",
    "\n",
    "def phase_free_simp(g):\n",
    "    while (\n",
    "        any(fuse(g, g.edge_s(e), g.edge_t(e)) for e in g.edges()) or\n",
    "        any(strong_comp_safe(g, g.edge_s(e), g.edge_t(e)) for e in g.edges())\n",
    "    ): pass"
   ]
  },
  {
   "cell_type": "code",
   "execution_count": null,
   "metadata": {
    "scrolled": true
   },
   "outputs": [],
   "source": [
    "g = c.to_graph()\n",
    "phase_free_simp(g)\n",
    "zx.draw(g)"
   ]
  },
  {
   "cell_type": "code",
   "execution_count": null,
   "metadata": {},
   "outputs": [],
   "source": [
    "c = zx.generate.CNOT_HAD_PHASE_circuit(qubits=5, depth=400, clifford=True)\n",
    "g = c.to_graph()"
   ]
  },
  {
   "cell_type": "code",
   "execution_count": null,
   "metadata": {},
   "outputs": [],
   "source": [
    "zx.draw(g)"
   ]
  },
  {
   "cell_type": "code",
   "execution_count": null,
   "metadata": {},
   "outputs": [],
   "source": [
    "zx.simplify.clifford_simp(g)\n",
    "g.normalize()\n",
    "zx.draw(g)"
   ]
  },
  {
   "cell_type": "code",
   "execution_count": null,
   "metadata": {},
   "outputs": [],
   "source": [
    "c1 = zx.extract_circuit(g.copy(), up_to_perm=True)\n",
    "zx.draw(c1)"
   ]
  },
  {
   "cell_type": "code",
   "execution_count": null,
   "metadata": {},
   "outputs": [],
   "source": [
    "g = c.to_graph(backend=\"quizx-vec\")"
   ]
  },
  {
   "cell_type": "code",
   "execution_count": null,
   "metadata": {},
   "outputs": [],
   "source": [
    "zx.draw(g)"
   ]
  },
  {
   "cell_type": "code",
   "execution_count": null,
   "metadata": {},
   "outputs": [],
   "source": [
    "gs = g.copy()\n",
    "%time zx.simplify.clifford_simp(gs)\n",
    "gs.normalize()\n",
    "zx.draw(gs)"
   ]
  },
  {
   "cell_type": "code",
   "execution_count": null,
   "metadata": {},
   "outputs": [],
   "source": [
    "gs = g.copy()\n",
    "%time qzx.simplify.clifford_simp(gs)\n",
    "gs.normalize()\n",
    "zx.draw(gs)"
   ]
  },
  {
   "cell_type": "code",
   "execution_count": null,
   "metadata": {},
   "outputs": [],
   "source": [
    "n = 50\n",
    "g = 30\n",
    "pfirst = 1/n\n",
    "psecond = (1-pfirst)*1/(n-1)\n",
    "pthird = (1-pfirst)*(1-psecond)*(1/(n-2))\n",
    "p0 = pfirst + psecond + pthird\n",
    "p = 1\n",
    "for i in range(g): p *= 1-p0\n",
    "p = 1-p\n",
    "p"
   ]
  },
  {
   "cell_type": "code",
   "execution_count": null,
   "metadata": {},
   "outputs": [],
   "source": []
  }
 ],
 "metadata": {
  "kernelspec": {
   "display_name": "Python 3",
   "language": "python",
   "name": "python3"
  },
  "language_info": {
   "codemirror_mode": {
    "name": "ipython",
    "version": 3
   },
   "file_extension": ".py",
   "mimetype": "text/x-python",
   "name": "python",
   "nbconvert_exporter": "python",
   "pygments_lexer": "ipython3",
   "version": "3.8.10"
  }
 },
 "nbformat": 4,
 "nbformat_minor": 4
}
